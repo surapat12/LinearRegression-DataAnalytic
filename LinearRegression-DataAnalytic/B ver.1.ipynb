{
  "nbformat": 4,
  "nbformat_minor": 0,
  "metadata": {
    "colab": {
      "provenance": []
    },
    "kernelspec": {
      "name": "python3",
      "display_name": "Python 3"
    },
    "language_info": {
      "name": "python"
    }
  },
  "cells": [
    {
      "cell_type": "code",
      "execution_count": null,
      "metadata": {
        "id": "lhyPCiPAgjJn"
      },
      "outputs": [],
      "source": [
        "import numpy as np\n",
        "import pandas as pd\n",
        "import matplotlib.pyplot as plt\n",
        "import seaborn as sns\n",
        "%matplotlib inline\n",
        "\n",
        "from sklearn.model_selection import train_test_split\n",
        "from sklearn.linear_model import LinearRegression\n",
        "from sklearn.impute import KNNImputer\n",
        "from sklearn import metrics\n",
        "from sklearn.neighbors import NearestNeighbors\n",
        "from sklearn.model_selection import KFold"
      ]
    },
    {
      "cell_type": "code",
      "source": [
        "df = pd.read_csv('B-train.csv')"
      ],
      "metadata": {
        "id": "XsS3yjpOh3gJ"
      },
      "execution_count": null,
      "outputs": []
    },
    {
      "cell_type": "code",
      "source": [
        "df.info()"
      ],
      "metadata": {
        "colab": {
          "base_uri": "https://localhost:8080/"
        },
        "id": "NDZ1xqnJh9rj",
        "outputId": "da762d60-1692-49d3-fef8-ea83e9509e94"
      },
      "execution_count": null,
      "outputs": [
        {
          "output_type": "stream",
          "name": "stdout",
          "text": [
            "<class 'pandas.core.frame.DataFrame'>\n",
            "RangeIndex: 190 entries, 0 to 189\n",
            "Data columns (total 9 columns):\n",
            " #   Column  Non-Null Count  Dtype  \n",
            "---  ------  --------------  -----  \n",
            " 0   x1      180 non-null    float64\n",
            " 1   x2      180 non-null    float64\n",
            " 2   x3      181 non-null    float64\n",
            " 3   x4      180 non-null    float64\n",
            " 4   x5      181 non-null    float64\n",
            " 5   x6      180 non-null    float64\n",
            " 6   x7      180 non-null    float64\n",
            " 7   x8      180 non-null    float64\n",
            " 8   y       188 non-null    float64\n",
            "dtypes: float64(9)\n",
            "memory usage: 13.5 KB\n"
          ]
        }
      ]
    },
    {
      "cell_type": "code",
      "source": [
        "df = df.dropna(subset=['y'])"
      ],
      "metadata": {
        "id": "COWibGcOiZFR"
      },
      "execution_count": null,
      "outputs": []
    },
    {
      "cell_type": "code",
      "source": [
        "df.info()"
      ],
      "metadata": {
        "colab": {
          "base_uri": "https://localhost:8080/"
        },
        "id": "681jIb3Jif5y",
        "outputId": "fc53c51c-b0bb-43f7-9688-158e06a0e860"
      },
      "execution_count": null,
      "outputs": [
        {
          "output_type": "stream",
          "name": "stdout",
          "text": [
            "<class 'pandas.core.frame.DataFrame'>\n",
            "Int64Index: 188 entries, 0 to 189\n",
            "Data columns (total 9 columns):\n",
            " #   Column  Non-Null Count  Dtype  \n",
            "---  ------  --------------  -----  \n",
            " 0   x1      178 non-null    float64\n",
            " 1   x2      179 non-null    float64\n",
            " 2   x3      179 non-null    float64\n",
            " 3   x4      178 non-null    float64\n",
            " 4   x5      179 non-null    float64\n",
            " 5   x6      178 non-null    float64\n",
            " 6   x7      178 non-null    float64\n",
            " 7   x8      178 non-null    float64\n",
            " 8   y       188 non-null    float64\n",
            "dtypes: float64(9)\n",
            "memory usage: 14.7 KB\n"
          ]
        }
      ]
    },
    {
      "cell_type": "code",
      "source": [
        "a=0.05\n",
        "b=0.95"
      ],
      "metadata": {
        "id": "spuQvX80ir9R"
      },
      "execution_count": null,
      "outputs": []
    },
    {
      "cell_type": "code",
      "source": [
        "low,high = df['x1'].quantile([a,b])\n",
        "print(low,high)\n",
        "df = df.drop(df.index[df['x1']<low])\n",
        "df = df.drop(df.index[df['x1']>high])\n",
        "df.boxplot(column='x1')"
      ],
      "metadata": {
        "colab": {
          "base_uri": "https://localhost:8080/",
          "height": 300
        },
        "id": "1i-wlTtYijRy",
        "outputId": "6d5dd8ed-9cf7-483f-ee95-36efff35a8b5"
      },
      "execution_count": null,
      "outputs": [
        {
          "output_type": "stream",
          "name": "stdout",
          "text": [
            "-192.8375 171.78750000000008\n"
          ]
        },
        {
          "output_type": "execute_result",
          "data": {
            "text/plain": [
              "<matplotlib.axes._subplots.AxesSubplot at 0x7fe330595c50>"
            ]
          },
          "metadata": {},
          "execution_count": 133
        },
        {
          "output_type": "display_data",
          "data": {
            "text/plain": [
              "<Figure size 432x288 with 1 Axes>"
            ],
            "image/png": "[encoded data removed]"
          },
          "metadata": {
            "needs_background": "light"
          }
        }
      ]
    },
    {
      "cell_type": "code",
      "source": [
        "low,high = df['x2'].quantile([a,b])\n",
        "print(low,high)\n",
        "df = df.drop(df.index[df['x2']<low])\n",
        "df = df.drop(df.index[df['x2']>high])\n",
        "df.boxplot(column='x2')"
      ],
      "metadata": {
        "colab": {
          "base_uri": "https://localhost:8080/",
          "height": 300
        },
        "id": "8NpsbZuxiqhC",
        "outputId": "d587555c-9c73-41fd-ea3e-7d12189a94f3"
      },
      "execution_count": null,
      "outputs": [
        {
          "output_type": "stream",
          "name": "stdout",
          "text": [
            "-182.366 163.74400000000003\n"
          ]
        },
        {
          "output_type": "execute_result",
          "data": {
            "text/plain": [
              "<matplotlib.axes._subplots.AxesSubplot at 0x7fe33006d690>"
            ]
          },
          "metadata": {},
          "execution_count": 134
        },
        {
          "output_type": "display_data",
          "data": {
            "text/plain": [
              "<Figure size 432x288 with 1 Axes>"
            ],
            "image/png": "[encoded data removed]"
          },
          "metadata": {
            "needs_background": "light"
          }
        }
      ]
    },
    {
      "cell_type": "code",
      "source": [
        "low,high = df['x3'].quantile([a,b])\n",
        "print(low,high)\n",
        "df = df.drop(df.index[df['x3']<low])\n",
        "df = df.drop(df.index[df['x3']>high])\n",
        "df.boxplot(column='x1')"
      ],
      "metadata": {
        "colab": {
          "base_uri": "https://localhost:8080/",
          "height": 300
        },
        "id": "anfSEJrsiqnC",
        "outputId": "1783446a-489c-4c9c-91e5-094bdd9aacba"
      },
      "execution_count": null,
      "outputs": [
        {
          "output_type": "stream",
          "name": "stdout",
          "text": [
            "-21.572 14.759999999999991\n"
          ]
        },
        {
          "output_type": "execute_result",
          "data": {
            "text/plain": [
              "<matplotlib.axes._subplots.AxesSubplot at 0x7fe32ffdc5d0>"
            ]
          },
          "metadata": {},
          "execution_count": 135
        },
        {
          "output_type": "display_data",
          "data": {
            "text/plain": [
              "<Figure size 432x288 with 1 Axes>"
            ],
            "image/png": "[encoded data removed]"
          },
          "metadata": {
            "needs_background": "light"
          }
        }
      ]
    },
    {
      "cell_type": "code",
      "source": [
        "low,high = df['x4'].quantile([a,b])\n",
        "print(low,high)\n",
        "df = df.drop(df.index[df['x4']<low])\n",
        "df = df.drop(df.index[df['x4']>high])\n",
        "df.boxplot(column='x4')"
      ],
      "metadata": {
        "colab": {
          "base_uri": "https://localhost:8080/",
          "height": 300
        },
        "id": "3whpKNJoiqqe",
        "outputId": "4f42483f-9a71-4ffd-9f87-b6d16aba61b5"
      },
      "execution_count": null,
      "outputs": [
        {
          "output_type": "stream",
          "name": "stdout",
          "text": [
            "-16.444 17.076999999999995\n"
          ]
        },
        {
          "output_type": "execute_result",
          "data": {
            "text/plain": [
              "<matplotlib.axes._subplots.AxesSubplot at 0x7fe32ffefb90>"
            ]
          },
          "metadata": {},
          "execution_count": 136
        },
        {
          "output_type": "display_data",
          "data": {
            "text/plain": [
              "<Figure size 432x288 with 1 Axes>"
            ],
            "image/png": "[encoded data removed]"
          },
          "metadata": {
            "needs_background": "light"
          }
        }
      ]
    },
    {
      "cell_type": "code",
      "source": [
        "low,high = df['x5'].quantile([a,b])\n",
        "print(low,high)\n",
        "df = df.drop(df.index[df['x5']<low])\n",
        "df = df.drop(df.index[df['x5']>high])\n",
        "df.boxplot(column='x5')"
      ],
      "metadata": {
        "colab": {
          "base_uri": "https://localhost:8080/",
          "height": 300
        },
        "id": "m4N16ZyGiqtc",
        "outputId": "5491be7f-7225-47fe-c68d-490a112510ae"
      },
      "execution_count": null,
      "outputs": [
        {
          "output_type": "stream",
          "name": "stdout",
          "text": [
            "-21.1885 16.121999999999996\n"
          ]
        },
        {
          "output_type": "execute_result",
          "data": {
            "text/plain": [
              "<matplotlib.axes._subplots.AxesSubplot at 0x7fe32ff5c410>"
            ]
          },
          "metadata": {},
          "execution_count": 137
        },
        {
          "output_type": "display_data",
          "data": {
            "text/plain": [
              "<Figure size 432x288 with 1 Axes>"
            ],
            "image/png": "[encoded data removed]"
          },
          "metadata": {
            "needs_background": "light"
          }
        }
      ]
    },
    {
      "cell_type": "code",
      "source": [
        "low,high = df['x6'].quantile([a,b])\n",
        "print(low,high)\n",
        "df = df.drop(df.index[df['x6']<low])\n",
        "df = df.drop(df.index[df['x6']>high])\n",
        "df.boxplot(column='x6')"
      ],
      "metadata": {
        "colab": {
          "base_uri": "https://localhost:8080/",
          "height": 300
        },
        "id": "NFtWVDS5iqwj",
        "outputId": "f222a4c5-44e5-4421-9fa9-034eabda73e1"
      },
      "execution_count": null,
      "outputs": [
        {
          "output_type": "stream",
          "name": "stdout",
          "text": [
            "-13.36 17.45\n"
          ]
        },
        {
          "output_type": "execute_result",
          "data": {
            "text/plain": [
              "<matplotlib.axes._subplots.AxesSubplot at 0x7fe32fec45d0>"
            ]
          },
          "metadata": {},
          "execution_count": 138
        },
        {
          "output_type": "display_data",
          "data": {
            "text/plain": [
              "<Figure size 432x288 with 1 Axes>"
            ],
            "image/png": "[encoded data removed]"
          },
          "metadata": {
            "needs_background": "light"
          }
        }
      ]
    },
    {
      "cell_type": "code",
      "source": [
        "low,high = df['x7'].quantile([a,b])\n",
        "print(low,high)\n",
        "df = df.drop(df.index[df['x7']<low])\n",
        "df = df.drop(df.index[df['x7']>high])\n",
        "df.boxplot(column='x7')"
      ],
      "metadata": {
        "colab": {
          "base_uri": "https://localhost:8080/",
          "height": 300
        },
        "id": "-TjAYCaIiqz0",
        "outputId": "36886a79-c19a-45ab-8d4e-d2862bb7e66b"
      },
      "execution_count": null,
      "outputs": [
        {
          "output_type": "stream",
          "name": "stdout",
          "text": [
            "-177.1825 159.6575\n"
          ]
        },
        {
          "output_type": "execute_result",
          "data": {
            "text/plain": [
              "<matplotlib.axes._subplots.AxesSubplot at 0x7fe32ff4f850>"
            ]
          },
          "metadata": {},
          "execution_count": 139
        },
        {
          "output_type": "display_data",
          "data": {
            "text/plain": [
              "<Figure size 432x288 with 1 Axes>"
            ],
            "image/png": "[encoded data removed]"
          },
          "metadata": {
            "needs_background": "light"
          }
        }
      ]
    },
    {
      "cell_type": "code",
      "source": [
        "low,high = df['x8'].quantile([a,b])\n",
        "print(low,high)\n",
        "df = df.drop(df.index[df['x8']<low])\n",
        "df = df.drop(df.index[df['x8']>high])\n",
        "df.boxplot(column='x8')"
      ],
      "metadata": {
        "colab": {
          "base_uri": "https://localhost:8080/",
          "height": 300
        },
        "id": "z6qb28b1iq7Z",
        "outputId": "3ed9cb13-7641-4710-b6b9-74c1b9909def"
      },
      "execution_count": null,
      "outputs": [
        {
          "output_type": "stream",
          "name": "stdout",
          "text": [
            "95.05550000000001 52132.26349999999\n"
          ]
        },
        {
          "output_type": "execute_result",
          "data": {
            "text/plain": [
              "<matplotlib.axes._subplots.AxesSubplot at 0x7fe32fe30590>"
            ]
          },
          "metadata": {},
          "execution_count": 140
        },
        {
          "output_type": "display_data",
          "data": {
            "text/plain": [
              "<Figure size 432x288 with 1 Axes>"
            ],
            "image/png": "[encoded data removed]"
          },
          "metadata": {
            "needs_background": "light"
          }
        }
      ]
    },
    {
      "cell_type": "code",
      "source": [
        "df.info()"
      ],
      "metadata": {
        "colab": {
          "base_uri": "https://localhost:8080/"
        },
        "id": "zCrbZrNPlnkJ",
        "outputId": "7a7fc71a-3883-4827-c7a6-d13d71d462e8"
      },
      "execution_count": null,
      "outputs": [
        {
          "output_type": "stream",
          "name": "stdout",
          "text": [
            "<class 'pandas.core.frame.DataFrame'>\n",
            "Int64Index: 80 entries, 3 to 188\n",
            "Data columns (total 9 columns):\n",
            " #   Column  Non-Null Count  Dtype  \n",
            "---  ------  --------------  -----  \n",
            " 0   x1      75 non-null     float64\n",
            " 1   x2      77 non-null     float64\n",
            " 2   x3      76 non-null     float64\n",
            " 3   x4      74 non-null     float64\n",
            " 4   x5      77 non-null     float64\n",
            " 5   x6      71 non-null     float64\n",
            " 6   x7      76 non-null     float64\n",
            " 7   x8      74 non-null     float64\n",
            " 8   y       80 non-null     float64\n",
            "dtypes: float64(9)\n",
            "memory usage: 6.2 KB\n"
          ]
        }
      ]
    },
    {
      "cell_type": "code",
      "source": [
        "sns.pairplot(df,x_vars=df.columns,y_vars=['y'])"
      ],
      "metadata": {
        "colab": {
          "base_uri": "https://localhost:8080/",
          "height": 155
        },
        "id": "A8LkcdElkY75",
        "outputId": "d2893c3e-c658-46c0-cd5f-f567e37deee3"
      },
      "execution_count": null,
      "outputs": [
        {
          "output_type": "execute_result",
          "data": {
            "text/plain": [
              "<seaborn.axisgrid.PairGrid at 0x7fe32fd8abd0>"
            ]
          },
          "metadata": {},
          "execution_count": 142
        },
        {
          "output_type": "display_data",
          "data": {
            "text/plain": [
              "<Figure size 1620x180 with 10 Axes>"
            ],
            "image/png": "[encoded data removed]"
          },
          "metadata": {
            "needs_background": "light"
          }
        }
      ]
    },
    {
      "cell_type": "code",
      "source": [
        "df.corr().sort_values('y')[['y']]"
      ],
      "metadata": {
        "colab": {
          "base_uri": "https://localhost:8080/",
          "height": 332
        },
        "id": "zo1LMKY2kfx5",
        "outputId": "3f95e522-95f2-4588-9df7-35b4e5b370ec"
      },
      "execution_count": null,
      "outputs": [
        {
          "output_type": "execute_result",
          "data": {
            "text/plain": [
              "           y\n",
              "x1 -0.691657\n",
              "x3 -0.095890\n",
              "x4 -0.053267\n",
              "x5 -0.048840\n",
              "x6 -0.033814\n",
              "x8  0.022046\n",
              "x7  0.127571\n",
              "x2  0.643378\n",
              "y   1.000000"
            ],
            "text/html": [
              "\n",
              "  <div id=\"df-4f2fed8c-bbc0-41e5-9486-4104189c0d87\">\n",
              "    <div class=\"colab-df-container\">\n",
              "      <div>\n",
              "<style scoped>\n",
              "    .dataframe tbody tr th:only-of-type {\n",
              "        vertical-align: middle;\n",
              "    }\n",
              "\n",
              "    .dataframe tbody tr th {\n",
              "        vertical-align: top;\n",
              "    }\n",
              "\n",
              "    .dataframe thead th {\n",
              "        text-align: right;\n",
              "    }\n",
              "</style>\n",
              "<table border=\"1\" class=\"dataframe\">\n",
              "  <thead>\n",
              "    <tr style=\"text-align: right;\">\n",
              "      <th></th>\n",
              "      <th>y</th>\n",
              "    </tr>\n",
              "  </thead>\n",
              "  <tbody>\n",
              "    <tr>\n",
              "      <th>x1</th>\n",
              "      <td>-0.691657</td>\n",
              "    </tr>\n",
              "    <tr>\n",
              "      <th>x3</th>\n",
              "      <td>-0.095890</td>\n",
              "    </tr>\n",
              "    <tr>\n",
              "      <th>x4</th>\n",
              "      <td>-0.053267</td>\n",
              "    </tr>\n",
              "    <tr>\n",
              "      <th>x5</th>\n",
              "      <td>-0.048840</td>\n",
              "    </tr>\n",
              "    <tr>\n",
              "      <th>x6</th>\n",
              "      <td>-0.033814</td>\n",
              "    </tr>\n",
              "    <tr>\n",
              "      <th>x8</th>\n",
              "      <td>0.022046</td>\n",
              "    </tr>\n",
              "    <tr>\n",
              "      <th>x7</th>\n",
              "      <td>0.127571</td>\n",
              "    </tr>\n",
              "    <tr>\n",
              "      <th>x2</th>\n",
              "      <td>0.643378</td>\n",
              "    </tr>\n",
              "    <tr>\n",
              "      <th>y</th>\n",
              "      <td>1.000000</td>\n",
              "    </tr>\n",
              "  </tbody>\n",
              "</table>\n",
              "</div>\n",
              "      <button class=\"colab-df-convert\" onclick=\"convertToInteractive('df-4f2fed8c-bbc0-41e5-9486-4104189c0d87')\"\n",
              "              title=\"Convert this dataframe to an interactive table.\"\n",
              "              style=\"display:none;\">\n",
              "        \n",
              "  <svg xmlns=\"http://www.w3.org/2000/svg\" height=\"24px\"viewBox=\"0 0 24 24\"\n",
              "       width=\"24px\">\n",
              "    <path d=\"M0 0h24v24H0V0z\" fill=\"none\"/>\n",
              "    <path d=\"M18.56 5.44l.94 2.06.94-2.06 2.06-.94-2.06-.94-.94-2.06-.94 2.06-2.06.94zm-11 1L8.5 8.5l.94-2.06 2.06-.94-2.06-.94L8.5 2.5l-.94 2.06-2.06.94zm10 10l.94 2.06.94-2.06 2.06-.94-2.06-.94-.94-2.06-.94 2.06-2.06.94z\"/><path d=\"M17.41 7.96l-1.37-1.37c-.4-.4-.92-.59-1.43-.59-.52 0-1.04.2-1.43.59L10.3 9.45l-7.72 7.72c-.78.78-.78 2.05 0 2.83L4 21.41c.39.39.9.59 1.41.59.51 0 1.02-.2 1.41-.59l7.78-7.78 2.81-2.81c.8-.78.8-2.07 0-2.86zM5.41 20L4 18.59l7.72-7.72 1.47 1.35L5.41 20z\"/>\n",
              "  </svg>\n",
              "      </button>\n",
              "      \n",
              "  <style>\n",
              "    .colab-df-container {\n",
              "      display:flex;\n",
              "      flex-wrap:wrap;\n",
              "      gap: 12px;\n",
              "    }\n",
              "\n",
              "    .colab-df-convert {\n",
              "      background-color: #E8F0FE;\n",
              "      border: none;\n",
              "      border-radius: 50%;\n",
              "      cursor: pointer;\n",
              "      display: none;\n",
              "      fill: #1967D2;\n",
              "      height: 32px;\n",
              "      padding: 0 0 0 0;\n",
              "      width: 32px;\n",
              "    }\n",
              "\n",
              "    .colab-df-convert:hover {\n",
              "      background-color: #E2EBFA;\n",
              "      box-shadow: 0px 1px 2px rgba(60, 64, 67, 0.3), 0px 1px 3px 1px rgba(60, 64, 67, 0.15);\n",
              "      fill: #174EA6;\n",
              "    }\n",
              "\n",
              "    [theme=dark] .colab-df-convert {\n",
              "      background-color: #3B4455;\n",
              "      fill: #D2E3FC;\n",
              "    }\n",
              "\n",
              "    [theme=dark] .colab-df-convert:hover {\n",
              "      background-color: #434B5C;\n",
              "      box-shadow: 0px 1px 3px 1px rgba(0, 0, 0, 0.15);\n",
              "      filter: drop-shadow(0px 1px 2px rgba(0, 0, 0, 0.3));\n",
              "      fill: #FFFFFF;\n",
              "    }\n",
              "  </style>\n",
              "\n",
              "      <script>\n",
              "        const buttonEl =\n",
              "          document.querySelector('#df-4f2fed8c-bbc0-41e5-9486-4104189c0d87 button.colab-df-convert');\n",
              "        buttonEl.style.display =\n",
              "          google.colab.kernel.accessAllowed ? 'block' : 'none';\n",
              "\n",
              "        async function convertToInteractive(key) {\n",
              "          const element = document.querySelector('#df-4f2fed8c-bbc0-41e5-9486-4104189c0d87');\n",
              "          const dataTable =\n",
              "            await google.colab.kernel.invokeFunction('convertToInteractive',\n",
              "                                                     [key], {});\n",
              "          if (!dataTable) return;\n",
              "\n",
              "          const docLinkHtml = 'Like what you see? Visit the ' +\n",
              "            '<a target=\"_blank\" href=https://colab.research.google.com/notebooks/data_table.ipynb>data table notebook</a>'\n",
              "            + ' to learn more about interactive tables.';\n",
              "          element.innerHTML = '';\n",
              "          dataTable['output_type'] = 'display_data';\n",
              "          await google.colab.output.renderOutput(dataTable, element);\n",
              "          const docLink = document.createElement('div');\n",
              "          docLink.innerHTML = docLinkHtml;\n",
              "          element.appendChild(docLink);\n",
              "        }\n",
              "      </script>\n",
              "    </div>\n",
              "  </div>\n",
              "  "
            ]
          },
          "metadata": {},
          "execution_count": 143
        }
      ]
    },
    {
      "cell_type": "code",
      "source": [
        "# df['x1'] = df['x1'].fillna(0)\n",
        "# df['x2'] = df['x2'].fillna(0)\n",
        "# df['x3'] = df['x3'].fillna(0)\n",
        "# df['x4'] = df['x4'].fillna(0)\n",
        "# df['x5'] = df['x5'].fillna(0)\n",
        "# df['x6'] = df['x6'].fillna(0)\n",
        "# df['x7'] = df['x7'].fillna(0)\n",
        "# df['x8'] = df['x8'].fillna(0)\n",
        "\n",
        "df['x1'] =df['x1'].fillna(df['x1'].mean())\n",
        "df['x2'] =df['x2'].fillna(df['x2'].mean())\n",
        "df['x3'] =df['x3'].fillna(df['x3'].mean())\n",
        "df['x4'] =df['x4'].fillna(df['x4'].mean())\n",
        "df['x5'] =df['x5'].fillna(df['x5'].mean())\n",
        "df['x6'] =df['x6'].fillna(df['x6'].mean())\n",
        "df['x7'] =df['x7'].fillna(df['x7'].mean())\n",
        "df['x8'] =df['x8'].fillna(df['x8'].mean())\n",
        "\n",
        "# df = df.dropna()\n",
        "\n",
        "X=df[['x1','x2','x3','x4','x5','x6','x7','x8']]\n",
        "y=df['y']\n",
        "#0             default 4.531383024420028\n",
        "#mean       default 4.486311906106653\n",
        "from sklearn import preprocessing\n",
        "scaler = preprocessing.StandardScaler().fit(X)\n",
        "X_scaled = scaler.transform(X)\n",
        "lm = LinearRegression()\n",
        "lm.fit(X_scaled,y)\n",
        "y_pred = lm.predict(X_scaled)\n",
        "rmse = metrics.mean_squared_error(y,y_pred,squared=False)\n",
        "print(rmse)\n",
        "mape = np.mean(np.abs((y-y_pred)/y))*100\n",
        "mape"
      ],
      "metadata": {
        "colab": {
          "base_uri": "https://localhost:8080/"
        },
        "id": "8KGTbTOjhvxw",
        "outputId": "0bcf42a2-e59f-414f-bf41-a1f60752d7dc"
      },
      "execution_count": null,
      "outputs": [
        {
          "output_type": "stream",
          "name": "stdout",
          "text": [
            "4.486311906106653\n"
          ]
        },
        {
          "output_type": "execute_result",
          "data": {
            "text/plain": [
              "inf"
            ]
          },
          "metadata": {},
          "execution_count": 144
        }
      ]
    },
    {
      "cell_type": "code",
      "source": [
        "df.info()"
      ],
      "metadata": {
        "colab": {
          "base_uri": "https://localhost:8080/"
        },
        "id": "L19HDxZnmRSe",
        "outputId": "01c1f22b-604e-4d29-b8f4-42b08a655e4b"
      },
      "execution_count": null,
      "outputs": [
        {
          "output_type": "stream",
          "name": "stdout",
          "text": [
            "<class 'pandas.core.frame.DataFrame'>\n",
            "Int64Index: 80 entries, 3 to 188\n",
            "Data columns (total 9 columns):\n",
            " #   Column  Non-Null Count  Dtype  \n",
            "---  ------  --------------  -----  \n",
            " 0   x1      80 non-null     float64\n",
            " 1   x2      80 non-null     float64\n",
            " 2   x3      80 non-null     float64\n",
            " 3   x4      80 non-null     float64\n",
            " 4   x5      80 non-null     float64\n",
            " 5   x6      80 non-null     float64\n",
            " 6   x7      80 non-null     float64\n",
            " 7   x8      80 non-null     float64\n",
            " 8   y       80 non-null     float64\n",
            "dtypes: float64(9)\n",
            "memory usage: 6.2 KB\n"
          ]
        }
      ]
    },
    {
      "cell_type": "code",
      "source": [
        "rmse=[]\n",
        "mape=[]\n",
        "mae=[]\n",
        "X=df[['x1','x2','x3','x6']]\n",
        "# ตัด8,5,4,7(mean)\n",
        "# 4.98651487394665\n",
        "# 4.139833064021582\n",
        "from sklearn.model_selection import KFold\n",
        "kf = KFold(n_splits=5)\n",
        "for train_index,test_index in kf.split(X):\n",
        "  X_train = X.iloc[train_index]\n",
        "  X_test = X.iloc[test_index]\n",
        "  y_train = y.iloc[train_index]\n",
        "  y_test = y.iloc[test_index]\n",
        "\n",
        "  lm = LinearRegression()\n",
        "  lm.fit(X_train,y_train)\n",
        "  y_pred = lm.predict(X_test)\n",
        "  rmse.append(metrics.mean_squared_error(y_test,y_pred,squared=False))\n",
        "  mape.append(np.mean(np.abs((y_test-y_pred)/y))*100)\n",
        "  mae.append(np.mean(np.abs(y_test-y_pred)))\n",
        "print(np.mean(rmse))\n",
        "print(np.mean(mape))\n",
        "print(np.mean(mae))"
      ],
      "metadata": {
        "colab": {
          "base_uri": "https://localhost:8080/"
        },
        "id": "hIbCac1ThvAh",
        "outputId": "592ef7e9-4ca6-41e3-dda6-2042a15220e7"
      },
      "execution_count": null,
      "outputs": [
        {
          "output_type": "stream",
          "name": "stdout",
          "text": [
            "4.98651487394665\n",
            "inf\n",
            "4.139833064021582\n"
          ]
        }
      ]
    },
    {
      "cell_type": "code",
      "source": [
        "rmse=[]\n",
        "mape=[]\n",
        "mae=[]\n",
        "X=df[['x1','x2','x3']]\n",
        "# ตัด8,7,6,5,4(fill0)\n",
        "# 5.032396466098031\n",
        "# 4.151214203051654\n",
        "from sklearn.model_selection import KFold\n",
        "kf = KFold(n_splits=5)\n",
        "for train_index,test_index in kf.split(X):\n",
        "  X_train = X.iloc[train_index]\n",
        "  X_test = X.iloc[test_index]\n",
        "  y_train = y.iloc[train_index]\n",
        "  y_test = y.iloc[test_index]\n",
        "\n",
        "  lm = LinearRegression()\n",
        "  lm.fit(X_train,y_train)\n",
        "  y_pred = lm.predict(X_test)\n",
        "  rmse.append(metrics.mean_squared_error(y_test,y_pred,squared=False))\n",
        "  mape.append(np.mean(np.abs((y_test-y_pred)/y))*100)\n",
        "  mae.append(np.mean(np.abs(y_test-y_pred)))\n",
        "print(np.mean(rmse))\n",
        "print(np.mean(mape))\n",
        "print(np.mean(mae))"
      ],
      "metadata": {
        "colab": {
          "base_uri": "https://localhost:8080/"
        },
        "id": "uMRRm1x6jM9-",
        "outputId": "59027f38-15f0-4e63-d021-9e33955075e8"
      },
      "execution_count": null,
      "outputs": [
        {
          "output_type": "stream",
          "name": "stdout",
          "text": [
            "4.988895743949629\n",
            "inf\n",
            "4.142488397665355\n"
          ]
        }
      ]
    },
    {
      "cell_type": "code",
      "source": [
        "X_train ,X_test, y_train, y_test = train_test_split(X,y,test_size=0.25)\n",
        "lm=LinearRegression()\n",
        "lm.fit(X_train,y_train)\n",
        "y_pred=lm.predict(X_test)\n",
        "rmse = metrics.mean_squared_error(y_pred,y_test,squared=False)\n",
        "print(rmse)\n",
        "mape = np.mean(np.abs((y_test - y_pred)/y))*100\n",
        "mape"
      ],
      "metadata": {
        "id": "SydQtitzo-x9",
        "outputId": "a3d6e3db-5849-4ac7-b4e8-054ac26d49f7",
        "colab": {
          "base_uri": "https://localhost:8080/"
        }
      },
      "execution_count": null,
      "outputs": [
        {
          "output_type": "stream",
          "name": "stdout",
          "text": [
            "3.4761422788463463\n"
          ]
        },
        {
          "output_type": "execute_result",
          "data": {
            "text/plain": [
              "147.02087830546452"
            ]
          },
          "metadata": {},
          "execution_count": 148
        }
      ]
    }
  ]
}