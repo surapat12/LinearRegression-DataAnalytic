{
  "nbformat": 4,
  "nbformat_minor": 0,
  "metadata": {
    "colab": {
      "provenance": []
    },
    "kernelspec": {
      "name": "python3",
      "display_name": "Python 3"
    },
    "language_info": {
      "name": "python"
    }
  },
  "cells": [
    {
      "cell_type": "code",
      "execution_count": null,
      "metadata": {
        "id": "cgXV-dFNHLam"
      },
      "outputs": [],
      "source": [
        "import numpy as np\n",
        "import pandas as pd\n",
        "import matplotlib.pyplot as plt\n",
        "import seaborn as sns\n",
        "%matplotlib inline\n",
        "\n",
        "from sklearn.model_selection import train_test_split\n",
        "from sklearn.linear_model import LinearRegression\n",
        "from sklearn import metrics"
      ]
    },
    {
      "cell_type": "code",
      "source": [
        "df = pd.read_csv('A-train.csv')"
      ],
      "metadata": {
        "id": "wjGo4GhaIXnI"
      },
      "execution_count": null,
      "outputs": []
    },
    {
      "cell_type": "code",
      "source": [
        "df"
      ],
      "metadata": {
        "colab": {
          "base_uri": "https://localhost:8080/",
          "height": 424
        },
        "id": "uJHzyzDEJIcf",
        "outputId": "7afd7027-ebe2-4016-c164-960168337ab4"
      },
      "execution_count": null,
      "outputs": [
        {
          "output_type": "execute_result",
          "data": {
            "text/plain": [
              "         x1      x2      x3          x4      x5    x6     x7     x8      y\n",
              "0     26.52   89.93  -60.46     1137.04   -3.49   NaN  -5.88 -17.13   7.44\n",
              "1    -68.18 -127.21   23.30     1471.49   16.95  2.30 -11.51  -7.70   7.31\n",
              "2    -95.05   36.10  -75.27     1158.04    6.97  3.21  -5.86   8.65  -5.77\n",
              "3    124.40   -8.19     NaN     5527.92    7.36  7.23  10.77   1.92  -0.42\n",
              "4   -103.25     NaN   -2.89     4865.06   -5.21 -1.54    NaN   4.69   4.31\n",
              "..      ...     ...     ...         ...     ...   ...    ...    ...    ...\n",
              "185   34.29  -38.65  -44.41     9775.28   -3.43  4.95   4.60 -11.73  11.78\n",
              "186    1.62  145.02   53.26     4546.80   11.81 -4.31   4.86  -0.42   3.79\n",
              "187   29.46   33.91  -20.96  6083819.57    5.10  2.93   1.23   3.23  -3.17\n",
              "188  -64.93   25.39 -118.74     1746.40  226.26 -1.91 -16.11 -10.44   0.97\n",
              "189 -101.85     NaN   -9.53     3523.61   14.56  0.04 -20.61  -1.31   1.44\n",
              "\n",
              "[190 rows x 9 columns]"
            ],
            "text/html": [
              "\n",
              "  <div id=\"df-79c93cd6-4ca0-4a87-9392-8035e7a1ba8a\">\n",
              "    <div class=\"colab-df-container\">\n",
              "      <div>\n",
              "<style scoped>\n",
              "    .dataframe tbody tr th:only-of-type {\n",
              "        vertical-align: middle;\n",
              "    }\n",
              "\n",
              "    .dataframe tbody tr th {\n",
              "        vertical-align: top;\n",
              "    }\n",
              "\n",
              "    .dataframe thead th {\n",
              "        text-align: right;\n",
              "    }\n",
              "</style>\n",
              "<table border=\"1\" class=\"dataframe\">\n",
              "  <thead>\n",
              "    <tr style=\"text-align: right;\">\n",
              "      <th></th>\n",
              "      <th>x1</th>\n",
              "      <th>x2</th>\n",
              "      <th>x3</th>\n",
              "      <th>x4</th>\n",
              "      <th>x5</th>\n",
              "      <th>x6</th>\n",
              "      <th>x7</th>\n",
              "      <th>x8</th>\n",
              "      <th>y</th>\n",
              "    </tr>\n",
              "  </thead>\n",
              "  <tbody>\n",
              "    <tr>\n",
              "      <th>0</th>\n",
              "      <td>26.52</td>\n",
              "      <td>89.93</td>\n",
              "      <td>-60.46</td>\n",
              "      <td>1137.04</td>\n",
              "      <td>-3.49</td>\n",
              "      <td>NaN</td>\n",
              "      <td>-5.88</td>\n",
              "      <td>-17.13</td>\n",
              "      <td>7.44</td>\n",
              "    </tr>\n",
              "    <tr>\n",
              "      <th>1</th>\n",
              "      <td>-68.18</td>\n",
              "      <td>-127.21</td>\n",
              "      <td>23.30</td>\n",
              "      <td>1471.49</td>\n",
              "      <td>16.95</td>\n",
              "      <td>2.30</td>\n",
              "      <td>-11.51</td>\n",
              "      <td>-7.70</td>\n",
              "      <td>7.31</td>\n",
              "    </tr>\n",
              "    <tr>\n",
              "      <th>2</th>\n",
              "      <td>-95.05</td>\n",
              "      <td>36.10</td>\n",
              "      <td>-75.27</td>\n",
              "      <td>1158.04</td>\n",
              "      <td>6.97</td>\n",
              "      <td>3.21</td>\n",
              "      <td>-5.86</td>\n",
              "      <td>8.65</td>\n",
              "      <td>-5.77</td>\n",
              "    </tr>\n",
              "    <tr>\n",
              "      <th>3</th>\n",
              "      <td>124.40</td>\n",
              "      <td>-8.19</td>\n",
              "      <td>NaN</td>\n",
              "      <td>5527.92</td>\n",
              "      <td>7.36</td>\n",
              "      <td>7.23</td>\n",
              "      <td>10.77</td>\n",
              "      <td>1.92</td>\n",
              "      <td>-0.42</td>\n",
              "    </tr>\n",
              "    <tr>\n",
              "      <th>4</th>\n",
              "      <td>-103.25</td>\n",
              "      <td>NaN</td>\n",
              "      <td>-2.89</td>\n",
              "      <td>4865.06</td>\n",
              "      <td>-5.21</td>\n",
              "      <td>-1.54</td>\n",
              "      <td>NaN</td>\n",
              "      <td>4.69</td>\n",
              "      <td>4.31</td>\n",
              "    </tr>\n",
              "    <tr>\n",
              "      <th>...</th>\n",
              "      <td>...</td>\n",
              "      <td>...</td>\n",
              "      <td>...</td>\n",
              "      <td>...</td>\n",
              "      <td>...</td>\n",
              "      <td>...</td>\n",
              "      <td>...</td>\n",
              "      <td>...</td>\n",
              "      <td>...</td>\n",
              "    </tr>\n",
              "    <tr>\n",
              "      <th>185</th>\n",
              "      <td>34.29</td>\n",
              "      <td>-38.65</td>\n",
              "      <td>-44.41</td>\n",
              "      <td>9775.28</td>\n",
              "      <td>-3.43</td>\n",
              "      <td>4.95</td>\n",
              "      <td>4.60</td>\n",
              "      <td>-11.73</td>\n",
              "      <td>11.78</td>\n",
              "    </tr>\n",
              "    <tr>\n",
              "      <th>186</th>\n",
              "      <td>1.62</td>\n",
              "      <td>145.02</td>\n",
              "      <td>53.26</td>\n",
              "      <td>4546.80</td>\n",
              "      <td>11.81</td>\n",
              "      <td>-4.31</td>\n",
              "      <td>4.86</td>\n",
              "      <td>-0.42</td>\n",
              "      <td>3.79</td>\n",
              "    </tr>\n",
              "    <tr>\n",
              "      <th>187</th>\n",
              "      <td>29.46</td>\n",
              "      <td>33.91</td>\n",
              "      <td>-20.96</td>\n",
              "      <td>6083819.57</td>\n",
              "      <td>5.10</td>\n",
              "      <td>2.93</td>\n",
              "      <td>1.23</td>\n",
              "      <td>3.23</td>\n",
              "      <td>-3.17</td>\n",
              "    </tr>\n",
              "    <tr>\n",
              "      <th>188</th>\n",
              "      <td>-64.93</td>\n",
              "      <td>25.39</td>\n",
              "      <td>-118.74</td>\n",
              "      <td>1746.40</td>\n",
              "      <td>226.26</td>\n",
              "      <td>-1.91</td>\n",
              "      <td>-16.11</td>\n",
              "      <td>-10.44</td>\n",
              "      <td>0.97</td>\n",
              "    </tr>\n",
              "    <tr>\n",
              "      <th>189</th>\n",
              "      <td>-101.85</td>\n",
              "      <td>NaN</td>\n",
              "      <td>-9.53</td>\n",
              "      <td>3523.61</td>\n",
              "      <td>14.56</td>\n",
              "      <td>0.04</td>\n",
              "      <td>-20.61</td>\n",
              "      <td>-1.31</td>\n",
              "      <td>1.44</td>\n",
              "    </tr>\n",
              "  </tbody>\n",
              "</table>\n",
              "<p>190 rows × 9 columns</p>\n",
              "</div>\n",
              "      <button class=\"colab-df-convert\" onclick=\"convertToInteractive('df-79c93cd6-4ca0-4a87-9392-8035e7a1ba8a')\"\n",
              "              title=\"Convert this dataframe to an interactive table.\"\n",
              "              style=\"display:none;\">\n",
              "        \n",
              "  <svg xmlns=\"http://www.w3.org/2000/svg\" height=\"24px\"viewBox=\"0 0 24 24\"\n",
              "       width=\"24px\">\n",
              "    <path d=\"M0 0h24v24H0V0z\" fill=\"none\"/>\n",
              "    <path d=\"M18.56 5.44l.94 2.06.94-2.06 2.06-.94-2.06-.94-.94-2.06-.94 2.06-2.06.94zm-11 1L8.5 8.5l.94-2.06 2.06-.94-2.06-.94L8.5 2.5l-.94 2.06-2.06.94zm10 10l.94 2.06.94-2.06 2.06-.94-2.06-.94-.94-2.06-.94 2.06-2.06.94z\"/><path d=\"M17.41 7.96l-1.37-1.37c-.4-.4-.92-.59-1.43-.59-.52 0-1.04.2-1.43.59L10.3 9.45l-7.72 7.72c-.78.78-.78 2.05 0 2.83L4 21.41c.39.39.9.59 1.41.59.51 0 1.02-.2 1.41-.59l7.78-7.78 2.81-2.81c.8-.78.8-2.07 0-2.86zM5.41 20L4 18.59l7.72-7.72 1.47 1.35L5.41 20z\"/>\n",
              "  </svg>\n",
              "      </button>\n",
              "      \n",
              "  <style>\n",
              "    .colab-df-container {\n",
              "      display:flex;\n",
              "      flex-wrap:wrap;\n",
              "      gap: 12px;\n",
              "    }\n",
              "\n",
              "    .colab-df-convert {\n",
              "      background-color: #E8F0FE;\n",
              "      border: none;\n",
              "      border-radius: 50%;\n",
              "      cursor: pointer;\n",
              "      display: none;\n",
              "      fill: #1967D2;\n",
              "      height: 32px;\n",
              "      padding: 0 0 0 0;\n",
              "      width: 32px;\n",
              "    }\n",
              "\n",
              "    .colab-df-convert:hover {\n",
              "      background-color: #E2EBFA;\n",
              "      box-shadow: 0px 1px 2px rgba(60, 64, 67, 0.3), 0px 1px 3px 1px rgba(60, 64, 67, 0.15);\n",
              "      fill: #174EA6;\n",
              "    }\n",
              "\n",
              "    [theme=dark] .colab-df-convert {\n",
              "      background-color: #3B4455;\n",
              "      fill: #D2E3FC;\n",
              "    }\n",
              "\n",
              "    [theme=dark] .colab-df-convert:hover {\n",
              "      background-color: #434B5C;\n",
              "      box-shadow: 0px 1px 3px 1px rgba(0, 0, 0, 0.15);\n",
              "      filter: drop-shadow(0px 1px 2px rgba(0, 0, 0, 0.3));\n",
              "      fill: #FFFFFF;\n",
              "    }\n",
              "  </style>\n",
              "\n",
              "      <script>\n",
              "        const buttonEl =\n",
              "          document.querySelector('#df-79c93cd6-4ca0-4a87-9392-8035e7a1ba8a button.colab-df-convert');\n",
              "        buttonEl.style.display =\n",
              "          google.colab.kernel.accessAllowed ? 'block' : 'none';\n",
              "\n",
              "        async function convertToInteractive(key) {\n",
              "          const element = document.querySelector('#df-79c93cd6-4ca0-4a87-9392-8035e7a1ba8a');\n",
              "          const dataTable =\n",
              "            await google.colab.kernel.invokeFunction('convertToInteractive',\n",
              "                                                     [key], {});\n",
              "          if (!dataTable) return;\n",
              "\n",
              "          const docLinkHtml = 'Like what you see? Visit the ' +\n",
              "            '<a target=\"_blank\" href=https://colab.research.google.com/notebooks/data_table.ipynb>data table notebook</a>'\n",
              "            + ' to learn more about interactive tables.';\n",
              "          element.innerHTML = '';\n",
              "          dataTable['output_type'] = 'display_data';\n",
              "          await google.colab.output.renderOutput(dataTable, element);\n",
              "          const docLink = document.createElement('div');\n",
              "          docLink.innerHTML = docLinkHtml;\n",
              "          element.appendChild(docLink);\n",
              "        }\n",
              "      </script>\n",
              "    </div>\n",
              "  </div>\n",
              "  "
            ]
          },
          "metadata": {},
          "execution_count": 3
        }
      ]
    },
    {
      "cell_type": "code",
      "source": [
        "df.info()"
      ],
      "metadata": {
        "colab": {
          "base_uri": "https://localhost:8080/"
        },
        "id": "QATdCEnRJV2f",
        "outputId": "9f7ddb28-073e-4026-ebfe-39d87330a1dd"
      },
      "execution_count": null,
      "outputs": [
        {
          "output_type": "stream",
          "name": "stdout",
          "text": [
            "<class 'pandas.core.frame.DataFrame'>\n",
            "RangeIndex: 190 entries, 0 to 189\n",
            "Data columns (total 9 columns):\n",
            " #   Column  Non-Null Count  Dtype  \n",
            "---  ------  --------------  -----  \n",
            " 0   x1      181 non-null    float64\n",
            " 1   x2      180 non-null    float64\n",
            " 2   x3      180 non-null    float64\n",
            " 3   x4      181 non-null    float64\n",
            " 4   x5      180 non-null    float64\n",
            " 5   x6      180 non-null    float64\n",
            " 6   x7      180 non-null    float64\n",
            " 7   x8      181 non-null    float64\n",
            " 8   y       188 non-null    float64\n",
            "dtypes: float64(9)\n",
            "memory usage: 13.5 KB\n"
          ]
        }
      ]
    },
    {
      "cell_type": "code",
      "source": [
        "df = df.dropna(subset=['y'])"
      ],
      "metadata": {
        "id": "tTVqUHnKZD6N"
      },
      "execution_count": null,
      "outputs": []
    },
    {
      "cell_type": "code",
      "source": [
        "df=df.dropna()"
      ],
      "metadata": {
        "id": "HXHpVGtm4wsm"
      },
      "execution_count": null,
      "outputs": []
    },
    {
      "cell_type": "code",
      "source": [
        "df.info()"
      ],
      "metadata": {
        "colab": {
          "base_uri": "https://localhost:8080/"
        },
        "id": "T_lZJ1DiZNJN",
        "outputId": "1e8b81cc-7f22-4ed5-ad5a-de598960a18d"
      },
      "execution_count": null,
      "outputs": [
        {
          "output_type": "stream",
          "name": "stdout",
          "text": [
            "<class 'pandas.core.frame.DataFrame'>\n",
            "Int64Index: 124 entries, 1 to 188\n",
            "Data columns (total 9 columns):\n",
            " #   Column  Non-Null Count  Dtype  \n",
            "---  ------  --------------  -----  \n",
            " 0   x1      124 non-null    float64\n",
            " 1   x2      124 non-null    float64\n",
            " 2   x3      124 non-null    float64\n",
            " 3   x4      124 non-null    float64\n",
            " 4   x5      124 non-null    float64\n",
            " 5   x6      124 non-null    float64\n",
            " 6   x7      124 non-null    float64\n",
            " 7   x8      124 non-null    float64\n",
            " 8   y       124 non-null    float64\n",
            "dtypes: float64(9)\n",
            "memory usage: 9.7 KB\n"
          ]
        }
      ]
    },
    {
      "cell_type": "code",
      "source": [
        "a=0.25\n",
        "b=0.75"
      ],
      "metadata": {
        "id": "ZyJ9KykFJvpd"
      },
      "execution_count": null,
      "outputs": []
    },
    {
      "cell_type": "code",
      "source": [
        "low,high = df['x1'].quantile([a,b])\n",
        "iqr = high-low\n",
        "print(low,high)\n",
        "df = df.drop(df.index[df['x1']<low-(1.5*iqr)])\n",
        "df = df.drop(df.index[df['x1']>high+(1.5*iqr)])\n",
        "df.boxplot(column='x1')"
      ],
      "metadata": {
        "colab": {
          "base_uri": "https://localhost:8080/",
          "height": 300
        },
        "id": "_IBMNPFWKDDZ",
        "outputId": "a440c559-7a76-41c2-ab2e-7adc09ba7b68"
      },
      "execution_count": null,
      "outputs": [
        {
          "output_type": "stream",
          "name": "stdout",
          "text": [
            "-70.055 68.535\n"
          ]
        },
        {
          "output_type": "execute_result",
          "data": {
            "text/plain": [
              "<matplotlib.axes._subplots.AxesSubplot at 0x7f399885f650>"
            ]
          },
          "metadata": {},
          "execution_count": 9
        },
        {
          "output_type": "display_data",
          "data": {
            "text/plain": [
              "<Figure size 432x288 with 1 Axes>"
            ],
            "image/png": "[encoded data removed]"
          },
          "metadata": {
            "needs_background": "light"
          }
        }
      ]
    },
    {
      "cell_type": "code",
      "source": [
        "df.info()"
      ],
      "metadata": {
        "colab": {
          "base_uri": "https://localhost:8080/"
        },
        "id": "gVFtKsrvrKqo",
        "outputId": "0fa8d6c3-c968-45cf-98bd-2fcc5d7b2685"
      },
      "execution_count": null,
      "outputs": [
        {
          "output_type": "stream",
          "name": "stdout",
          "text": [
            "<class 'pandas.core.frame.DataFrame'>\n",
            "Int64Index: 120 entries, 1 to 188\n",
            "Data columns (total 9 columns):\n",
            " #   Column  Non-Null Count  Dtype  \n",
            "---  ------  --------------  -----  \n",
            " 0   x1      120 non-null    float64\n",
            " 1   x2      120 non-null    float64\n",
            " 2   x3      120 non-null    float64\n",
            " 3   x4      120 non-null    float64\n",
            " 4   x5      120 non-null    float64\n",
            " 5   x6      120 non-null    float64\n",
            " 6   x7      120 non-null    float64\n",
            " 7   x8      120 non-null    float64\n",
            " 8   y       120 non-null    float64\n",
            "dtypes: float64(9)\n",
            "memory usage: 9.4 KB\n"
          ]
        }
      ]
    },
    {
      "cell_type": "code",
      "source": [
        "df"
      ],
      "metadata": {
        "colab": {
          "base_uri": "https://localhost:8080/",
          "height": 424
        },
        "id": "ZNRVISQaKpvK",
        "outputId": "5bacbbd1-1b8d-472b-bcdc-35022c97c1ff"
      },
      "execution_count": null,
      "outputs": [
        {
          "output_type": "execute_result",
          "data": {
            "text/plain": [
              "         x1      x2      x3          x4      x5     x6     x7      x8      y\n",
              "1    -68.18 -127.21   23.30     1471.49   16.95   2.30 -11.51   -7.70   7.31\n",
              "2    -95.05   36.10  -75.27     1158.04    6.97   3.21  -5.86    8.65  -5.77\n",
              "5     16.17   77.38   58.33     3424.59   -5.51   3.03   0.11  -13.11  16.03\n",
              "6    -56.13    2.33    7.56     4755.48    9.36  10.61  -3.20   -6.94   5.05\n",
              "9     68.14  117.52  -39.75     2484.03   25.14   2.71 -10.50   10.05  -1.01\n",
              "..      ...     ...     ...         ...     ...    ...    ...     ...    ...\n",
              "182  157.88  -58.91   58.15      849.14  -10.24  19.30   4.24  207.04   9.96\n",
              "185   34.29  -38.65  -44.41     9775.28   -3.43   4.95   4.60  -11.73  11.78\n",
              "186    1.62  145.02   53.26     4546.80   11.81  -4.31   4.86   -0.42   3.79\n",
              "187   29.46   33.91  -20.96  6083819.57    5.10   2.93   1.23    3.23  -3.17\n",
              "188  -64.93   25.39 -118.74     1746.40  226.26  -1.91 -16.11  -10.44   0.97\n",
              "\n",
              "[120 rows x 9 columns]"
            ],
            "text/html": [
              "\n",
              "  <div id=\"df-f17dacd5-8c15-4e51-8d2a-c2c360295cf4\">\n",
              "    <div class=\"colab-df-container\">\n",
              "      <div>\n",
              "<style scoped>\n",
              "    .dataframe tbody tr th:only-of-type {\n",
              "        vertical-align: middle;\n",
              "    }\n",
              "\n",
              "    .dataframe tbody tr th {\n",
              "        vertical-align: top;\n",
              "    }\n",
              "\n",
              "    .dataframe thead th {\n",
              "        text-align: right;\n",
              "    }\n",
              "</style>\n",
              "<table border=\"1\" class=\"dataframe\">\n",
              "  <thead>\n",
              "    <tr style=\"text-align: right;\">\n",
              "      <th></th>\n",
              "      <th>x1</th>\n",
              "      <th>x2</th>\n",
              "      <th>x3</th>\n",
              "      <th>x4</th>\n",
              "      <th>x5</th>\n",
              "      <th>x6</th>\n",
              "      <th>x7</th>\n",
              "      <th>x8</th>\n",
              "      <th>y</th>\n",
              "    </tr>\n",
              "  </thead>\n",
              "  <tbody>\n",
              "    <tr>\n",
              "      <th>1</th>\n",
              "      <td>-68.18</td>\n",
              "      <td>-127.21</td>\n",
              "      <td>23.30</td>\n",
              "      <td>1471.49</td>\n",
              "      <td>16.95</td>\n",
              "      <td>2.30</td>\n",
              "      <td>-11.51</td>\n",
              "      <td>-7.70</td>\n",
              "      <td>7.31</td>\n",
              "    </tr>\n",
              "    <tr>\n",
              "      <th>2</th>\n",
              "      <td>-95.05</td>\n",
              "      <td>36.10</td>\n",
              "      <td>-75.27</td>\n",
              "      <td>1158.04</td>\n",
              "      <td>6.97</td>\n",
              "      <td>3.21</td>\n",
              "      <td>-5.86</td>\n",
              "      <td>8.65</td>\n",
              "      <td>-5.77</td>\n",
              "    </tr>\n",
              "    <tr>\n",
              "      <th>5</th>\n",
              "      <td>16.17</td>\n",
              "      <td>77.38</td>\n",
              "      <td>58.33</td>\n",
              "      <td>3424.59</td>\n",
              "      <td>-5.51</td>\n",
              "      <td>3.03</td>\n",
              "      <td>0.11</td>\n",
              "      <td>-13.11</td>\n",
              "      <td>16.03</td>\n",
              "    </tr>\n",
              "    <tr>\n",
              "      <th>6</th>\n",
              "      <td>-56.13</td>\n",
              "      <td>2.33</td>\n",
              "      <td>7.56</td>\n",
              "      <td>4755.48</td>\n",
              "      <td>9.36</td>\n",
              "      <td>10.61</td>\n",
              "      <td>-3.20</td>\n",
              "      <td>-6.94</td>\n",
              "      <td>5.05</td>\n",
              "    </tr>\n",
              "    <tr>\n",
              "      <th>9</th>\n",
              "      <td>68.14</td>\n",
              "      <td>117.52</td>\n",
              "      <td>-39.75</td>\n",
              "      <td>2484.03</td>\n",
              "      <td>25.14</td>\n",
              "      <td>2.71</td>\n",
              "      <td>-10.50</td>\n",
              "      <td>10.05</td>\n",
              "      <td>-1.01</td>\n",
              "    </tr>\n",
              "    <tr>\n",
              "      <th>...</th>\n",
              "      <td>...</td>\n",
              "      <td>...</td>\n",
              "      <td>...</td>\n",
              "      <td>...</td>\n",
              "      <td>...</td>\n",
              "      <td>...</td>\n",
              "      <td>...</td>\n",
              "      <td>...</td>\n",
              "      <td>...</td>\n",
              "    </tr>\n",
              "    <tr>\n",
              "      <th>182</th>\n",
              "      <td>157.88</td>\n",
              "      <td>-58.91</td>\n",
              "      <td>58.15</td>\n",
              "      <td>849.14</td>\n",
              "      <td>-10.24</td>\n",
              "      <td>19.30</td>\n",
              "      <td>4.24</td>\n",
              "      <td>207.04</td>\n",
              "      <td>9.96</td>\n",
              "    </tr>\n",
              "    <tr>\n",
              "      <th>185</th>\n",
              "      <td>34.29</td>\n",
              "      <td>-38.65</td>\n",
              "      <td>-44.41</td>\n",
              "      <td>9775.28</td>\n",
              "      <td>-3.43</td>\n",
              "      <td>4.95</td>\n",
              "      <td>4.60</td>\n",
              "      <td>-11.73</td>\n",
              "      <td>11.78</td>\n",
              "    </tr>\n",
              "    <tr>\n",
              "      <th>186</th>\n",
              "      <td>1.62</td>\n",
              "      <td>145.02</td>\n",
              "      <td>53.26</td>\n",
              "      <td>4546.80</td>\n",
              "      <td>11.81</td>\n",
              "      <td>-4.31</td>\n",
              "      <td>4.86</td>\n",
              "      <td>-0.42</td>\n",
              "      <td>3.79</td>\n",
              "    </tr>\n",
              "    <tr>\n",
              "      <th>187</th>\n",
              "      <td>29.46</td>\n",
              "      <td>33.91</td>\n",
              "      <td>-20.96</td>\n",
              "      <td>6083819.57</td>\n",
              "      <td>5.10</td>\n",
              "      <td>2.93</td>\n",
              "      <td>1.23</td>\n",
              "      <td>3.23</td>\n",
              "      <td>-3.17</td>\n",
              "    </tr>\n",
              "    <tr>\n",
              "      <th>188</th>\n",
              "      <td>-64.93</td>\n",
              "      <td>25.39</td>\n",
              "      <td>-118.74</td>\n",
              "      <td>1746.40</td>\n",
              "      <td>226.26</td>\n",
              "      <td>-1.91</td>\n",
              "      <td>-16.11</td>\n",
              "      <td>-10.44</td>\n",
              "      <td>0.97</td>\n",
              "    </tr>\n",
              "  </tbody>\n",
              "</table>\n",
              "<p>120 rows × 9 columns</p>\n",
              "</div>\n",
              "      <button class=\"colab-df-convert\" onclick=\"convertToInteractive('df-f17dacd5-8c15-4e51-8d2a-c2c360295cf4')\"\n",
              "              title=\"Convert this dataframe to an interactive table.\"\n",
              "              style=\"display:none;\">\n",
              "        \n",
              "  <svg xmlns=\"http://www.w3.org/2000/svg\" height=\"24px\"viewBox=\"0 0 24 24\"\n",
              "       width=\"24px\">\n",
              "    <path d=\"M0 0h24v24H0V0z\" fill=\"none\"/>\n",
              "    <path d=\"M18.56 5.44l.94 2.06.94-2.06 2.06-.94-2.06-.94-.94-2.06-.94 2.06-2.06.94zm-11 1L8.5 8.5l.94-2.06 2.06-.94-2.06-.94L8.5 2.5l-.94 2.06-2.06.94zm10 10l.94 2.06.94-2.06 2.06-.94-2.06-.94-.94-2.06-.94 2.06-2.06.94z\"/><path d=\"M17.41 7.96l-1.37-1.37c-.4-.4-.92-.59-1.43-.59-.52 0-1.04.2-1.43.59L10.3 9.45l-7.72 7.72c-.78.78-.78 2.05 0 2.83L4 21.41c.39.39.9.59 1.41.59.51 0 1.02-.2 1.41-.59l7.78-7.78 2.81-2.81c.8-.78.8-2.07 0-2.86zM5.41 20L4 18.59l7.72-7.72 1.47 1.35L5.41 20z\"/>\n",
              "  </svg>\n",
              "      </button>\n",
              "      \n",
              "  <style>\n",
              "    .colab-df-container {\n",
              "      display:flex;\n",
              "      flex-wrap:wrap;\n",
              "      gap: 12px;\n",
              "    }\n",
              "\n",
              "    .colab-df-convert {\n",
              "      background-color: #E8F0FE;\n",
              "      border: none;\n",
              "      border-radius: 50%;\n",
              "      cursor: pointer;\n",
              "      display: none;\n",
              "      fill: #1967D2;\n",
              "      height: 32px;\n",
              "      padding: 0 0 0 0;\n",
              "      width: 32px;\n",
              "    }\n",
              "\n",
              "    .colab-df-convert:hover {\n",
              "      background-color: #E2EBFA;\n",
              "      box-shadow: 0px 1px 2px rgba(60, 64, 67, 0.3), 0px 1px 3px 1px rgba(60, 64, 67, 0.15);\n",
              "      fill: #174EA6;\n",
              "    }\n",
              "\n",
              "    [theme=dark] .colab-df-convert {\n",
              "      background-color: #3B4455;\n",
              "      fill: #D2E3FC;\n",
              "    }\n",
              "\n",
              "    [theme=dark] .colab-df-convert:hover {\n",
              "      background-color: #434B5C;\n",
              "      box-shadow: 0px 1px 3px 1px rgba(0, 0, 0, 0.15);\n",
              "      filter: drop-shadow(0px 1px 2px rgba(0, 0, 0, 0.3));\n",
              "      fill: #FFFFFF;\n",
              "    }\n",
              "  </style>\n",
              "\n",
              "      <script>\n",
              "        const buttonEl =\n",
              "          document.querySelector('#df-f17dacd5-8c15-4e51-8d2a-c2c360295cf4 button.colab-df-convert');\n",
              "        buttonEl.style.display =\n",
              "          google.colab.kernel.accessAllowed ? 'block' : 'none';\n",
              "\n",
              "        async function convertToInteractive(key) {\n",
              "          const element = document.querySelector('#df-f17dacd5-8c15-4e51-8d2a-c2c360295cf4');\n",
              "          const dataTable =\n",
              "            await google.colab.kernel.invokeFunction('convertToInteractive',\n",
              "                                                     [key], {});\n",
              "          if (!dataTable) return;\n",
              "\n",
              "          const docLinkHtml = 'Like what you see? Visit the ' +\n",
              "            '<a target=\"_blank\" href=https://colab.research.google.com/notebooks/data_table.ipynb>data table notebook</a>'\n",
              "            + ' to learn more about interactive tables.';\n",
              "          element.innerHTML = '';\n",
              "          dataTable['output_type'] = 'display_data';\n",
              "          await google.colab.output.renderOutput(dataTable, element);\n",
              "          const docLink = document.createElement('div');\n",
              "          docLink.innerHTML = docLinkHtml;\n",
              "          element.appendChild(docLink);\n",
              "        }\n",
              "      </script>\n",
              "    </div>\n",
              "  </div>\n",
              "  "
            ]
          },
          "metadata": {},
          "execution_count": 11
        }
      ]
    },
    {
      "cell_type": "code",
      "source": [
        "df['x1'].hist()"
      ],
      "metadata": {
        "colab": {
          "base_uri": "https://localhost:8080/",
          "height": 282
        },
        "id": "_u77e-NVKrAC",
        "outputId": "b9ec2a1a-f09c-4340-eb9b-e29152152ee4"
      },
      "execution_count": null,
      "outputs": [
        {
          "output_type": "execute_result",
          "data": {
            "text/plain": [
              "<matplotlib.axes._subplots.AxesSubplot at 0x7f399879f890>"
            ]
          },
          "metadata": {},
          "execution_count": 12
        },
        {
          "output_type": "display_data",
          "data": {
            "text/plain": [
              "<Figure size 432x288 with 1 Axes>"
            ],
            "image/png": "[encoded data removed]"
          },
          "metadata": {
            "needs_background": "light"
          }
        }
      ]
    },
    {
      "cell_type": "code",
      "source": [
        "df.boxplot(column='x1')"
      ],
      "metadata": {
        "colab": {
          "base_uri": "https://localhost:8080/",
          "height": 282
        },
        "id": "4Y_Wk0JeNKQG",
        "outputId": "4c0a67cf-a112-4d9e-b0bf-3f32e21dd5ae"
      },
      "execution_count": null,
      "outputs": [
        {
          "output_type": "execute_result",
          "data": {
            "text/plain": [
              "<matplotlib.axes._subplots.AxesSubplot at 0x7f399826b750>"
            ]
          },
          "metadata": {},
          "execution_count": 13
        },
        {
          "output_type": "display_data",
          "data": {
            "text/plain": [
              "<Figure size 432x288 with 1 Axes>"
            ],
            "image/png": "[encoded data removed]"
          },
          "metadata": {
            "needs_background": "light"
          }
        }
      ]
    },
    {
      "cell_type": "code",
      "source": [
        "df['x1'].hist()"
      ],
      "metadata": {
        "colab": {
          "base_uri": "https://localhost:8080/",
          "height": 282
        },
        "id": "rt1kXjvfVY83",
        "outputId": "cf2a64e3-40f0-4bc8-ffc8-f1c2e05e776a"
      },
      "execution_count": null,
      "outputs": [
        {
          "output_type": "execute_result",
          "data": {
            "text/plain": [
              "<matplotlib.axes._subplots.AxesSubplot at 0x7f39981f60d0>"
            ]
          },
          "metadata": {},
          "execution_count": 14
        },
        {
          "output_type": "display_data",
          "data": {
            "text/plain": [
              "<Figure size 432x288 with 1 Axes>"
            ],
            "image/png": "[encoded data removed]"
          },
          "metadata": {
            "needs_background": "light"
          }
        }
      ]
    },
    {
      "cell_type": "code",
      "source": [
        "low,high = df['x2'].quantile([a,b])\n",
        "iqr = high-low\n",
        "print(low,high)\n",
        "df = df.drop(df.index[df['x2']<low-(1.5*iqr)])\n",
        "df = df.drop(df.index[df['x2']>high+(1.5*iqr)])\n",
        "df.boxplot(column='x2')"
      ],
      "metadata": {
        "colab": {
          "base_uri": "https://localhost:8080/",
          "height": 300
        },
        "id": "INxVSJALN5n_",
        "outputId": "92989b99-8c8b-4e35-dfa4-8cd6348edf44"
      },
      "execution_count": null,
      "outputs": [
        {
          "output_type": "stream",
          "name": "stdout",
          "text": [
            "-73.755 85.63\n"
          ]
        },
        {
          "output_type": "execute_result",
          "data": {
            "text/plain": [
              "<matplotlib.axes._subplots.AxesSubplot at 0x7f3998181090>"
            ]
          },
          "metadata": {},
          "execution_count": 15
        },
        {
          "output_type": "display_data",
          "data": {
            "text/plain": [
              "<Figure size 432x288 with 1 Axes>"
            ],
            "image/png": "[encoded data removed]"
          },
          "metadata": {
            "needs_background": "light"
          }
        }
      ]
    },
    {
      "cell_type": "code",
      "source": [
        "df['x2'].hist()"
      ],
      "metadata": {
        "colab": {
          "base_uri": "https://localhost:8080/",
          "height": 282
        },
        "id": "0Ygv2twOVetf",
        "outputId": "d6d9d748-1528-4252-f2f5-32dd0cc0a1a3"
      },
      "execution_count": null,
      "outputs": [
        {
          "output_type": "execute_result",
          "data": {
            "text/plain": [
              "<matplotlib.axes._subplots.AxesSubplot at 0x7f39980f4610>"
            ]
          },
          "metadata": {},
          "execution_count": 16
        },
        {
          "output_type": "display_data",
          "data": {
            "text/plain": [
              "<Figure size 432x288 with 1 Axes>"
            ],
            "image/png": "[encoded data removed]"
          },
          "metadata": {
            "needs_background": "light"
          }
        }
      ]
    },
    {
      "cell_type": "code",
      "source": [
        "low,high = df['x3'].quantile([a,b])\n",
        "iqr = high-low\n",
        "print(low,high)\n",
        "df = df.drop(df.index[df['x3']<low-(1.5*iqr)])\n",
        "df = df.drop(df.index[df['x3']>high+(1.5*iqr)])\n",
        "df.boxplot(column='x3')"
      ],
      "metadata": {
        "colab": {
          "base_uri": "https://localhost:8080/",
          "height": 300
        },
        "id": "r4TshQnLOxGv",
        "outputId": "f64dccce-245a-4e58-90df-17a14ae890f0"
      },
      "execution_count": null,
      "outputs": [
        {
          "output_type": "stream",
          "name": "stdout",
          "text": [
            "-57.5225 62.502500000000005\n"
          ]
        },
        {
          "output_type": "execute_result",
          "data": {
            "text/plain": [
              "<matplotlib.axes._subplots.AxesSubplot at 0x7f39980a39d0>"
            ]
          },
          "metadata": {},
          "execution_count": 17
        },
        {
          "output_type": "display_data",
          "data": {
            "text/plain": [
              "<Figure size 432x288 with 1 Axes>"
            ],
            "image/png": "[encoded data removed]"
          },
          "metadata": {
            "needs_background": "light"
          }
        }
      ]
    },
    {
      "cell_type": "code",
      "source": [
        "df['x3'].hist()"
      ],
      "metadata": {
        "colab": {
          "base_uri": "https://localhost:8080/",
          "height": 283
        },
        "id": "IT-6FP8RViwP",
        "outputId": "596b74a9-ea7c-4ff1-ba69-4546775f4edd"
      },
      "execution_count": null,
      "outputs": [
        {
          "output_type": "execute_result",
          "data": {
            "text/plain": [
              "<matplotlib.axes._subplots.AxesSubplot at 0x7f3998009710>"
            ]
          },
          "metadata": {},
          "execution_count": 18
        },
        {
          "output_type": "display_data",
          "data": {
            "text/plain": [
              "<Figure size 432x288 with 1 Axes>"
            ],
            "image/png": "[encoded data removed]"
          },
          "metadata": {
            "needs_background": "light"
          }
        }
      ]
    },
    {
      "cell_type": "code",
      "source": [
        "df['x4'].sort_values(ascending=False)"
      ],
      "metadata": {
        "colab": {
          "base_uri": "https://localhost:8080/"
        },
        "id": "ctcTac80Qptt",
        "outputId": "c5b94f4e-fd9f-48ba-bc51-c81888edf1ef"
      },
      "execution_count": null,
      "outputs": [
        {
          "output_type": "execute_result",
          "data": {
            "text/plain": [
              "187    6083819.57\n",
              "181    6083819.57\n",
              "58     5590387.36\n",
              "163    5590387.36\n",
              "164      61330.52\n",
              "          ...    \n",
              "165         23.62\n",
              "53          11.09\n",
              "106          5.24\n",
              "177          4.16\n",
              "38           0.48\n",
              "Name: x4, Length: 112, dtype: float64"
            ]
          },
          "metadata": {},
          "execution_count": 19
        }
      ]
    },
    {
      "cell_type": "code",
      "source": [
        "low,high = df['x4'].quantile([a,b])\n",
        "iqr = high-low\n",
        "print(low,high)\n",
        "df = df.drop(df.index[df['x4']<low-(1.5*iqr)])\n",
        "df = df.drop(df.index[df['x4']>high+(1.5*iqr)])\n",
        "df.boxplot(column='x4')"
      ],
      "metadata": {
        "colab": {
          "base_uri": "https://localhost:8080/",
          "height": 300
        },
        "id": "NXUINf10O0Mm",
        "outputId": "eab7898b-24ad-44dc-d183-531b7abb2be5"
      },
      "execution_count": null,
      "outputs": [
        {
          "output_type": "stream",
          "name": "stdout",
          "text": [
            "1154.8175 12066.675000000001\n"
          ]
        },
        {
          "output_type": "execute_result",
          "data": {
            "text/plain": [
              "<matplotlib.axes._subplots.AxesSubplot at 0x7f3997f1fb10>"
            ]
          },
          "metadata": {},
          "execution_count": 20
        },
        {
          "output_type": "display_data",
          "data": {
            "text/plain": [
              "<Figure size 432x288 with 1 Axes>"
            ],
            "image/png": "[encoded data removed]"
          },
          "metadata": {
            "needs_background": "light"
          }
        }
      ]
    },
    {
      "cell_type": "code",
      "source": [
        "df['x4'].hist()"
      ],
      "metadata": {
        "colab": {
          "base_uri": "https://localhost:8080/",
          "height": 282
        },
        "id": "mlc2fBaAVk4x",
        "outputId": "5195d633-d805-4a31-e931-c045d856315b"
      },
      "execution_count": null,
      "outputs": [
        {
          "output_type": "execute_result",
          "data": {
            "text/plain": [
              "<matplotlib.axes._subplots.AxesSubplot at 0x7f3997f0e3d0>"
            ]
          },
          "metadata": {},
          "execution_count": 21
        },
        {
          "output_type": "display_data",
          "data": {
            "text/plain": [
              "<Figure size 432x288 with 1 Axes>"
            ],
            "image/png": "[encoded data removed]"
          },
          "metadata": {
            "needs_background": "light"
          }
        }
      ]
    },
    {
      "cell_type": "code",
      "source": [
        "df.boxplot(column='x4')"
      ],
      "metadata": {
        "colab": {
          "base_uri": "https://localhost:8080/",
          "height": 282
        },
        "id": "aN1-GJ4ylX9z",
        "outputId": "049bdfc8-16d5-4813-a3d4-6fe93c9b6284"
      },
      "execution_count": null,
      "outputs": [
        {
          "output_type": "execute_result",
          "data": {
            "text/plain": [
              "<matplotlib.axes._subplots.AxesSubplot at 0x7f3997e1a650>"
            ]
          },
          "metadata": {},
          "execution_count": 22
        },
        {
          "output_type": "display_data",
          "data": {
            "text/plain": [
              "<Figure size 432x288 with 1 Axes>"
            ],
            "image/png": "[encoded data removed]"
          },
          "metadata": {
            "needs_background": "light"
          }
        }
      ]
    },
    {
      "cell_type": "code",
      "source": [
        "low,high = df['x5'].quantile([a,b])\n",
        "iqr = high-low\n",
        "print(low,high)\n",
        "df = df.drop(df.index[df['x5']<low-(1.5*iqr)])\n",
        "df = df.drop(df.index[df['x5']>high+(1.5*iqr)])\n",
        "df.boxplot(column='x5')"
      ],
      "metadata": {
        "colab": {
          "base_uri": "https://localhost:8080/",
          "height": 300
        },
        "id": "dAtGffJOO0UW",
        "outputId": "0e455863-72df-426b-f3c3-02300fb4d44c"
      },
      "execution_count": null,
      "outputs": [
        {
          "output_type": "stream",
          "name": "stdout",
          "text": [
            "-5.6025 6.4025\n"
          ]
        },
        {
          "output_type": "execute_result",
          "data": {
            "text/plain": [
              "<matplotlib.axes._subplots.AxesSubplot at 0x7f399806add0>"
            ]
          },
          "metadata": {},
          "execution_count": 23
        },
        {
          "output_type": "display_data",
          "data": {
            "text/plain": [
              "<Figure size 432x288 with 1 Axes>"
            ],
            "image/png": "[encoded data removed]"
          },
          "metadata": {
            "needs_background": "light"
          }
        }
      ]
    },
    {
      "cell_type": "code",
      "source": [
        "df['x5'].hist()"
      ],
      "metadata": {
        "colab": {
          "base_uri": "https://localhost:8080/",
          "height": 282
        },
        "id": "ZRyMgUIVVmhJ",
        "outputId": "b3ccc7e8-433a-4578-f849-0833556c2646"
      },
      "execution_count": null,
      "outputs": [
        {
          "output_type": "execute_result",
          "data": {
            "text/plain": [
              "<matplotlib.axes._subplots.AxesSubplot at 0x7f39980f4050>"
            ]
          },
          "metadata": {},
          "execution_count": 24
        },
        {
          "output_type": "display_data",
          "data": {
            "text/plain": [
              "<Figure size 432x288 with 1 Axes>"
            ],
            "image/png": "[encoded data removed]"
          },
          "metadata": {
            "needs_background": "light"
          }
        }
      ]
    },
    {
      "cell_type": "code",
      "source": [
        "low,high = df['x6'].quantile([a,b])\n",
        "iqr = high-low\n",
        "print(low,high)\n",
        "df = df.drop(df.index[df['x6']<low-(1.5*iqr)])\n",
        "df = df.drop(df.index[df['x6']>high+(1.5*iqr)])\n",
        "df.boxplot(column='x6')"
      ],
      "metadata": {
        "colab": {
          "base_uri": "https://localhost:8080/",
          "height": 300
        },
        "id": "xElk1RnsO0bG",
        "outputId": "12c8fb86-06c0-493d-c774-a021af7b900c"
      },
      "execution_count": null,
      "outputs": [
        {
          "output_type": "stream",
          "name": "stdout",
          "text": [
            "-3.2024999999999997 9.595\n"
          ]
        },
        {
          "output_type": "execute_result",
          "data": {
            "text/plain": [
              "<matplotlib.axes._subplots.AxesSubplot at 0x7f3997d2abd0>"
            ]
          },
          "metadata": {},
          "execution_count": 25
        },
        {
          "output_type": "display_data",
          "data": {
            "text/plain": [
              "<Figure size 432x288 with 1 Axes>"
            ],
            "image/png": "[encoded data removed]"
          },
          "metadata": {
            "needs_background": "light"
          }
        }
      ]
    },
    {
      "cell_type": "code",
      "source": [
        "df['x6'].hist()"
      ],
      "metadata": {
        "colab": {
          "base_uri": "https://localhost:8080/",
          "height": 282
        },
        "id": "ce10lw0nVoyo",
        "outputId": "a376c325-cf86-4b1c-8c94-a5054329ce43"
      },
      "execution_count": null,
      "outputs": [
        {
          "output_type": "execute_result",
          "data": {
            "text/plain": [
              "<matplotlib.axes._subplots.AxesSubplot at 0x7f3997cb1310>"
            ]
          },
          "metadata": {},
          "execution_count": 26
        },
        {
          "output_type": "display_data",
          "data": {
            "text/plain": [
              "<Figure size 432x288 with 1 Axes>"
            ],
            "image/png": "[encoded data removed]"
          },
          "metadata": {
            "needs_background": "light"
          }
        }
      ]
    },
    {
      "cell_type": "code",
      "source": [
        "low,high = df['x7'].quantile([a,b])\n",
        "iqr = high-low\n",
        "print(low,high)\n",
        "df = df.drop(df.index[df['x7']<low-(1.5*iqr)])\n",
        "df = df.drop(df.index[df['x7']>high+(1.5*iqr)])\n",
        "df.boxplot(column='x7')"
      ],
      "metadata": {
        "colab": {
          "base_uri": "https://localhost:8080/",
          "height": 300
        },
        "id": "bZEsoqRlO0iN",
        "outputId": "2756f0d8-bd2e-457c-a801-1c41422c9fe9"
      },
      "execution_count": null,
      "outputs": [
        {
          "output_type": "stream",
          "name": "stdout",
          "text": [
            "-5.7775 5.4925\n"
          ]
        },
        {
          "output_type": "execute_result",
          "data": {
            "text/plain": [
              "<matplotlib.axes._subplots.AxesSubplot at 0x7f3997bfce10>"
            ]
          },
          "metadata": {},
          "execution_count": 27
        },
        {
          "output_type": "display_data",
          "data": {
            "text/plain": [
              "<Figure size 432x288 with 1 Axes>"
            ],
            "image/png": "[encoded data removed]"
          },
          "metadata": {
            "needs_background": "light"
          }
        }
      ]
    },
    {
      "cell_type": "code",
      "source": [
        "df['x7'].hist()"
      ],
      "metadata": {
        "colab": {
          "base_uri": "https://localhost:8080/",
          "height": 282
        },
        "id": "2pHJxJ_hVriQ",
        "outputId": "29722522-e23c-44a1-de18-f413ca399ae7"
      },
      "execution_count": null,
      "outputs": [
        {
          "output_type": "execute_result",
          "data": {
            "text/plain": [
              "<matplotlib.axes._subplots.AxesSubplot at 0x7f3997b79c10>"
            ]
          },
          "metadata": {},
          "execution_count": 28
        },
        {
          "output_type": "display_data",
          "data": {
            "text/plain": [
              "<Figure size 432x288 with 1 Axes>"
            ],
            "image/png": "[encoded data removed]"
          },
          "metadata": {
            "needs_background": "light"
          }
        }
      ]
    },
    {
      "cell_type": "code",
      "source": [
        "low,high = df['x8'].quantile([a,b])\n",
        "iqr = high-low\n",
        "print(low,high)\n",
        "df = df.drop(df.index[df['x8']<low-(1.5*iqr)])\n",
        "df = df.drop(df.index[df['x8']>high+(1.5*iqr)])\n",
        "df.boxplot(column='x8')"
      ],
      "metadata": {
        "colab": {
          "base_uri": "https://localhost:8080/",
          "height": 300
        },
        "id": "UCi9ejVrO0rF",
        "outputId": "0d8d41e4-f1d9-4702-8712-fcfaeba48856"
      },
      "execution_count": null,
      "outputs": [
        {
          "output_type": "stream",
          "name": "stdout",
          "text": [
            "-6.94 4.25\n"
          ]
        },
        {
          "output_type": "execute_result",
          "data": {
            "text/plain": [
              "<matplotlib.axes._subplots.AxesSubplot at 0x7f3997a9ee10>"
            ]
          },
          "metadata": {},
          "execution_count": 29
        },
        {
          "output_type": "display_data",
          "data": {
            "text/plain": [
              "<Figure size 432x288 with 1 Axes>"
            ],
            "image/png": "[encoded data removed]"
          },
          "metadata": {
            "needs_background": "light"
          }
        }
      ]
    },
    {
      "cell_type": "code",
      "source": [
        "df['x8'].hist()"
      ],
      "metadata": {
        "colab": {
          "base_uri": "https://localhost:8080/",
          "height": 282
        },
        "id": "JRzGgyvnVtSB",
        "outputId": "87a98a7f-0ec6-4497-ca20-0d52d70c0255"
      },
      "execution_count": null,
      "outputs": [
        {
          "output_type": "execute_result",
          "data": {
            "text/plain": [
              "<matplotlib.axes._subplots.AxesSubplot at 0x7f3997a7e890>"
            ]
          },
          "metadata": {},
          "execution_count": 30
        },
        {
          "output_type": "display_data",
          "data": {
            "text/plain": [
              "<Figure size 432x288 with 1 Axes>"
            ],
            "image/png": "[encoded data removed]"
          },
          "metadata": {
            "needs_background": "light"
          }
        }
      ]
    },
    {
      "cell_type": "code",
      "source": [
        "df.info()"
      ],
      "metadata": {
        "colab": {
          "base_uri": "https://localhost:8080/"
        },
        "id": "YB_eJpvwSmmc",
        "outputId": "23522136-821f-4c6b-ebae-95dfe2fb8bf6"
      },
      "execution_count": null,
      "outputs": [
        {
          "output_type": "stream",
          "name": "stdout",
          "text": [
            "<class 'pandas.core.frame.DataFrame'>\n",
            "Int64Index: 83 entries, 1 to 186\n",
            "Data columns (total 9 columns):\n",
            " #   Column  Non-Null Count  Dtype  \n",
            "---  ------  --------------  -----  \n",
            " 0   x1      83 non-null     float64\n",
            " 1   x2      83 non-null     float64\n",
            " 2   x3      83 non-null     float64\n",
            " 3   x4      83 non-null     float64\n",
            " 4   x5      83 non-null     float64\n",
            " 5   x6      83 non-null     float64\n",
            " 6   x7      83 non-null     float64\n",
            " 7   x8      83 non-null     float64\n",
            " 8   y       83 non-null     float64\n",
            "dtypes: float64(9)\n",
            "memory usage: 6.5 KB\n"
          ]
        }
      ]
    },
    {
      "cell_type": "code",
      "source": [
        "# df['x1'] =df['x1'].fillna(df['x1'].mean())\n",
        "# df['x2'] =df['x2'].fillna(df['x2'].mean())\n",
        "# df['x3'] =df['x3'].fillna(df['x3'].mean())\n",
        "# df['x4'] =df['x4'].fillna(df['x4'].mean())\n",
        "# df['x5'] =df['x5'].fillna(df['x5'].mean())\n",
        "# df['x6'] =df['x6'].fillna(df['x6'].mean())\n",
        "# df['x7'] =df['x7'].fillna(df['x7'].mean())\n",
        "# df['x8'] =df['x8'].fillna(df['x8'].mean())\n",
        "\n",
        "df['x1'] =df['x1'].fillna(0)\n",
        "df['x2'] =df['x2'].fillna(0)\n",
        "df['x3'] =df['x3'].fillna(0)\n",
        "df['x4'] =df['x4'].fillna(0)\n",
        "df['x5'] =df['x5'].fillna(0)\n",
        "df['x6'] =df['x6'].fillna(0)\n",
        "df['x7'] =df['x7'].fillna(0)\n",
        "df['x8'] =df['x8'].fillna(0)"
      ],
      "metadata": {
        "id": "DGqZ-1V4RSjI"
      },
      "execution_count": null,
      "outputs": []
    },
    {
      "cell_type": "code",
      "source": [
        "df.info()"
      ],
      "metadata": {
        "colab": {
          "base_uri": "https://localhost:8080/"
        },
        "id": "R80qzFTw79-F",
        "outputId": "ad42f36c-f0f7-44b2-8c9d-6cca5d536e37"
      },
      "execution_count": null,
      "outputs": [
        {
          "output_type": "stream",
          "name": "stdout",
          "text": [
            "<class 'pandas.core.frame.DataFrame'>\n",
            "Int64Index: 83 entries, 1 to 186\n",
            "Data columns (total 9 columns):\n",
            " #   Column  Non-Null Count  Dtype  \n",
            "---  ------  --------------  -----  \n",
            " 0   x1      83 non-null     float64\n",
            " 1   x2      83 non-null     float64\n",
            " 2   x3      83 non-null     float64\n",
            " 3   x4      83 non-null     float64\n",
            " 4   x5      83 non-null     float64\n",
            " 5   x6      83 non-null     float64\n",
            " 6   x7      83 non-null     float64\n",
            " 7   x8      83 non-null     float64\n",
            " 8   y       83 non-null     float64\n",
            "dtypes: float64(9)\n",
            "memory usage: 6.5 KB\n"
          ]
        }
      ]
    },
    {
      "cell_type": "code",
      "source": [
        "X=df[['x3','x5','x8']]\n",
        "# cut 1,2,4,5,7\n",
        "y=df['y']\n",
        "X_train ,X_test, y_train, y_test = train_test_split(X,y,test_size=0.25)\n",
        "from sklearn.preprocessing import MinMaxScaler\n",
        "scaler = MinMaxScaler(feature_range=(0, 1))\n",
        "\n",
        "x_train_scaled = scaler.fit_transform(X_train)\n",
        "X_train = pd.DataFrame(x_train_scaled)\n",
        "\n",
        "x_test_scaled = scaler.fit_transform(X_test)\n",
        "X_test = pd.DataFrame(x_test_scaled)\n",
        "from sklearn import neighbors\n",
        "from math import sqrt\n",
        "rmse_val = []\n",
        "mape_val=[]\n",
        "mae_val=[]\n",
        "\n",
        "from sklearn.model_selection import KFold\n",
        "kf = KFold(n_splits=5)\n",
        "for train_index,test_index in kf.split(X):\n",
        "  X_train = X.iloc[train_index]\n",
        "  X_test = X.iloc[test_index]\n",
        "  y_train = y.iloc[train_index]\n",
        "  y_test = y.iloc[test_index]\n",
        "\n",
        "  model = neighbors.KNeighborsRegressor(n_neighbors = 3)\n",
        "  model.fit(X_train, y_train)  #fit the model\n",
        "  y_pred=model.predict(X_test) #make prediction on test set\n",
        "  rmse_val.append(metrics.mean_squared_error(y_test,y_pred,squared=False))\n",
        "  mape_val.append(np.mean(np.abs((y_test-y_pred)/y))*100)\n",
        "  mae_val.append(np.mean(np.abs(y_test-y_pred)))\n",
        "print(np.mean(rmse_val))\n",
        "print(np.mean(mape_val))\n",
        "print(np.mean(mae_val))\n",
        "print(rmse_val)\n",
        "print(mape_val)\n",
        "print(mae_val)"
      ],
      "metadata": {
        "colab": {
          "base_uri": "https://localhost:8080/"
        },
        "id": "xy-HCUgS7kg8",
        "outputId": "0ec5d50c-f7c0-4db0-d2ac-74a7196ba5d6"
      },
      "execution_count": null,
      "outputs": [
        {
          "output_type": "stream",
          "name": "stdout",
          "text": [
            "5.171720321635817\n",
            "141.66980112415052\n",
            "4.367257352941176\n",
            "[4.228639902478881, 5.4596336274886825, 5.190795334931857, 5.9003852863840835, 5.079147456895585]\n",
            "[117.77136086090403, 140.49028860306208, 288.40212040144263, 67.50099314756149, 94.18424260778222]\n",
            "[3.853921568627451, 4.672745098039216, 3.906078431372549, 4.7560416666666665, 4.6475]\n"
          ]
        }
      ]
    },
    {
      "cell_type": "code",
      "source": [
        "from sklearn.model_selection import GridSearchCV\n",
        "params = {'n_neighbors':[2,3,4,5,6,7,8,9]}\n",
        "\n",
        "knn = neighbors.KNeighborsRegressor()\n",
        "\n",
        "model = GridSearchCV(knn, params, cv=5)\n",
        "model.fit(X_train,y_train)\n",
        "model.best_params_"
      ],
      "metadata": {
        "colab": {
          "base_uri": "https://localhost:8080/"
        },
        "id": "R2n6pKo7_bxL",
        "outputId": "8c6e5ed0-5673-4c16-bb29-d5c86459261a"
      },
      "execution_count": null,
      "outputs": [
        {
          "output_type": "execute_result",
          "data": {
            "text/plain": [
              "{'n_neighbors': 3}"
            ]
          },
          "metadata": {},
          "execution_count": 35
        }
      ]
    },
    {
      "cell_type": "code",
      "source": [
        "df.corr().sort_values('y')[['y']]"
      ],
      "metadata": {
        "colab": {
          "base_uri": "https://localhost:8080/",
          "height": 332
        },
        "id": "nzPO7tqVRomc",
        "outputId": "c9962a62-9817-476e-fac3-59a0ca9e5ebf"
      },
      "execution_count": null,
      "outputs": [
        {
          "output_type": "execute_result",
          "data": {
            "text/plain": [
              "           y\n",
              "x8 -0.581154\n",
              "x5 -0.103881\n",
              "x1 -0.046103\n",
              "x6 -0.024135\n",
              "x2  0.021311\n",
              "x7  0.112072\n",
              "x4  0.233238\n",
              "x3  0.544727\n",
              "y   1.000000"
            ],
            "text/html": [
              "\n",
              "  <div id=\"df-63431443-e3b9-43be-8ff6-86487a637cb9\">\n",
              "    <div class=\"colab-df-container\">\n",
              "      <div>\n",
              "<style scoped>\n",
              "    .dataframe tbody tr th:only-of-type {\n",
              "        vertical-align: middle;\n",
              "    }\n",
              "\n",
              "    .dataframe tbody tr th {\n",
              "        vertical-align: top;\n",
              "    }\n",
              "\n",
              "    .dataframe thead th {\n",
              "        text-align: right;\n",
              "    }\n",
              "</style>\n",
              "<table border=\"1\" class=\"dataframe\">\n",
              "  <thead>\n",
              "    <tr style=\"text-align: right;\">\n",
              "      <th></th>\n",
              "      <th>y</th>\n",
              "    </tr>\n",
              "  </thead>\n",
              "  <tbody>\n",
              "    <tr>\n",
              "      <th>x8</th>\n",
              "      <td>-0.581154</td>\n",
              "    </tr>\n",
              "    <tr>\n",
              "      <th>x5</th>\n",
              "      <td>-0.103881</td>\n",
              "    </tr>\n",
              "    <tr>\n",
              "      <th>x1</th>\n",
              "      <td>-0.046103</td>\n",
              "    </tr>\n",
              "    <tr>\n",
              "      <th>x6</th>\n",
              "      <td>-0.024135</td>\n",
              "    </tr>\n",
              "    <tr>\n",
              "      <th>x2</th>\n",
              "      <td>0.021311</td>\n",
              "    </tr>\n",
              "    <tr>\n",
              "      <th>x7</th>\n",
              "      <td>0.112072</td>\n",
              "    </tr>\n",
              "    <tr>\n",
              "      <th>x4</th>\n",
              "      <td>0.233238</td>\n",
              "    </tr>\n",
              "    <tr>\n",
              "      <th>x3</th>\n",
              "      <td>0.544727</td>\n",
              "    </tr>\n",
              "    <tr>\n",
              "      <th>y</th>\n",
              "      <td>1.000000</td>\n",
              "    </tr>\n",
              "  </tbody>\n",
              "</table>\n",
              "</div>\n",
              "      <button class=\"colab-df-convert\" onclick=\"convertToInteractive('df-63431443-e3b9-43be-8ff6-86487a637cb9')\"\n",
              "              title=\"Convert this dataframe to an interactive table.\"\n",
              "              style=\"display:none;\">\n",
              "        \n",
              "  <svg xmlns=\"http://www.w3.org/2000/svg\" height=\"24px\"viewBox=\"0 0 24 24\"\n",
              "       width=\"24px\">\n",
              "    <path d=\"M0 0h24v24H0V0z\" fill=\"none\"/>\n",
              "    <path d=\"M18.56 5.44l.94 2.06.94-2.06 2.06-.94-2.06-.94-.94-2.06-.94 2.06-2.06.94zm-11 1L8.5 8.5l.94-2.06 2.06-.94-2.06-.94L8.5 2.5l-.94 2.06-2.06.94zm10 10l.94 2.06.94-2.06 2.06-.94-2.06-.94-.94-2.06-.94 2.06-2.06.94z\"/><path d=\"M17.41 7.96l-1.37-1.37c-.4-.4-.92-.59-1.43-.59-.52 0-1.04.2-1.43.59L10.3 9.45l-7.72 7.72c-.78.78-.78 2.05 0 2.83L4 21.41c.39.39.9.59 1.41.59.51 0 1.02-.2 1.41-.59l7.78-7.78 2.81-2.81c.8-.78.8-2.07 0-2.86zM5.41 20L4 18.59l7.72-7.72 1.47 1.35L5.41 20z\"/>\n",
              "  </svg>\n",
              "      </button>\n",
              "      \n",
              "  <style>\n",
              "    .colab-df-container {\n",
              "      display:flex;\n",
              "      flex-wrap:wrap;\n",
              "      gap: 12px;\n",
              "    }\n",
              "\n",
              "    .colab-df-convert {\n",
              "      background-color: #E8F0FE;\n",
              "      border: none;\n",
              "      border-radius: 50%;\n",
              "      cursor: pointer;\n",
              "      display: none;\n",
              "      fill: #1967D2;\n",
              "      height: 32px;\n",
              "      padding: 0 0 0 0;\n",
              "      width: 32px;\n",
              "    }\n",
              "\n",
              "    .colab-df-convert:hover {\n",
              "      background-color: #E2EBFA;\n",
              "      box-shadow: 0px 1px 2px rgba(60, 64, 67, 0.3), 0px 1px 3px 1px rgba(60, 64, 67, 0.15);\n",
              "      fill: #174EA6;\n",
              "    }\n",
              "\n",
              "    [theme=dark] .colab-df-convert {\n",
              "      background-color: #3B4455;\n",
              "      fill: #D2E3FC;\n",
              "    }\n",
              "\n",
              "    [theme=dark] .colab-df-convert:hover {\n",
              "      background-color: #434B5C;\n",
              "      box-shadow: 0px 1px 3px 1px rgba(0, 0, 0, 0.15);\n",
              "      filter: drop-shadow(0px 1px 2px rgba(0, 0, 0, 0.3));\n",
              "      fill: #FFFFFF;\n",
              "    }\n",
              "  </style>\n",
              "\n",
              "      <script>\n",
              "        const buttonEl =\n",
              "          document.querySelector('#df-63431443-e3b9-43be-8ff6-86487a637cb9 button.colab-df-convert');\n",
              "        buttonEl.style.display =\n",
              "          google.colab.kernel.accessAllowed ? 'block' : 'none';\n",
              "\n",
              "        async function convertToInteractive(key) {\n",
              "          const element = document.querySelector('#df-63431443-e3b9-43be-8ff6-86487a637cb9');\n",
              "          const dataTable =\n",
              "            await google.colab.kernel.invokeFunction('convertToInteractive',\n",
              "                                                     [key], {});\n",
              "          if (!dataTable) return;\n",
              "\n",
              "          const docLinkHtml = 'Like what you see? Visit the ' +\n",
              "            '<a target=\"_blank\" href=https://colab.research.google.com/notebooks/data_table.ipynb>data table notebook</a>'\n",
              "            + ' to learn more about interactive tables.';\n",
              "          element.innerHTML = '';\n",
              "          dataTable['output_type'] = 'display_data';\n",
              "          await google.colab.output.renderOutput(dataTable, element);\n",
              "          const docLink = document.createElement('div');\n",
              "          docLink.innerHTML = docLinkHtml;\n",
              "          element.appendChild(docLink);\n",
              "        }\n",
              "      </script>\n",
              "    </div>\n",
              "  </div>\n",
              "  "
            ]
          },
          "metadata": {},
          "execution_count": 36
        }
      ]
    },
    {
      "cell_type": "code",
      "source": [
        "X=df[['x3','x4','x7','x8']]\n",
        "y=df['y']\n",
        "from sklearn import preprocessing\n",
        "scaler = preprocessing.StandardScaler().fit(X)\n",
        "X_scaled = scaler.transform(X)\n",
        "lm = LinearRegression()\n",
        "lm.fit(X_scaled,y)\n",
        "y_pred = lm.predict(X_scaled)\n",
        "rmse = metrics.mean_squared_error(y,y_pred,squared=False)\n",
        "print(rmse)\n",
        "mape = np.mean(np.abs((y-y_pred)/y))*100\n",
        "mape"
      ],
      "metadata": {
        "id": "PS6Qyc6-R8L1",
        "colab": {
          "base_uri": "https://localhost:8080/"
        },
        "outputId": "a170cccd-83c1-4556-9070-0d6001879099"
      },
      "execution_count": null,
      "outputs": [
        {
          "output_type": "stream",
          "name": "stdout",
          "text": [
            "2.893053198114689\n"
          ]
        },
        {
          "output_type": "execute_result",
          "data": {
            "text/plain": [
              "59.83849263878254"
            ]
          },
          "metadata": {},
          "execution_count": 37
        }
      ]
    },
    {
      "cell_type": "code",
      "source": [
        "X=df[['x3','x4','x7','x8']]\n",
        "y=df['y']\n",
        "X_train ,X_test, y_train, y_test = train_test_split(X,y,test_size=0.25)\n",
        "lm=LinearRegression()\n",
        "lm.fit(X_train,y_train)\n",
        "y_pred=lm.predict(X_test)\n",
        "rmse = metrics.mean_squared_error(y_pred,y_test,squared=False)\n",
        "print(lm.score(X_test,y_test))\n",
        "print(rmse)\n",
        "mape = np.mean(np.abs((y_test - y_pred)/y))*100\n",
        "mape"
      ],
      "metadata": {
        "colab": {
          "base_uri": "https://localhost:8080/"
        },
        "id": "6Qqd26IgTc9P",
        "outputId": "be03f8c8-2e14-463e-f042-c9e2927ee013"
      },
      "execution_count": null,
      "outputs": [
        {
          "output_type": "stream",
          "name": "stdout",
          "text": [
            "0.8072928161648886\n",
            "2.595975486609463\n"
          ]
        },
        {
          "output_type": "execute_result",
          "data": {
            "text/plain": [
              "54.967189184709866"
            ]
          },
          "metadata": {},
          "execution_count": 67
        }
      ]
    },
    {
      "cell_type": "code",
      "source": [
        "rmse=[]\n",
        "mape=[]\n",
        "mae=[]\n",
        "X=df[['x3','x4','x7','x8']]\n",
        "# cut1,2,5,6\n",
        "from sklearn.model_selection import KFold\n",
        "kf = KFold(n_splits=80)\n",
        "for train_index,test_index in kf.split(X):\n",
        "  X_train = X.iloc[train_index]\n",
        "  X_test = X.iloc[test_index]\n",
        "  y_train = y.iloc[train_index]\n",
        "  y_test = y.iloc[test_index]\n",
        "\n",
        "  lm = LinearRegression()\n",
        "  lm.fit(X_train,y_train)\n",
        "  y_pred = lm.predict(X_test)\n",
        "  rmse.append(metrics.mean_squared_error(y_test,y_pred,squared=False))\n",
        "  mape.append(np.mean(np.abs((y_test-y_pred)/y))*100)\n",
        "  mae.append(np.mean(np.abs(y_test-y_pred)))\n",
        "print(np.mean(rmse))\n",
        "print(np.mean(mape))\n",
        "print(np.mean(mae))\n",
        "print(rmse)\n",
        "print(mape)\n",
        "print(mae)"
      ],
      "metadata": {
        "id": "z8jWR101Uy6I",
        "colab": {
          "base_uri": "https://localhost:8080/"
        },
        "outputId": "2d5f45fe-b50e-4b9d-9094-3ffb97d33982"
      },
      "execution_count": null,
      "outputs": [
        {
          "output_type": "stream",
          "name": "stdout",
          "text": [
            "2.481596191119242\n",
            "64.03119691655607\n",
            "2.48143729739553\n",
            "[0.8143138868220957, 2.7939458196737386, 3.2427740454467653, 0.2511600878702245, 1.4679123436851036, 0.24055875134944715, 1.808026472397045, 1.4298175838027367, 2.861068777625798, 0.5440766865188382, 0.37090257621292444, 2.934169840474503, 1.5225778135134889, 3.95411691314953, 2.892355863177242, 1.9664562065464004, 0.1564118642183221, 5.597656506722917, 8.010905731248933, 2.9183850546886076, 1.6973941578898994, 2.711238892040762, 4.514624244628662, 0.08675756185700223, 3.112156512924254, 0.5307991650560269, 3.0663913803602796, 2.6886827366252817, 1.3862507162692443, 3.4084927054706604, 2.0415671412634544, 0.11006713678750679, 0.6554088648656009, 1.0571321496538673, 10.675388530722827, 2.0621346437279335, 1.8807025685352343, 6.603079361760822, 0.825664068236553, 0.1328970510437868, 3.042392861269848, 7.929840643504999, 2.678353224625729, 2.0218358504748326, 3.6301715658812967, 3.2890939925607237, 2.2206542947818746, 0.40876486609049323, 1.2823694739445624, 2.822178888153923, 1.5667849184082754, 3.610873787778404, 1.9058359930334383, 4.049268512647024, 2.7721880854074357, 2.6372616500211876, 2.9635897316757003, 3.3419177172312295, 2.5348433515525635, 2.40470064107539, 0.06729646676875412, 0.6519170027829881, 1.643402368474559, 2.3415859759267086, 3.1168990066521896, 2.4007320238395247, 0.01698521966727018, 4.4050120630111556, 4.5355088168148425, 0.9290023605202808, 2.828150574963125, 1.2231003175574444, 3.311247993699757, 3.1256028166716767, 5.050409378782549, 0.7041829090475495, 2.9748110512779924, 0.7696969500114157, 3.0139408566478707, 3.2808686714384363]\n",
            "[12.71351884050032, 35.752360252823486, 102.13174868445138, 15.13012577531473, 8.691014468236254, 7.99198509466602, 22.915417901103233, 23.061573932302203, 37.350767331929475, 16.84447945878756, 57.06193480198838, 21.386077554478884, 122.78853334786201, 28.123164389399218, 33.20730038090978, 19.743536210305223, 3.2450594236166403, 232.26790484327452, 342.3463987713219, 60.799688639345995, 54.57859028584886, 82.9125043437542, 264.0131137209744, 1.0147083258128915, 61.87189886529332, 31.408234618699815, 24.59014739663416, 22.074570908253545, 22.651155494595496, 33.54815654990808, 75.33458085843006, 6.836468123447627, 5.7441618305486495, 33.03537967668335, 216.1009824032961, 824.8538574911734, 38.93794137754109, 75.29166889122945, 29.278867667962878, 6.4201473934196525, 30.51547503781191, 80.58781141773373, 37.19935034202401, 129.60486220992516, 104.61589527035437, 37.03934676307121, 58.903296943816294, 3.484781467097129, 37.38686512957908, 22.10006960183182, 62.17400469874108, 39.078720646952426, 16.67398069145615, 102.5131269024563, 26.128068665480075, 60.90673556630918, 23.784829307188605, 35.97328005631033, 17.26732528305561, 25.55473582439309, 1.0417409716525405, 26.717909950122465, 73.3661771640428, 27.942553412013226, 46.38242569422901, 26.468930803081857, 0.46791238752810416, 192.3586053716662, 139.12603732560868, 6.067944876030574, 21.605428380161385, 158.84419708538238, 24.803355758050614, 22.246283392680972, 116.36887969545042, 4.722890067387992, 14.88894420059055, 41.38155645222665, 25.585236474090582, 86.56645571077668]\n",
            "[0.8087742054285343, 2.792513879875757, 3.2370341687413777, 0.2511600878702245, 1.4679123436851036, 0.24055875134944715, 1.808026472397045, 1.4298175838027367, 2.861068777625798, 0.5440766865188382, 0.37090257621292444, 2.934169840474503, 1.5225778135134889, 3.95411691314953, 2.892355863177242, 1.9664562065464004, 0.1564118642183221, 5.597656506722917, 8.010905731248933, 2.9183850546886076, 1.6973941578898994, 2.711238892040762, 4.514624244628662, 0.08675756185700223, 3.112156512924254, 0.5307991650560269, 3.0663913803602796, 2.6886827366252817, 1.3862507162692443, 3.4084927054706604, 2.0415671412634544, 0.11006713678750679, 0.6554088648656009, 1.0571321496538673, 10.675388530722827, 2.0621346437279335, 1.8807025685352343, 6.603079361760822, 0.825664068236553, 0.1328970510437868, 3.042392861269848, 7.929840643504999, 2.678353224625729, 2.0218358504748326, 3.6301715658812967, 3.2890939925607237, 2.2206542947818746, 0.40876486609049323, 1.2823694739445624, 2.822178888153923, 1.5667849184082754, 3.610873787778404, 1.9058359930334383, 4.049268512647024, 2.7721880854074357, 2.6372616500211876, 2.9635897316757003, 3.3419177172312295, 2.5348433515525635, 2.40470064107539, 0.06729646676875412, 0.6519170027829881, 1.643402368474559, 2.3415859759267086, 3.1168990066521896, 2.4007320238395247, 0.01698521966727018, 4.4050120630111556, 4.5355088168148425, 0.9290023605202808, 2.828150574963125, 1.2231003175574444, 3.311247993699757, 3.1256028166716767, 5.050409378782549, 0.7041829090475495, 2.9748110512779924, 0.7696969500114157, 3.0139408566478707, 3.2808686714384363]\n"
          ]
        }
      ]
    },
    {
      "cell_type": "code",
      "source": [
        "test = pd.read_csv('A-test.csv')"
      ],
      "metadata": {
        "id": "Fyn08tAOQzkq"
      },
      "execution_count": null,
      "outputs": []
    },
    {
      "cell_type": "code",
      "source": [
        "test[['x3','x4','x7','x8']].mean()"
      ],
      "metadata": {
        "colab": {
          "base_uri": "https://localhost:8080/"
        },
        "id": "uvN7HobdRTQh",
        "outputId": "024f731f-b1ee-4dd5-e1a7-d83fb7730344"
      },
      "execution_count": null,
      "outputs": [
        {
          "output_type": "execute_result",
          "data": {
            "text/plain": [
              "x3     -33.167778\n",
              "x4    6294.800000\n",
              "x7      -2.693333\n",
              "x8      -0.293333\n",
              "dtype: float64"
            ]
          },
          "metadata": {},
          "execution_count": 41
        }
      ]
    },
    {
      "cell_type": "code",
      "source": [
        "test['x3'] = test['x3'].fillna(test['x3'].mean())\n",
        "test['x4'] = test['x4'].fillna(test['x4'].mean())\n",
        "test['x7'] = test['x7'].fillna(test['x7'].mean())\n",
        "test['x8'] = test['x8'].fillna(test['x8'].mean())"
      ],
      "metadata": {
        "id": "zM4GG1n7Q5DC"
      },
      "execution_count": null,
      "outputs": []
    },
    {
      "cell_type": "code",
      "source": [
        "test[['x3','x4','x7','x8']]"
      ],
      "metadata": {
        "colab": {
          "base_uri": "https://localhost:8080/",
          "height": 363
        },
        "id": "omAmjsm7Rdv5",
        "outputId": "eb99a9a5-14db-4fca-fe1b-bd0fdc38833a"
      },
      "execution_count": null,
      "outputs": [
        {
          "output_type": "execute_result",
          "data": {
            "text/plain": [
              "           x3        x4         x7         x8\n",
              "0 -105.750000    600.25  -1.360000  -7.430000\n",
              "1   91.050000   2401.98   5.660000  10.590000\n",
              "2  -82.590000  25789.15   1.490000  -4.730000\n",
              "3  -33.167778      2.76  -4.200000   7.480000\n",
              "4   51.850000      1.28  -6.860000  -0.780000\n",
              "5 -182.850000   2928.97   9.680000  -8.590000\n",
              "6   97.280000  19173.94   7.060000  -8.060000\n",
              "7 -220.910000   6294.80  -2.693333   9.710000\n",
              "8  -16.470000   3976.56 -23.440000  -0.293333\n",
              "9   69.880000   1778.31 -12.270000  -0.830000"
            ],
            "text/html": [
              "\n",
              "  <div id=\"df-06650e0d-dca2-4c54-b932-5785f72a60da\">\n",
              "    <div class=\"colab-df-container\">\n",
              "      <div>\n",
              "<style scoped>\n",
              "    .dataframe tbody tr th:only-of-type {\n",
              "        vertical-align: middle;\n",
              "    }\n",
              "\n",
              "    .dataframe tbody tr th {\n",
              "        vertical-align: top;\n",
              "    }\n",
              "\n",
              "    .dataframe thead th {\n",
              "        text-align: right;\n",
              "    }\n",
              "</style>\n",
              "<table border=\"1\" class=\"dataframe\">\n",
              "  <thead>\n",
              "    <tr style=\"text-align: right;\">\n",
              "      <th></th>\n",
              "      <th>x3</th>\n",
              "      <th>x4</th>\n",
              "      <th>x7</th>\n",
              "      <th>x8</th>\n",
              "    </tr>\n",
              "  </thead>\n",
              "  <tbody>\n",
              "    <tr>\n",
              "      <th>0</th>\n",
              "      <td>-105.750000</td>\n",
              "      <td>600.25</td>\n",
              "      <td>-1.360000</td>\n",
              "      <td>-7.430000</td>\n",
              "    </tr>\n",
              "    <tr>\n",
              "      <th>1</th>\n",
              "      <td>91.050000</td>\n",
              "      <td>2401.98</td>\n",
              "      <td>5.660000</td>\n",
              "      <td>10.590000</td>\n",
              "    </tr>\n",
              "    <tr>\n",
              "      <th>2</th>\n",
              "      <td>-82.590000</td>\n",
              "      <td>25789.15</td>\n",
              "      <td>1.490000</td>\n",
              "      <td>-4.730000</td>\n",
              "    </tr>\n",
              "    <tr>\n",
              "      <th>3</th>\n",
              "      <td>-33.167778</td>\n",
              "      <td>2.76</td>\n",
              "      <td>-4.200000</td>\n",
              "      <td>7.480000</td>\n",
              "    </tr>\n",
              "    <tr>\n",
              "      <th>4</th>\n",
              "      <td>51.850000</td>\n",
              "      <td>1.28</td>\n",
              "      <td>-6.860000</td>\n",
              "      <td>-0.780000</td>\n",
              "    </tr>\n",
              "    <tr>\n",
              "      <th>5</th>\n",
              "      <td>-182.850000</td>\n",
              "      <td>2928.97</td>\n",
              "      <td>9.680000</td>\n",
              "      <td>-8.590000</td>\n",
              "    </tr>\n",
              "    <tr>\n",
              "      <th>6</th>\n",
              "      <td>97.280000</td>\n",
              "      <td>19173.94</td>\n",
              "      <td>7.060000</td>\n",
              "      <td>-8.060000</td>\n",
              "    </tr>\n",
              "    <tr>\n",
              "      <th>7</th>\n",
              "      <td>-220.910000</td>\n",
              "      <td>6294.80</td>\n",
              "      <td>-2.693333</td>\n",
              "      <td>9.710000</td>\n",
              "    </tr>\n",
              "    <tr>\n",
              "      <th>8</th>\n",
              "      <td>-16.470000</td>\n",
              "      <td>3976.56</td>\n",
              "      <td>-23.440000</td>\n",
              "      <td>-0.293333</td>\n",
              "    </tr>\n",
              "    <tr>\n",
              "      <th>9</th>\n",
              "      <td>69.880000</td>\n",
              "      <td>1778.31</td>\n",
              "      <td>-12.270000</td>\n",
              "      <td>-0.830000</td>\n",
              "    </tr>\n",
              "  </tbody>\n",
              "</table>\n",
              "</div>\n",
              "      <button class=\"colab-df-convert\" onclick=\"convertToInteractive('df-06650e0d-dca2-4c54-b932-5785f72a60da')\"\n",
              "              title=\"Convert this dataframe to an interactive table.\"\n",
              "              style=\"display:none;\">\n",
              "        \n",
              "  <svg xmlns=\"http://www.w3.org/2000/svg\" height=\"24px\"viewBox=\"0 0 24 24\"\n",
              "       width=\"24px\">\n",
              "    <path d=\"M0 0h24v24H0V0z\" fill=\"none\"/>\n",
              "    <path d=\"M18.56 5.44l.94 2.06.94-2.06 2.06-.94-2.06-.94-.94-2.06-.94 2.06-2.06.94zm-11 1L8.5 8.5l.94-2.06 2.06-.94-2.06-.94L8.5 2.5l-.94 2.06-2.06.94zm10 10l.94 2.06.94-2.06 2.06-.94-2.06-.94-.94-2.06-.94 2.06-2.06.94z\"/><path d=\"M17.41 7.96l-1.37-1.37c-.4-.4-.92-.59-1.43-.59-.52 0-1.04.2-1.43.59L10.3 9.45l-7.72 7.72c-.78.78-.78 2.05 0 2.83L4 21.41c.39.39.9.59 1.41.59.51 0 1.02-.2 1.41-.59l7.78-7.78 2.81-2.81c.8-.78.8-2.07 0-2.86zM5.41 20L4 18.59l7.72-7.72 1.47 1.35L5.41 20z\"/>\n",
              "  </svg>\n",
              "      </button>\n",
              "      \n",
              "  <style>\n",
              "    .colab-df-container {\n",
              "      display:flex;\n",
              "      flex-wrap:wrap;\n",
              "      gap: 12px;\n",
              "    }\n",
              "\n",
              "    .colab-df-convert {\n",
              "      background-color: #E8F0FE;\n",
              "      border: none;\n",
              "      border-radius: 50%;\n",
              "      cursor: pointer;\n",
              "      display: none;\n",
              "      fill: #1967D2;\n",
              "      height: 32px;\n",
              "      padding: 0 0 0 0;\n",
              "      width: 32px;\n",
              "    }\n",
              "\n",
              "    .colab-df-convert:hover {\n",
              "      background-color: #E2EBFA;\n",
              "      box-shadow: 0px 1px 2px rgba(60, 64, 67, 0.3), 0px 1px 3px 1px rgba(60, 64, 67, 0.15);\n",
              "      fill: #174EA6;\n",
              "    }\n",
              "\n",
              "    [theme=dark] .colab-df-convert {\n",
              "      background-color: #3B4455;\n",
              "      fill: #D2E3FC;\n",
              "    }\n",
              "\n",
              "    [theme=dark] .colab-df-convert:hover {\n",
              "      background-color: #434B5C;\n",
              "      box-shadow: 0px 1px 3px 1px rgba(0, 0, 0, 0.15);\n",
              "      filter: drop-shadow(0px 1px 2px rgba(0, 0, 0, 0.3));\n",
              "      fill: #FFFFFF;\n",
              "    }\n",
              "  </style>\n",
              "\n",
              "      <script>\n",
              "        const buttonEl =\n",
              "          document.querySelector('#df-06650e0d-dca2-4c54-b932-5785f72a60da button.colab-df-convert');\n",
              "        buttonEl.style.display =\n",
              "          google.colab.kernel.accessAllowed ? 'block' : 'none';\n",
              "\n",
              "        async function convertToInteractive(key) {\n",
              "          const element = document.querySelector('#df-06650e0d-dca2-4c54-b932-5785f72a60da');\n",
              "          const dataTable =\n",
              "            await google.colab.kernel.invokeFunction('convertToInteractive',\n",
              "                                                     [key], {});\n",
              "          if (!dataTable) return;\n",
              "\n",
              "          const docLinkHtml = 'Like what you see? Visit the ' +\n",
              "            '<a target=\"_blank\" href=https://colab.research.google.com/notebooks/data_table.ipynb>data table notebook</a>'\n",
              "            + ' to learn more about interactive tables.';\n",
              "          element.innerHTML = '';\n",
              "          dataTable['output_type'] = 'display_data';\n",
              "          await google.colab.output.renderOutput(dataTable, element);\n",
              "          const docLink = document.createElement('div');\n",
              "          docLink.innerHTML = docLinkHtml;\n",
              "          element.appendChild(docLink);\n",
              "        }\n",
              "      </script>\n",
              "    </div>\n",
              "  </div>\n",
              "  "
            ]
          },
          "metadata": {},
          "execution_count": 43
        }
      ]
    },
    {
      "cell_type": "code",
      "source": [
        "Xfinal = test[['x3','x4','x7','x8']]"
      ],
      "metadata": {
        "id": "ogScKUP4RnLZ"
      },
      "execution_count": null,
      "outputs": []
    },
    {
      "cell_type": "code",
      "source": [
        "df.info()"
      ],
      "metadata": {
        "colab": {
          "base_uri": "https://localhost:8080/"
        },
        "id": "ijp51jiaR6co",
        "outputId": "04868d7e-44bd-4d76-dfe2-512ff6f302c6"
      },
      "execution_count": null,
      "outputs": [
        {
          "output_type": "stream",
          "name": "stdout",
          "text": [
            "<class 'pandas.core.frame.DataFrame'>\n",
            "Int64Index: 83 entries, 1 to 186\n",
            "Data columns (total 9 columns):\n",
            " #   Column  Non-Null Count  Dtype  \n",
            "---  ------  --------------  -----  \n",
            " 0   x1      83 non-null     float64\n",
            " 1   x2      83 non-null     float64\n",
            " 2   x3      83 non-null     float64\n",
            " 3   x4      83 non-null     float64\n",
            " 4   x5      83 non-null     float64\n",
            " 5   x6      83 non-null     float64\n",
            " 6   x7      83 non-null     float64\n",
            " 7   x8      83 non-null     float64\n",
            " 8   y       83 non-null     float64\n",
            "dtypes: float64(9)\n",
            "memory usage: 8.5 KB\n"
          ]
        }
      ]
    },
    {
      "cell_type": "code",
      "source": [
        "X=df[['x3','x4','x7','x8']]\n",
        "y=df['y']\n",
        "model=LinearRegression()\n",
        "model.fit(X,y)"
      ],
      "metadata": {
        "colab": {
          "base_uri": "https://localhost:8080/"
        },
        "id": "E-l4Gp1vRwc4",
        "outputId": "b80b7818-76d1-47b6-f2dc-dcc477a4699e"
      },
      "execution_count": null,
      "outputs": [
        {
          "output_type": "execute_result",
          "data": {
            "text/plain": [
              "LinearRegression()"
            ]
          },
          "metadata": {},
          "execution_count": 46
        }
      ]
    },
    {
      "cell_type": "code",
      "source": [
        "yfinal = model.predict(Xfinal)\n",
        "yfinal"
      ],
      "metadata": {
        "colab": {
          "base_uri": "https://localhost:8080/"
        },
        "id": "HgAEwQuISB0B",
        "outputId": "70b1cb39-60eb-4f37-be33-cd4c0b0c3436"
      },
      "execution_count": null,
      "outputs": [
        {
          "output_type": "execute_result",
          "data": {
            "text/plain": [
              "array([  1.65464768,   2.96173957,   6.61403115,  -2.43455581,\n",
              "         5.79564345,  -0.71985616,  16.012677  , -11.49279364,\n",
              "         2.41016826,   6.88106543])"
            ]
          },
          "metadata": {},
          "execution_count": 47
        }
      ]
    },
    {
      "cell_type": "code",
      "source": [
        "acc = model.predict(X)\n",
        "acc\n",
        "df['predict'] = acc"
      ],
      "metadata": {
        "id": "m8ssESsd9Isz"
      },
      "execution_count": null,
      "outputs": []
    },
    {
      "cell_type": "code",
      "source": [
        "df[['y','predict']]"
      ],
      "metadata": {
        "colab": {
          "base_uri": "https://localhost:8080/",
          "height": 424
        },
        "id": "wDTEqj059VZw",
        "outputId": "a60c8efe-3305-4264-e15c-172bef7ee755"
      },
      "execution_count": null,
      "outputs": [
        {
          "output_type": "execute_result",
          "data": {
            "text/plain": [
              "         y    predict\n",
              "1     7.31   7.981132\n",
              "2    -5.77  -4.921069\n",
              "5    16.03  13.206666\n",
              "6     5.05   7.772111\n",
              "11    1.73  -1.217218\n",
              "..     ...        ...\n",
              "173  14.91  15.550718\n",
              "174  19.98  17.360004\n",
              "177  -1.86  -2.599339\n",
              "185  11.78   8.881217\n",
              "186   3.79   7.003978\n",
              "\n",
              "[83 rows x 2 columns]"
            ],
            "text/html": [
              "\n",
              "  <div id=\"df-992a931b-e0dd-4237-b8a6-f76359c02641\">\n",
              "    <div class=\"colab-df-container\">\n",
              "      <div>\n",
              "<style scoped>\n",
              "    .dataframe tbody tr th:only-of-type {\n",
              "        vertical-align: middle;\n",
              "    }\n",
              "\n",
              "    .dataframe tbody tr th {\n",
              "        vertical-align: top;\n",
              "    }\n",
              "\n",
              "    .dataframe thead th {\n",
              "        text-align: right;\n",
              "    }\n",
              "</style>\n",
              "<table border=\"1\" class=\"dataframe\">\n",
              "  <thead>\n",
              "    <tr style=\"text-align: right;\">\n",
              "      <th></th>\n",
              "      <th>y</th>\n",
              "      <th>predict</th>\n",
              "    </tr>\n",
              "  </thead>\n",
              "  <tbody>\n",
              "    <tr>\n",
              "      <th>1</th>\n",
              "      <td>7.31</td>\n",
              "      <td>7.981132</td>\n",
              "    </tr>\n",
              "    <tr>\n",
              "      <th>2</th>\n",
              "      <td>-5.77</td>\n",
              "      <td>-4.921069</td>\n",
              "    </tr>\n",
              "    <tr>\n",
              "      <th>5</th>\n",
              "      <td>16.03</td>\n",
              "      <td>13.206666</td>\n",
              "    </tr>\n",
              "    <tr>\n",
              "      <th>6</th>\n",
              "      <td>5.05</td>\n",
              "      <td>7.772111</td>\n",
              "    </tr>\n",
              "    <tr>\n",
              "      <th>11</th>\n",
              "      <td>1.73</td>\n",
              "      <td>-1.217218</td>\n",
              "    </tr>\n",
              "    <tr>\n",
              "      <th>...</th>\n",
              "      <td>...</td>\n",
              "      <td>...</td>\n",
              "    </tr>\n",
              "    <tr>\n",
              "      <th>173</th>\n",
              "      <td>14.91</td>\n",
              "      <td>15.550718</td>\n",
              "    </tr>\n",
              "    <tr>\n",
              "      <th>174</th>\n",
              "      <td>19.98</td>\n",
              "      <td>17.360004</td>\n",
              "    </tr>\n",
              "    <tr>\n",
              "      <th>177</th>\n",
              "      <td>-1.86</td>\n",
              "      <td>-2.599339</td>\n",
              "    </tr>\n",
              "    <tr>\n",
              "      <th>185</th>\n",
              "      <td>11.78</td>\n",
              "      <td>8.881217</td>\n",
              "    </tr>\n",
              "    <tr>\n",
              "      <th>186</th>\n",
              "      <td>3.79</td>\n",
              "      <td>7.003978</td>\n",
              "    </tr>\n",
              "  </tbody>\n",
              "</table>\n",
              "<p>83 rows × 2 columns</p>\n",
              "</div>\n",
              "      <button class=\"colab-df-convert\" onclick=\"convertToInteractive('df-992a931b-e0dd-4237-b8a6-f76359c02641')\"\n",
              "              title=\"Convert this dataframe to an interactive table.\"\n",
              "              style=\"display:none;\">\n",
              "        \n",
              "  <svg xmlns=\"http://www.w3.org/2000/svg\" height=\"24px\"viewBox=\"0 0 24 24\"\n",
              "       width=\"24px\">\n",
              "    <path d=\"M0 0h24v24H0V0z\" fill=\"none\"/>\n",
              "    <path d=\"M18.56 5.44l.94 2.06.94-2.06 2.06-.94-2.06-.94-.94-2.06-.94 2.06-2.06.94zm-11 1L8.5 8.5l.94-2.06 2.06-.94-2.06-.94L8.5 2.5l-.94 2.06-2.06.94zm10 10l.94 2.06.94-2.06 2.06-.94-2.06-.94-.94-2.06-.94 2.06-2.06.94z\"/><path d=\"M17.41 7.96l-1.37-1.37c-.4-.4-.92-.59-1.43-.59-.52 0-1.04.2-1.43.59L10.3 9.45l-7.72 7.72c-.78.78-.78 2.05 0 2.83L4 21.41c.39.39.9.59 1.41.59.51 0 1.02-.2 1.41-.59l7.78-7.78 2.81-2.81c.8-.78.8-2.07 0-2.86zM5.41 20L4 18.59l7.72-7.72 1.47 1.35L5.41 20z\"/>\n",
              "  </svg>\n",
              "      </button>\n",
              "      \n",
              "  <style>\n",
              "    .colab-df-container {\n",
              "      display:flex;\n",
              "      flex-wrap:wrap;\n",
              "      gap: 12px;\n",
              "    }\n",
              "\n",
              "    .colab-df-convert {\n",
              "      background-color: #E8F0FE;\n",
              "      border: none;\n",
              "      border-radius: 50%;\n",
              "      cursor: pointer;\n",
              "      display: none;\n",
              "      fill: #1967D2;\n",
              "      height: 32px;\n",
              "      padding: 0 0 0 0;\n",
              "      width: 32px;\n",
              "    }\n",
              "\n",
              "    .colab-df-convert:hover {\n",
              "      background-color: #E2EBFA;\n",
              "      box-shadow: 0px 1px 2px rgba(60, 64, 67, 0.3), 0px 1px 3px 1px rgba(60, 64, 67, 0.15);\n",
              "      fill: #174EA6;\n",
              "    }\n",
              "\n",
              "    [theme=dark] .colab-df-convert {\n",
              "      background-color: #3B4455;\n",
              "      fill: #D2E3FC;\n",
              "    }\n",
              "\n",
              "    [theme=dark] .colab-df-convert:hover {\n",
              "      background-color: #434B5C;\n",
              "      box-shadow: 0px 1px 3px 1px rgba(0, 0, 0, 0.15);\n",
              "      filter: drop-shadow(0px 1px 2px rgba(0, 0, 0, 0.3));\n",
              "      fill: #FFFFFF;\n",
              "    }\n",
              "  </style>\n",
              "\n",
              "      <script>\n",
              "        const buttonEl =\n",
              "          document.querySelector('#df-992a931b-e0dd-4237-b8a6-f76359c02641 button.colab-df-convert');\n",
              "        buttonEl.style.display =\n",
              "          google.colab.kernel.accessAllowed ? 'block' : 'none';\n",
              "\n",
              "        async function convertToInteractive(key) {\n",
              "          const element = document.querySelector('#df-992a931b-e0dd-4237-b8a6-f76359c02641');\n",
              "          const dataTable =\n",
              "            await google.colab.kernel.invokeFunction('convertToInteractive',\n",
              "                                                     [key], {});\n",
              "          if (!dataTable) return;\n",
              "\n",
              "          const docLinkHtml = 'Like what you see? Visit the ' +\n",
              "            '<a target=\"_blank\" href=https://colab.research.google.com/notebooks/data_table.ipynb>data table notebook</a>'\n",
              "            + ' to learn more about interactive tables.';\n",
              "          element.innerHTML = '';\n",
              "          dataTable['output_type'] = 'display_data';\n",
              "          await google.colab.output.renderOutput(dataTable, element);\n",
              "          const docLink = document.createElement('div');\n",
              "          docLink.innerHTML = docLinkHtml;\n",
              "          element.appendChild(docLink);\n",
              "        }\n",
              "      </script>\n",
              "    </div>\n",
              "  </div>\n",
              "  "
            ]
          },
          "metadata": {},
          "execution_count": 59
        }
      ]
    },
    {
      "cell_type": "code",
      "source": [
        "model.score(y,acc)"
      ],
      "metadata": {
        "colab": {
          "base_uri": "https://localhost:8080/",
          "height": 503
        },
        "id": "X27MJbXgO6Ox",
        "outputId": "94c1ab5d-544a-4fd8-baae-8afdc1e9a8f6"
      },
      "execution_count": null,
      "outputs": [
        {
          "output_type": "stream",
          "name": "stderr",
          "text": [
            "/usr/local/lib/python3.7/dist-packages/sklearn/base.py:451: UserWarning: X does not have valid feature names, but LinearRegression was fitted with feature names\n",
            "  \"X does not have valid feature names, but\"\n"
          ]
        },
        {
          "output_type": "error",
          "ename": "ValueError",
          "evalue": "ignored",
          "traceback": [
            "\u001b[0;31m---------------------------------------------------------------------------\u001b[0m",
            "\u001b[0;31mValueError\u001b[0m                                Traceback (most recent call last)",
            "\u001b[0;32m<ipython-input-63-a5f61d005288>\u001b[0m in \u001b[0;36m<module>\u001b[0;34m\u001b[0m\n\u001b[0;32m----> 1\u001b[0;31m \u001b[0mmodel\u001b[0m\u001b[0;34m.\u001b[0m\u001b[0mscore\u001b[0m\u001b[0;34m(\u001b[0m\u001b[0my\u001b[0m\u001b[0;34m,\u001b[0m\u001b[0macc\u001b[0m\u001b[0;34m)\u001b[0m\u001b[0;34m\u001b[0m\u001b[0;34m\u001b[0m\u001b[0m\n\u001b[0m",
            "\u001b[0;32m/usr/local/lib/python3.7/dist-packages/sklearn/base.py\u001b[0m in \u001b[0;36mscore\u001b[0;34m(self, X, y, sample_weight)\u001b[0m\n\u001b[1;32m    703\u001b[0m         \u001b[0;32mfrom\u001b[0m \u001b[0;34m.\u001b[0m\u001b[0mmetrics\u001b[0m \u001b[0;32mimport\u001b[0m \u001b[0mr2_score\u001b[0m\u001b[0;34m\u001b[0m\u001b[0;34m\u001b[0m\u001b[0m\n\u001b[1;32m    704\u001b[0m \u001b[0;34m\u001b[0m\u001b[0m\n\u001b[0;32m--> 705\u001b[0;31m         \u001b[0my_pred\u001b[0m \u001b[0;34m=\u001b[0m \u001b[0mself\u001b[0m\u001b[0;34m.\u001b[0m\u001b[0mpredict\u001b[0m\u001b[0;34m(\u001b[0m\u001b[0mX\u001b[0m\u001b[0;34m)\u001b[0m\u001b[0;34m\u001b[0m\u001b[0;34m\u001b[0m\u001b[0m\n\u001b[0m\u001b[1;32m    706\u001b[0m         \u001b[0;32mreturn\u001b[0m \u001b[0mr2_score\u001b[0m\u001b[0;34m(\u001b[0m\u001b[0my\u001b[0m\u001b[0;34m,\u001b[0m \u001b[0my_pred\u001b[0m\u001b[0;34m,\u001b[0m \u001b[0msample_weight\u001b[0m\u001b[0;34m=\u001b[0m\u001b[0msample_weight\u001b[0m\u001b[0;34m)\u001b[0m\u001b[0;34m\u001b[0m\u001b[0;34m\u001b[0m\u001b[0m\n\u001b[1;32m    707\u001b[0m \u001b[0;34m\u001b[0m\u001b[0m\n",
            "\u001b[0;32m/usr/local/lib/python3.7/dist-packages/sklearn/linear_model/_base.py\u001b[0m in \u001b[0;36mpredict\u001b[0;34m(self, X)\u001b[0m\n\u001b[1;32m    360\u001b[0m             \u001b[0mReturns\u001b[0m \u001b[0mpredicted\u001b[0m \u001b[0mvalues\u001b[0m\u001b[0;34m.\u001b[0m\u001b[0;34m\u001b[0m\u001b[0;34m\u001b[0m\u001b[0m\n\u001b[1;32m    361\u001b[0m         \"\"\"\n\u001b[0;32m--> 362\u001b[0;31m         \u001b[0;32mreturn\u001b[0m \u001b[0mself\u001b[0m\u001b[0;34m.\u001b[0m\u001b[0m_decision_function\u001b[0m\u001b[0;34m(\u001b[0m\u001b[0mX\u001b[0m\u001b[0;34m)\u001b[0m\u001b[0;34m\u001b[0m\u001b[0;34m\u001b[0m\u001b[0m\n\u001b[0m\u001b[1;32m    363\u001b[0m \u001b[0;34m\u001b[0m\u001b[0m\n\u001b[1;32m    364\u001b[0m     \u001b[0m_preprocess_data\u001b[0m \u001b[0;34m=\u001b[0m \u001b[0mstaticmethod\u001b[0m\u001b[0;34m(\u001b[0m\u001b[0m_preprocess_data\u001b[0m\u001b[0;34m)\u001b[0m\u001b[0;34m\u001b[0m\u001b[0;34m\u001b[0m\u001b[0m\n",
            "\u001b[0;32m/usr/local/lib/python3.7/dist-packages/sklearn/linear_model/_base.py\u001b[0m in \u001b[0;36m_decision_function\u001b[0;34m(self, X)\u001b[0m\n\u001b[1;32m    343\u001b[0m         \u001b[0mcheck_is_fitted\u001b[0m\u001b[0;34m(\u001b[0m\u001b[0mself\u001b[0m\u001b[0;34m)\u001b[0m\u001b[0;34m\u001b[0m\u001b[0;34m\u001b[0m\u001b[0m\n\u001b[1;32m    344\u001b[0m \u001b[0;34m\u001b[0m\u001b[0m\n\u001b[0;32m--> 345\u001b[0;31m         \u001b[0mX\u001b[0m \u001b[0;34m=\u001b[0m \u001b[0mself\u001b[0m\u001b[0;34m.\u001b[0m\u001b[0m_validate_data\u001b[0m\u001b[0;34m(\u001b[0m\u001b[0mX\u001b[0m\u001b[0;34m,\u001b[0m \u001b[0maccept_sparse\u001b[0m\u001b[0;34m=\u001b[0m\u001b[0;34m[\u001b[0m\u001b[0;34m\"csr\"\u001b[0m\u001b[0;34m,\u001b[0m \u001b[0;34m\"csc\"\u001b[0m\u001b[0;34m,\u001b[0m \u001b[0;34m\"coo\"\u001b[0m\u001b[0;34m]\u001b[0m\u001b[0;34m,\u001b[0m \u001b[0mreset\u001b[0m\u001b[0;34m=\u001b[0m\u001b[0;32mFalse\u001b[0m\u001b[0;34m)\u001b[0m\u001b[0;34m\u001b[0m\u001b[0;34m\u001b[0m\u001b[0m\n\u001b[0m\u001b[1;32m    346\u001b[0m         \u001b[0;32mreturn\u001b[0m \u001b[0msafe_sparse_dot\u001b[0m\u001b[0;34m(\u001b[0m\u001b[0mX\u001b[0m\u001b[0;34m,\u001b[0m \u001b[0mself\u001b[0m\u001b[0;34m.\u001b[0m\u001b[0mcoef_\u001b[0m\u001b[0;34m.\u001b[0m\u001b[0mT\u001b[0m\u001b[0;34m,\u001b[0m \u001b[0mdense_output\u001b[0m\u001b[0;34m=\u001b[0m\u001b[0;32mTrue\u001b[0m\u001b[0;34m)\u001b[0m \u001b[0;34m+\u001b[0m \u001b[0mself\u001b[0m\u001b[0;34m.\u001b[0m\u001b[0mintercept_\u001b[0m\u001b[0;34m\u001b[0m\u001b[0;34m\u001b[0m\u001b[0m\n\u001b[1;32m    347\u001b[0m \u001b[0;34m\u001b[0m\u001b[0m\n",
            "\u001b[0;32m/usr/local/lib/python3.7/dist-packages/sklearn/base.py\u001b[0m in \u001b[0;36m_validate_data\u001b[0;34m(self, X, y, reset, validate_separately, **check_params)\u001b[0m\n\u001b[1;32m    564\u001b[0m             \u001b[0;32mraise\u001b[0m \u001b[0mValueError\u001b[0m\u001b[0;34m(\u001b[0m\u001b[0;34m\"Validation should be done on X, y or both.\"\u001b[0m\u001b[0;34m)\u001b[0m\u001b[0;34m\u001b[0m\u001b[0;34m\u001b[0m\u001b[0m\n\u001b[1;32m    565\u001b[0m         \u001b[0;32melif\u001b[0m \u001b[0;32mnot\u001b[0m \u001b[0mno_val_X\u001b[0m \u001b[0;32mand\u001b[0m \u001b[0mno_val_y\u001b[0m\u001b[0;34m:\u001b[0m\u001b[0;34m\u001b[0m\u001b[0;34m\u001b[0m\u001b[0m\n\u001b[0;32m--> 566\u001b[0;31m             \u001b[0mX\u001b[0m \u001b[0;34m=\u001b[0m \u001b[0mcheck_array\u001b[0m\u001b[0;34m(\u001b[0m\u001b[0mX\u001b[0m\u001b[0;34m,\u001b[0m \u001b[0;34m**\u001b[0m\u001b[0mcheck_params\u001b[0m\u001b[0;34m)\u001b[0m\u001b[0;34m\u001b[0m\u001b[0;34m\u001b[0m\u001b[0m\n\u001b[0m\u001b[1;32m    567\u001b[0m             \u001b[0mout\u001b[0m \u001b[0;34m=\u001b[0m \u001b[0mX\u001b[0m\u001b[0;34m\u001b[0m\u001b[0;34m\u001b[0m\u001b[0m\n\u001b[1;32m    568\u001b[0m         \u001b[0;32melif\u001b[0m \u001b[0mno_val_X\u001b[0m \u001b[0;32mand\u001b[0m \u001b[0;32mnot\u001b[0m \u001b[0mno_val_y\u001b[0m\u001b[0;34m:\u001b[0m\u001b[0;34m\u001b[0m\u001b[0;34m\u001b[0m\u001b[0m\n",
            "\u001b[0;32m/usr/local/lib/python3.7/dist-packages/sklearn/utils/validation.py\u001b[0m in \u001b[0;36mcheck_array\u001b[0;34m(array, accept_sparse, accept_large_sparse, dtype, order, copy, force_all_finite, ensure_2d, allow_nd, ensure_min_samples, ensure_min_features, estimator)\u001b[0m\n\u001b[1;32m    771\u001b[0m                     \u001b[0;34m\"Reshape your data either using array.reshape(-1, 1) if \"\u001b[0m\u001b[0;34m\u001b[0m\u001b[0;34m\u001b[0m\u001b[0m\n\u001b[1;32m    772\u001b[0m                     \u001b[0;34m\"your data has a single feature or array.reshape(1, -1) \"\u001b[0m\u001b[0;34m\u001b[0m\u001b[0;34m\u001b[0m\u001b[0m\n\u001b[0;32m--> 773\u001b[0;31m                     \u001b[0;34m\"if it contains a single sample.\"\u001b[0m\u001b[0;34m.\u001b[0m\u001b[0mformat\u001b[0m\u001b[0;34m(\u001b[0m\u001b[0marray\u001b[0m\u001b[0;34m)\u001b[0m\u001b[0;34m\u001b[0m\u001b[0;34m\u001b[0m\u001b[0m\n\u001b[0m\u001b[1;32m    774\u001b[0m                 )\n\u001b[1;32m    775\u001b[0m \u001b[0;34m\u001b[0m\u001b[0m\n",
            "\u001b[0;31mValueError\u001b[0m: Expected 2D array, got 1D array instead:\narray=[ 7.31 -5.77 16.03  5.05  1.73 12.12  1.66 16.89  3.01 -7.89  6.2   7.66\n  3.23 -0.65 13.72 -1.24 14.06  8.71 -9.96  4.82  2.41  2.34  4.8   3.11\n -3.27 -1.71  8.55  5.03  1.69 12.47 12.18  6.12 10.16  2.71  1.61 11.41\n  3.2  -4.94  0.25  4.83 -8.77  2.82  2.07  9.97  9.84  7.2  -1.56 -3.47\n  8.88  3.77 11.73 -3.43 12.77 -2.52  9.24 11.43  3.95 10.61  4.33 12.46\n  9.29 14.68  9.41  6.46 -2.44  2.24  8.38  6.72  9.07  3.63  2.29 -3.26\n 15.31 13.09  0.77 13.35 14.05 -4.34 14.91 19.98 -1.86 11.78  3.79].\nReshape your data either using array.reshape(-1, 1) if your data has a single feature or array.reshape(1, -1) if it contains a single sample."
          ]
        }
      ]
    }
  ]
}