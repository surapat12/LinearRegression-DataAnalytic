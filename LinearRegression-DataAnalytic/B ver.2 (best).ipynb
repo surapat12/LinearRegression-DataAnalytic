{
  "nbformat": 4,
  "nbformat_minor": 0,
  "metadata": {
    "colab": {
      "provenance": [],
      "collapsed_sections": []
    },
    "kernelspec": {
      "name": "python3",
      "display_name": "Python 3"
    },
    "language_info": {
      "name": "python"
    }
  },
  "cells": [
    {
      "cell_type": "code",
      "execution_count": null,
      "metadata": {
        "id": "lhyPCiPAgjJn"
      },
      "outputs": [],
      "source": [
        "import numpy as np\n",
        "import pandas as pd\n",
        "import matplotlib.pyplot as plt\n",
        "import seaborn as sns\n",
        "%matplotlib inline\n",
        "\n",
        "from sklearn.model_selection import train_test_split\n",
        "from sklearn.linear_model import LinearRegression\n",
        "from sklearn.impute import KNNImputer\n",
        "from sklearn import metrics\n",
        "from sklearn.neighbors import NearestNeighbors\n",
        "from sklearn.model_selection import KFold"
      ]
    },
    {
      "cell_type": "code",
      "source": [
        "df = pd.read_csv('B-train.csv')"
      ],
      "metadata": {
        "id": "XsS3yjpOh3gJ"
      },
      "execution_count": null,
      "outputs": []
    },
    {
      "cell_type": "code",
      "source": [
        "df.info()"
      ],
      "metadata": {
        "colab": {
          "base_uri": "https://localhost:8080/"
        },
        "id": "NDZ1xqnJh9rj",
        "outputId": "8f0fbb3e-72b3-41db-df39-6821a7f8103e"
      },
      "execution_count": null,
      "outputs": [
        {
          "output_type": "stream",
          "name": "stdout",
          "text": [
            "<class 'pandas.core.frame.DataFrame'>\n",
            "RangeIndex: 190 entries, 0 to 189\n",
            "Data columns (total 9 columns):\n",
            " #   Column  Non-Null Count  Dtype  \n",
            "---  ------  --------------  -----  \n",
            " 0   x1      180 non-null    float64\n",
            " 1   x2      180 non-null    float64\n",
            " 2   x3      181 non-null    float64\n",
            " 3   x4      180 non-null    float64\n",
            " 4   x5      181 non-null    float64\n",
            " 5   x6      180 non-null    float64\n",
            " 6   x7      180 non-null    float64\n",
            " 7   x8      180 non-null    float64\n",
            " 8   y       188 non-null    float64\n",
            "dtypes: float64(9)\n",
            "memory usage: 13.5 KB\n"
          ]
        }
      ]
    },
    {
      "cell_type": "code",
      "source": [
        "df = df.dropna(subset=['y'])"
      ],
      "metadata": {
        "id": "COWibGcOiZFR"
      },
      "execution_count": null,
      "outputs": []
    },
    {
      "cell_type": "code",
      "source": [
        "df.info()"
      ],
      "metadata": {
        "colab": {
          "base_uri": "https://localhost:8080/"
        },
        "id": "681jIb3Jif5y",
        "outputId": "16edd5a5-d5f8-4bfe-b9a8-66e2b258ada3"
      },
      "execution_count": null,
      "outputs": [
        {
          "output_type": "stream",
          "name": "stdout",
          "text": [
            "<class 'pandas.core.frame.DataFrame'>\n",
            "Int64Index: 188 entries, 0 to 189\n",
            "Data columns (total 9 columns):\n",
            " #   Column  Non-Null Count  Dtype  \n",
            "---  ------  --------------  -----  \n",
            " 0   x1      178 non-null    float64\n",
            " 1   x2      179 non-null    float64\n",
            " 2   x3      179 non-null    float64\n",
            " 3   x4      178 non-null    float64\n",
            " 4   x5      179 non-null    float64\n",
            " 5   x6      178 non-null    float64\n",
            " 6   x7      178 non-null    float64\n",
            " 7   x8      178 non-null    float64\n",
            " 8   y       188 non-null    float64\n",
            "dtypes: float64(9)\n",
            "memory usage: 14.7 KB\n"
          ]
        }
      ]
    },
    {
      "cell_type": "code",
      "source": [
        "a=0.25\n",
        "b=0.75"
      ],
      "metadata": {
        "id": "spuQvX80ir9R"
      },
      "execution_count": null,
      "outputs": []
    },
    {
      "cell_type": "code",
      "source": [
        "low,high = df['x1'].quantile([a,b])\n",
        "iqr=high-low\n",
        "df = df.drop(df.index[df['x1']<low-(1.5*iqr)])\n",
        "df = df.drop(df.index[df['x1']>high+(1.5*iqr)])\n",
        "df.boxplot(column='x1')"
      ],
      "metadata": {
        "colab": {
          "base_uri": "https://localhost:8080/",
          "height": 282
        },
        "id": "1i-wlTtYijRy",
        "outputId": "d70850bb-c474-403d-be8e-1b293c2dcbc4"
      },
      "execution_count": null,
      "outputs": [
        {
          "output_type": "execute_result",
          "data": {
            "text/plain": [
              "<matplotlib.axes._subplots.AxesSubplot at 0x7f21dfc2a910>"
            ]
          },
          "metadata": {},
          "execution_count": 171
        },
        {
          "output_type": "display_data",
          "data": {
            "text/plain": [
              "<Figure size 432x288 with 1 Axes>"
            ],
            "image/png": "[encoded data removed]"
          },
          "metadata": {
            "needs_background": "light"
          }
        }
      ]
    },
    {
      "cell_type": "code",
      "source": [
        "df['x1'].hist()"
      ],
      "metadata": {
        "colab": {
          "base_uri": "https://localhost:8080/",
          "height": 282
        },
        "id": "fArZXIMrfveY",
        "outputId": "fb0261ed-dcde-4185-d6a3-370b00930e40"
      },
      "execution_count": null,
      "outputs": [
        {
          "output_type": "execute_result",
          "data": {
            "text/plain": [
              "<matplotlib.axes._subplots.AxesSubplot at 0x7f21deec15d0>"
            ]
          },
          "metadata": {},
          "execution_count": 172
        },
        {
          "output_type": "display_data",
          "data": {
            "text/plain": [
              "<Figure size 432x288 with 1 Axes>"
            ],
            "image/png": "[encoded data removed]"
          },
          "metadata": {
            "needs_background": "light"
          }
        }
      ]
    },
    {
      "cell_type": "code",
      "source": [
        "low,high = df['x2'].quantile([a,b])\n",
        "iqr=high-low\n",
        "df = df.drop(df.index[df['x2']<low-(1.5*iqr)])\n",
        "df = df.drop(df.index[df['x2']>high+(1.5*iqr)])\n",
        "df.boxplot(column='x2')"
      ],
      "metadata": {
        "colab": {
          "base_uri": "https://localhost:8080/",
          "height": 282
        },
        "id": "8NpsbZuxiqhC",
        "outputId": "21ac552e-36c2-47d9-8c81-ff560a30fae9"
      },
      "execution_count": null,
      "outputs": [
        {
          "output_type": "execute_result",
          "data": {
            "text/plain": [
              "<matplotlib.axes._subplots.AxesSubplot at 0x7f21dee428d0>"
            ]
          },
          "metadata": {},
          "execution_count": 173
        },
        {
          "output_type": "display_data",
          "data": {
            "text/plain": [
              "<Figure size 432x288 with 1 Axes>"
            ],
            "image/png": "[encoded data removed]"
          },
          "metadata": {
            "needs_background": "light"
          }
        }
      ]
    },
    {
      "cell_type": "code",
      "source": [
        "df['x2'].hist()"
      ],
      "metadata": {
        "colab": {
          "base_uri": "https://localhost:8080/",
          "height": 282
        },
        "id": "Gu7wA8Qhf19Q",
        "outputId": "3abd18ec-2a1b-4d5c-f490-42c5e26a1159"
      },
      "execution_count": null,
      "outputs": [
        {
          "output_type": "execute_result",
          "data": {
            "text/plain": [
              "<matplotlib.axes._subplots.AxesSubplot at 0x7f21dedba610>"
            ]
          },
          "metadata": {},
          "execution_count": 174
        },
        {
          "output_type": "display_data",
          "data": {
            "text/plain": [
              "<Figure size 432x288 with 1 Axes>"
            ],
            "image/png": "[encoded data removed]"
          },
          "metadata": {
            "needs_background": "light"
          }
        }
      ]
    },
    {
      "cell_type": "code",
      "source": [
        "low,high = df['x3'].quantile([a,b])\n",
        "iqr=high-low\n",
        "df = df.drop(df.index[df['x3']<low-(1.5*iqr)])\n",
        "df = df.drop(df.index[df['x3']>high+(1.5*iqr)])\n",
        "df.boxplot(column='x3')"
      ],
      "metadata": {
        "colab": {
          "base_uri": "https://localhost:8080/",
          "height": 282
        },
        "id": "anfSEJrsiqnC",
        "outputId": "6e6b311a-f863-479e-9772-8ebe9151aec2"
      },
      "execution_count": null,
      "outputs": [
        {
          "output_type": "execute_result",
          "data": {
            "text/plain": [
              "<matplotlib.axes._subplots.AxesSubplot at 0x7f21ded6cdd0>"
            ]
          },
          "metadata": {},
          "execution_count": 175
        },
        {
          "output_type": "display_data",
          "data": {
            "text/plain": [
              "<Figure size 432x288 with 1 Axes>"
            ],
            "image/png": "[encoded data removed]"
          },
          "metadata": {
            "needs_background": "light"
          }
        }
      ]
    },
    {
      "cell_type": "code",
      "source": [
        "df['x3'].hist()"
      ],
      "metadata": {
        "colab": {
          "base_uri": "https://localhost:8080/",
          "height": 282
        },
        "id": "QJqJGDXPf3so",
        "outputId": "73cba785-a15a-4fd0-edb3-b43c25903662"
      },
      "execution_count": null,
      "outputs": [
        {
          "output_type": "execute_result",
          "data": {
            "text/plain": [
              "<matplotlib.axes._subplots.AxesSubplot at 0x7f21decc0750>"
            ]
          },
          "metadata": {},
          "execution_count": 176
        },
        {
          "output_type": "display_data",
          "data": {
            "text/plain": [
              "<Figure size 432x288 with 1 Axes>"
            ],
            "image/png": "[encoded data removed]"
          },
          "metadata": {
            "needs_background": "light"
          }
        }
      ]
    },
    {
      "cell_type": "code",
      "source": [
        "low,high = df['x4'].quantile([a,b])\n",
        "iqr=high-low\n",
        "df = df.drop(df.index[df['x4']<low-(1.5*iqr)])\n",
        "df = df.drop(df.index[df['x4']>high+(1.5*iqr)])\n",
        "df.boxplot(column='x4')"
      ],
      "metadata": {
        "colab": {
          "base_uri": "https://localhost:8080/",
          "height": 282
        },
        "id": "3whpKNJoiqqe",
        "outputId": "151548f2-cd19-42ec-b2ec-33db2a115238"
      },
      "execution_count": null,
      "outputs": [
        {
          "output_type": "execute_result",
          "data": {
            "text/plain": [
              "<matplotlib.axes._subplots.AxesSubplot at 0x7f21debc7910>"
            ]
          },
          "metadata": {},
          "execution_count": 177
        },
        {
          "output_type": "display_data",
          "data": {
            "text/plain": [
              "<Figure size 432x288 with 1 Axes>"
            ],
            "image/png": "[encoded data removed]"
          },
          "metadata": {
            "needs_background": "light"
          }
        }
      ]
    },
    {
      "cell_type": "code",
      "source": [
        "df['x4'].hist()"
      ],
      "metadata": {
        "colab": {
          "base_uri": "https://localhost:8080/",
          "height": 282
        },
        "id": "Swd5bV3df4-5",
        "outputId": "c75dcd38-1004-4b96-d0f7-75b7b5303e16"
      },
      "execution_count": null,
      "outputs": [
        {
          "output_type": "execute_result",
          "data": {
            "text/plain": [
              "<matplotlib.axes._subplots.AxesSubplot at 0x7f21debb68d0>"
            ]
          },
          "metadata": {},
          "execution_count": 178
        },
        {
          "output_type": "display_data",
          "data": {
            "text/plain": [
              "<Figure size 432x288 with 1 Axes>"
            ],
            "image/png": "[encoded data removed]"
          },
          "metadata": {
            "needs_background": "light"
          }
        }
      ]
    },
    {
      "cell_type": "code",
      "source": [
        "low,high = df['x5'].quantile([a,b])\n",
        "iqr=high-low\n",
        "df = df.drop(df.index[df['x5']<low-(1.5*iqr)])\n",
        "df = df.drop(df.index[df['x5']>high+(1.5*iqr)])\n",
        "df.boxplot(column='x5')"
      ],
      "metadata": {
        "colab": {
          "base_uri": "https://localhost:8080/",
          "height": 282
        },
        "id": "m4N16ZyGiqtc",
        "outputId": "557ebfaa-4b61-46d3-b5e7-dde3dc44b718"
      },
      "execution_count": null,
      "outputs": [
        {
          "output_type": "execute_result",
          "data": {
            "text/plain": [
              "<matplotlib.axes._subplots.AxesSubplot at 0x7f21deb34ed0>"
            ]
          },
          "metadata": {},
          "execution_count": 179
        },
        {
          "output_type": "display_data",
          "data": {
            "text/plain": [
              "<Figure size 432x288 with 1 Axes>"
            ],
            "image/png": "[encoded data removed]"
          },
          "metadata": {
            "needs_background": "light"
          }
        }
      ]
    },
    {
      "cell_type": "code",
      "source": [
        "df['x5'].hist()"
      ],
      "metadata": {
        "colab": {
          "base_uri": "https://localhost:8080/",
          "height": 282
        },
        "id": "eMHHZoWIf6V3",
        "outputId": "adf367aa-a1ef-48b1-9b5f-b56e1c06e87d"
      },
      "execution_count": null,
      "outputs": [
        {
          "output_type": "execute_result",
          "data": {
            "text/plain": [
              "<matplotlib.axes._subplots.AxesSubplot at 0x7f21dea9d690>"
            ]
          },
          "metadata": {},
          "execution_count": 180
        },
        {
          "output_type": "display_data",
          "data": {
            "text/plain": [
              "<Figure size 432x288 with 1 Axes>"
            ],
            "image/png": "[encoded data removed]"
          },
          "metadata": {
            "needs_background": "light"
          }
        }
      ]
    },
    {
      "cell_type": "code",
      "source": [
        "low,high = df['x6'].quantile([a,b])\n",
        "iqr=high-low\n",
        "df = df.drop(df.index[df['x6']<low-(1.5*iqr)])\n",
        "df = df.drop(df.index[df['x6']>high+(1.5*iqr)])\n",
        "df.boxplot(column='x6')"
      ],
      "metadata": {
        "colab": {
          "base_uri": "https://localhost:8080/",
          "height": 284
        },
        "id": "NFtWVDS5iqwj",
        "outputId": "fab5565e-5bd8-488a-9d14-e5b9b5fcc125"
      },
      "execution_count": null,
      "outputs": [
        {
          "output_type": "execute_result",
          "data": {
            "text/plain": [
              "<matplotlib.axes._subplots.AxesSubplot at 0x7f21dea40990>"
            ]
          },
          "metadata": {},
          "execution_count": 181
        },
        {
          "output_type": "display_data",
          "data": {
            "text/plain": [
              "<Figure size 432x288 with 1 Axes>"
            ],
            "image/png": "[encoded data removed]"
          },
          "metadata": {
            "needs_background": "light"
          }
        }
      ]
    },
    {
      "cell_type": "code",
      "source": [
        "df['x6'].hist()"
      ],
      "metadata": {
        "colab": {
          "base_uri": "https://localhost:8080/",
          "height": 282
        },
        "id": "2b0zqKdxf7gA",
        "outputId": "8feeb3f2-8e38-4db2-e3a9-0f04ffbfd2f0"
      },
      "execution_count": null,
      "outputs": [
        {
          "output_type": "execute_result",
          "data": {
            "text/plain": [
              "<matplotlib.axes._subplots.AxesSubplot at 0x7f21de9991d0>"
            ]
          },
          "metadata": {},
          "execution_count": 182
        },
        {
          "output_type": "display_data",
          "data": {
            "text/plain": [
              "<Figure size 432x288 with 1 Axes>"
            ],
            "image/png": "[encoded data removed]"
          },
          "metadata": {
            "needs_background": "light"
          }
        }
      ]
    },
    {
      "cell_type": "code",
      "source": [
        "low,high = df['x7'].quantile([a,b])\n",
        "iqr=high-low\n",
        "df = df.drop(df.index[df['x7']<low-(1.5*iqr)])\n",
        "df = df.drop(df.index[df['x7']>high+(1.5*iqr)])\n",
        "df.boxplot(column='x7')"
      ],
      "metadata": {
        "colab": {
          "base_uri": "https://localhost:8080/",
          "height": 282
        },
        "id": "-TjAYCaIiqz0",
        "outputId": "659e807c-6002-4046-a734-449f4ab583db"
      },
      "execution_count": null,
      "outputs": [
        {
          "output_type": "execute_result",
          "data": {
            "text/plain": [
              "<matplotlib.axes._subplots.AxesSubplot at 0x7f21de90fbd0>"
            ]
          },
          "metadata": {},
          "execution_count": 183
        },
        {
          "output_type": "display_data",
          "data": {
            "text/plain": [
              "<Figure size 432x288 with 1 Axes>"
            ],
            "image/png": "[encoded data removed]"
          },
          "metadata": {
            "needs_background": "light"
          }
        }
      ]
    },
    {
      "cell_type": "code",
      "source": [
        "df['x7'].hist()"
      ],
      "metadata": {
        "colab": {
          "base_uri": "https://localhost:8080/",
          "height": 282
        },
        "id": "cL3kWkh6f8-I",
        "outputId": "121804f1-49e6-4c42-fe16-e18327ecf105"
      },
      "execution_count": null,
      "outputs": [
        {
          "output_type": "execute_result",
          "data": {
            "text/plain": [
              "<matplotlib.axes._subplots.AxesSubplot at 0x7f21de8a2e10>"
            ]
          },
          "metadata": {},
          "execution_count": 184
        },
        {
          "output_type": "display_data",
          "data": {
            "text/plain": [
              "<Figure size 432x288 with 1 Axes>"
            ],
            "image/png": "[encoded data removed]"
          },
          "metadata": {
            "needs_background": "light"
          }
        }
      ]
    },
    {
      "cell_type": "code",
      "source": [
        "low,high = df['x8'].quantile([a,b])\n",
        "iqr=high-low\n",
        "df = df.drop(df.index[df['x8']<low-(1.5*iqr)])\n",
        "df = df.drop(df.index[df['x8']>high+(1.5*iqr)])\n",
        "df.boxplot(column='x8')"
      ],
      "metadata": {
        "colab": {
          "base_uri": "https://localhost:8080/",
          "height": 282
        },
        "id": "z6qb28b1iq7Z",
        "outputId": "a3c47ac5-257a-40c1-97b5-9c81e5755ec4"
      },
      "execution_count": null,
      "outputs": [
        {
          "output_type": "execute_result",
          "data": {
            "text/plain": [
              "<matplotlib.axes._subplots.AxesSubplot at 0x7f21de80e350>"
            ]
          },
          "metadata": {},
          "execution_count": 185
        },
        {
          "output_type": "display_data",
          "data": {
            "text/plain": [
              "<Figure size 432x288 with 1 Axes>"
            ],
            "image/png": "[encoded data removed]"
          },
          "metadata": {
            "needs_background": "light"
          }
        }
      ]
    },
    {
      "cell_type": "code",
      "source": [
        "df.info()"
      ],
      "metadata": {
        "colab": {
          "base_uri": "https://localhost:8080/"
        },
        "id": "zCrbZrNPlnkJ",
        "outputId": "f50992bb-0b50-41d1-aaab-c865a0b02650"
      },
      "execution_count": null,
      "outputs": [
        {
          "output_type": "stream",
          "name": "stdout",
          "text": [
            "<class 'pandas.core.frame.DataFrame'>\n",
            "Int64Index: 146 entries, 1 to 189\n",
            "Data columns (total 9 columns):\n",
            " #   Column  Non-Null Count  Dtype  \n",
            "---  ------  --------------  -----  \n",
            " 0   x1      137 non-null    float64\n",
            " 1   x2      140 non-null    float64\n",
            " 2   x3      139 non-null    float64\n",
            " 3   x4      138 non-null    float64\n",
            " 4   x5      138 non-null    float64\n",
            " 5   x6      137 non-null    float64\n",
            " 6   x7      136 non-null    float64\n",
            " 7   x8      137 non-null    float64\n",
            " 8   y       146 non-null    float64\n",
            "dtypes: float64(9)\n",
            "memory usage: 11.4 KB\n"
          ]
        }
      ]
    },
    {
      "cell_type": "code",
      "source": [
        "sns.pairplot(df,x_vars=df.columns,y_vars=['y'])"
      ],
      "metadata": {
        "colab": {
          "base_uri": "https://localhost:8080/",
          "height": 155
        },
        "id": "A8LkcdElkY75",
        "outputId": "d1ef334a-0f87-418d-fff1-1c1d73d3ad64"
      },
      "execution_count": null,
      "outputs": [
        {
          "output_type": "execute_result",
          "data": {
            "text/plain": [
              "<seaborn.axisgrid.PairGrid at 0x7f21de82aed0>"
            ]
          },
          "metadata": {},
          "execution_count": 187
        },
        {
          "output_type": "display_data",
          "data": {
            "text/plain": [
              "<Figure size 1620x180 with 10 Axes>"
            ],
            "image/png": "[encoded data removed]"
          },
          "metadata": {
            "needs_background": "light"
          }
        }
      ]
    },
    {
      "cell_type": "code",
      "source": [
        "df.corr().sort_values('y')[['y']]"
      ],
      "metadata": {
        "colab": {
          "base_uri": "https://localhost:8080/",
          "height": 332
        },
        "id": "zo1LMKY2kfx5",
        "outputId": "cb566adc-4a46-4ff3-d6a1-358a68997208"
      },
      "execution_count": null,
      "outputs": [
        {
          "output_type": "execute_result",
          "data": {
            "text/plain": [
              "           y\n",
              "x1 -0.688506\n",
              "x3 -0.018613\n",
              "x8 -0.005761\n",
              "x7  0.016220\n",
              "x6  0.047788\n",
              "x4  0.064364\n",
              "x5  0.065400\n",
              "x2  0.692294\n",
              "y   1.000000"
            ],
            "text/html": [
              "\n",
              "  <div id=\"df-573bebbd-f087-4f92-95d9-7b3544fe2791\">\n",
              "    <div class=\"colab-df-container\">\n",
              "      <div>\n",
              "<style scoped>\n",
              "    .dataframe tbody tr th:only-of-type {\n",
              "        vertical-align: middle;\n",
              "    }\n",
              "\n",
              "    .dataframe tbody tr th {\n",
              "        vertical-align: top;\n",
              "    }\n",
              "\n",
              "    .dataframe thead th {\n",
              "        text-align: right;\n",
              "    }\n",
              "</style>\n",
              "<table border=\"1\" class=\"dataframe\">\n",
              "  <thead>\n",
              "    <tr style=\"text-align: right;\">\n",
              "      <th></th>\n",
              "      <th>y</th>\n",
              "    </tr>\n",
              "  </thead>\n",
              "  <tbody>\n",
              "    <tr>\n",
              "      <th>x1</th>\n",
              "      <td>-0.688506</td>\n",
              "    </tr>\n",
              "    <tr>\n",
              "      <th>x3</th>\n",
              "      <td>-0.018613</td>\n",
              "    </tr>\n",
              "    <tr>\n",
              "      <th>x8</th>\n",
              "      <td>-0.005761</td>\n",
              "    </tr>\n",
              "    <tr>\n",
              "      <th>x7</th>\n",
              "      <td>0.016220</td>\n",
              "    </tr>\n",
              "    <tr>\n",
              "      <th>x6</th>\n",
              "      <td>0.047788</td>\n",
              "    </tr>\n",
              "    <tr>\n",
              "      <th>x4</th>\n",
              "      <td>0.064364</td>\n",
              "    </tr>\n",
              "    <tr>\n",
              "      <th>x5</th>\n",
              "      <td>0.065400</td>\n",
              "    </tr>\n",
              "    <tr>\n",
              "      <th>x2</th>\n",
              "      <td>0.692294</td>\n",
              "    </tr>\n",
              "    <tr>\n",
              "      <th>y</th>\n",
              "      <td>1.000000</td>\n",
              "    </tr>\n",
              "  </tbody>\n",
              "</table>\n",
              "</div>\n",
              "      <button class=\"colab-df-convert\" onclick=\"convertToInteractive('df-573bebbd-f087-4f92-95d9-7b3544fe2791')\"\n",
              "              title=\"Convert this dataframe to an interactive table.\"\n",
              "              style=\"display:none;\">\n",
              "        \n",
              "  <svg xmlns=\"http://www.w3.org/2000/svg\" height=\"24px\"viewBox=\"0 0 24 24\"\n",
              "       width=\"24px\">\n",
              "    <path d=\"M0 0h24v24H0V0z\" fill=\"none\"/>\n",
              "    <path d=\"M18.56 5.44l.94 2.06.94-2.06 2.06-.94-2.06-.94-.94-2.06-.94 2.06-2.06.94zm-11 1L8.5 8.5l.94-2.06 2.06-.94-2.06-.94L8.5 2.5l-.94 2.06-2.06.94zm10 10l.94 2.06.94-2.06 2.06-.94-2.06-.94-.94-2.06-.94 2.06-2.06.94z\"/><path d=\"M17.41 7.96l-1.37-1.37c-.4-.4-.92-.59-1.43-.59-.52 0-1.04.2-1.43.59L10.3 9.45l-7.72 7.72c-.78.78-.78 2.05 0 2.83L4 21.41c.39.39.9.59 1.41.59.51 0 1.02-.2 1.41-.59l7.78-7.78 2.81-2.81c.8-.78.8-2.07 0-2.86zM5.41 20L4 18.59l7.72-7.72 1.47 1.35L5.41 20z\"/>\n",
              "  </svg>\n",
              "      </button>\n",
              "      \n",
              "  <style>\n",
              "    .colab-df-container {\n",
              "      display:flex;\n",
              "      flex-wrap:wrap;\n",
              "      gap: 12px;\n",
              "    }\n",
              "\n",
              "    .colab-df-convert {\n",
              "      background-color: #E8F0FE;\n",
              "      border: none;\n",
              "      border-radius: 50%;\n",
              "      cursor: pointer;\n",
              "      display: none;\n",
              "      fill: #1967D2;\n",
              "      height: 32px;\n",
              "      padding: 0 0 0 0;\n",
              "      width: 32px;\n",
              "    }\n",
              "\n",
              "    .colab-df-convert:hover {\n",
              "      background-color: #E2EBFA;\n",
              "      box-shadow: 0px 1px 2px rgba(60, 64, 67, 0.3), 0px 1px 3px 1px rgba(60, 64, 67, 0.15);\n",
              "      fill: #174EA6;\n",
              "    }\n",
              "\n",
              "    [theme=dark] .colab-df-convert {\n",
              "      background-color: #3B4455;\n",
              "      fill: #D2E3FC;\n",
              "    }\n",
              "\n",
              "    [theme=dark] .colab-df-convert:hover {\n",
              "      background-color: #434B5C;\n",
              "      box-shadow: 0px 1px 3px 1px rgba(0, 0, 0, 0.15);\n",
              "      filter: drop-shadow(0px 1px 2px rgba(0, 0, 0, 0.3));\n",
              "      fill: #FFFFFF;\n",
              "    }\n",
              "  </style>\n",
              "\n",
              "      <script>\n",
              "        const buttonEl =\n",
              "          document.querySelector('#df-573bebbd-f087-4f92-95d9-7b3544fe2791 button.colab-df-convert');\n",
              "        buttonEl.style.display =\n",
              "          google.colab.kernel.accessAllowed ? 'block' : 'none';\n",
              "\n",
              "        async function convertToInteractive(key) {\n",
              "          const element = document.querySelector('#df-573bebbd-f087-4f92-95d9-7b3544fe2791');\n",
              "          const dataTable =\n",
              "            await google.colab.kernel.invokeFunction('convertToInteractive',\n",
              "                                                     [key], {});\n",
              "          if (!dataTable) return;\n",
              "\n",
              "          const docLinkHtml = 'Like what you see? Visit the ' +\n",
              "            '<a target=\"_blank\" href=https://colab.research.google.com/notebooks/data_table.ipynb>data table notebook</a>'\n",
              "            + ' to learn more about interactive tables.';\n",
              "          element.innerHTML = '';\n",
              "          dataTable['output_type'] = 'display_data';\n",
              "          await google.colab.output.renderOutput(dataTable, element);\n",
              "          const docLink = document.createElement('div');\n",
              "          docLink.innerHTML = docLinkHtml;\n",
              "          element.appendChild(docLink);\n",
              "        }\n",
              "      </script>\n",
              "    </div>\n",
              "  </div>\n",
              "  "
            ]
          },
          "metadata": {},
          "execution_count": 188
        }
      ]
    },
    {
      "cell_type": "code",
      "source": [
        "# df['x1'] = df['x1'].fillna(0)\n",
        "# df['x2'] = df['x2'].fillna(0)\n",
        "# df['x3'] = df['x3'].fillna(0)\n",
        "# df['x4'] = df['x4'].fillna(0)\n",
        "# df['x5'] = df['x5'].fillna(0)\n",
        "# df['x6'] = df['x6'].fillna(0)\n",
        "# df['x7'] = df['x7'].fillna(0)\n",
        "# df['x8'] = df['x8'].fillna(0)\n",
        "\n",
        "# df['x1'] =df['x1'].fillna(df['x1'].mean())\n",
        "# df['x2'] =df['x2'].fillna(df['x2'].mean())\n",
        "# df['x3'] =df['x3'].fillna(df['x3'].mean())\n",
        "# df['x4'] =df['x4'].fillna(df['x4'].mean())\n",
        "# df['x5'] =df['x5'].fillna(df['x5'].mean())\n",
        "# df['x6'] =df['x6'].fillna(df['x6'].mean())\n",
        "# df['x7'] =df['x7'].fillna(df['x7'].mean())\n",
        "# df['x8'] =df['x8'].fillna(df['x8'].mean())\n",
        "\n",
        "df = df.dropna()\n",
        "\n",
        "X=df[['x1','x2','x3','x4','x5','x6','x7','x8']]\n",
        "y=df['y']\n",
        "#mean    default 4.084066507644772\n",
        "# 0         default 4.084240813142153\n",
        "# dropna default 3.496557249868389\n",
        "from sklearn import preprocessing\n",
        "scaler = preprocessing.StandardScaler().fit(X)\n",
        "X_scaled = scaler.transform(X)\n",
        "lm = LinearRegression()\n",
        "lm.fit(X_scaled,y)\n",
        "y_pred = lm.predict(X_scaled)\n",
        "rmse = metrics.mean_squared_error(y,y_pred,squared=False)\n",
        "print(rmse)\n",
        "mape = np.mean(np.abs((y-y_pred)/y))*100\n",
        "mape"
      ],
      "metadata": {
        "colab": {
          "base_uri": "https://localhost:8080/"
        },
        "id": "8KGTbTOjhvxw",
        "outputId": "51be9384-ab56-400c-89f9-ba051da49342"
      },
      "execution_count": null,
      "outputs": [
        {
          "output_type": "stream",
          "name": "stdout",
          "text": [
            "3.496557249868389\n"
          ]
        },
        {
          "output_type": "execute_result",
          "data": {
            "text/plain": [
              "inf"
            ]
          },
          "metadata": {},
          "execution_count": 189
        }
      ]
    },
    {
      "cell_type": "code",
      "source": [
        "df.info()"
      ],
      "metadata": {
        "colab": {
          "base_uri": "https://localhost:8080/"
        },
        "id": "L19HDxZnmRSe",
        "outputId": "f34c6981-7e7b-41b3-faa5-34ebc02388a0"
      },
      "execution_count": null,
      "outputs": [
        {
          "output_type": "stream",
          "name": "stdout",
          "text": [
            "<class 'pandas.core.frame.DataFrame'>\n",
            "Int64Index: 95 entries, 1 to 184\n",
            "Data columns (total 9 columns):\n",
            " #   Column  Non-Null Count  Dtype  \n",
            "---  ------  --------------  -----  \n",
            " 0   x1      95 non-null     float64\n",
            " 1   x2      95 non-null     float64\n",
            " 2   x3      95 non-null     float64\n",
            " 3   x4      95 non-null     float64\n",
            " 4   x5      95 non-null     float64\n",
            " 5   x6      95 non-null     float64\n",
            " 6   x7      95 non-null     float64\n",
            " 7   x8      95 non-null     float64\n",
            " 8   y       95 non-null     float64\n",
            "dtypes: float64(9)\n",
            "memory usage: 7.4 KB\n"
          ]
        }
      ]
    },
    {
      "cell_type": "code",
      "source": [
        "rmse=[]\n",
        "mape=[]\n",
        "mae=[]\n",
        "X=df[['x1','x2']]\n",
        "# ตัด\n",
        "# best!!!(mean)\n",
        "# 4.170581528632588\n",
        "# 3.389557291766908\n",
        "from sklearn.model_selection import KFold\n",
        "kf = KFold(n_splits=80)\n",
        "for train_index,test_index in kf.split(X):\n",
        "  X_train = X.iloc[train_index]\n",
        "  X_test = X.iloc[test_index]\n",
        "  y_train = y.iloc[train_index]\n",
        "  y_test = y.iloc[test_index]\n",
        "\n",
        "  lm = LinearRegression()\n",
        "  lm.fit(X_train,y_train)\n",
        "  y_pred = lm.predict(X_test)\n",
        "  rmse.append(metrics.mean_squared_error(y_test,y_pred,squared=False))\n",
        "  mape.append(np.mean(np.abs((y_test-y_pred)/y))*100)\n",
        "  mae.append(np.mean(np.abs(y_test-y_pred)))\n",
        "print(np.mean(rmse))\n",
        "print(np.mean(mape))\n",
        "print(np.mean(mae))\n",
        "print(rmse)\n",
        "print(mape)\n",
        "print(mae)"
      ],
      "metadata": {
        "colab": {
          "base_uri": "https://localhost:8080/"
        },
        "id": "xiyedW2bKDj6",
        "outputId": "f0c407ba-57a8-49d3-b3cc-03a99af57072"
      },
      "execution_count": null,
      "outputs": [
        {
          "output_type": "stream",
          "name": "stdout",
          "text": [
            "3.311778722264954\n",
            "inf\n",
            "3.2659195638944922\n",
            "[1.2961323690757778, 0.8922534387339247, 1.874081088379729, 2.6164252374715335, 2.927346385712055, 1.627042267242904, 4.277828771551091, 2.1839857355030277, 2.4741914534956724, 4.856780172732616, 3.448503963711066, 2.5186853148593786, 2.8128839504510292, 2.142181550247173, 4.118099241007976, 6.867679434589444, 2.294130538358682, 3.9670232039613023, 1.3267887012559454, 1.1188110233784725, 5.077390852713529, 2.009892176727684, 5.3651164953893105, 4.11229330482758, 4.567628315530332, 0.9526679754211589, 0.595679067893057, 4.5307511797499735, 3.8538351574027754, 3.4446645347627873, 1.4120653931557476, 1.522571527125216, 4.200483782819279, 2.835745518898205, 3.0628703433484326, 1.2695942975320076, 5.750469714622641, 7.229636797514889, 3.278390188782525, 5.517977680397262, 4.71037493505623, 3.779863923413329, 3.993865961518024, 1.3394932120111722, 0.1015654936115391, 5.785447739193383, 0.007102979253824415, 8.338962785486206, 1.677090977523564, 3.7387752295206713, 0.5852480396718156, 4.003807455269672, 2.5906360586984865, 1.5150301867106055, 4.7634320560743815, 3.9327182810872925, 7.7832906033693945, 1.1489861099824425, 5.189260957999111, 4.468059616469937, 1.048137166048337, 4.878007551318255, 0.17161928579257602, 1.0294018234677065, 3.163747398792734, 3.0246630265351593, 2.048396429542434, 0.862727750179932, 5.253580901015614, 6.073826287860131, 1.9044131318149344, 5.087225540165024, 5.769174289176949, 7.858326808880625, 2.9741749011373932, 6.197468942128772, 1.3499341910253828, 1.02884984137747, 6.220089996916228, 3.3149417697663894]\n",
            "[18.54561739262277, 38.23689260664438, 8.158522028833143, 46.0507369399526, 29.618243313438654, 12.816687509384161, 49.66671888270297, 17.50883606079557, 192.7656023269002, 367.9153444850413, 224.6991837779942, 69.6539723228784, 34.29459786170239, 26.515251362555702, 48.884885676168075, 46.43461416220044, inf, 601.0641218123185, 29.4188182096662, 21.310686159589952, 406.1912682170823, 19.97904748238254, 279.4331508015266, 142.78796197317988, 107.22132196080591, 6.214402970783815, 10.830528507146491, 97.85639697084176, 46.656599968556606, 147.2078861009738, 2353.442321926246, 80.98784718751149, 148.95332563188933, 78.77070885828347, 33.07635359987508, 12.708651626947024, 41.31084565102472, 36.43970160037747, 90.06566452699244, 18.03260679868386, 35.073528928192324, 94.97145536214396, 85.52175506462578, 9.574647691287865, 2.329483798429796, 27.94902289465403, 0.08758297476972153, 61.36102123242242, 30.6597984922041, 35.949761822314144, 18.69802043679922, 48.9463014091647, 134.92896139054616, 43.16325318263834, 69.947607284499, 339.0274380247666, 518.8860402246263, 20.55431323761078, 17297.536526663705, 52.876445165324704, 32.45006706032003, 81.16485110346515, 2.2852101969717182, 12.538390054417862, 51.61088741913106, 336.0736696150177, 20.00387138225033, 5.312362993718794, 70.8029771026363, 42.150078333519296, 312.198874068022, 36.6514808369238, 76.21102099309047, 253.49441318969755, 98.48261262044349, 222.9305374866465, 99.99512526113946, 6.7866084523579815, 60.80244376262197, 42.44483700085006]\n",
            "[1.2814078526446795, 0.6974792590722318, 1.3845911172308147, 1.9827852175991938, 2.8363297822504805, 1.5995588994664471, 3.643158677431512, 1.7342367273388057, 2.170736708276274, 4.397959901151669, 3.43837436770143, 2.4675017409019917, 2.728756017737124, 1.9526046315934114, 4.082207370141903, 6.867679434589444, 2.294130538358682, 3.9670232039613023, 1.3267887012559454, 1.1188110233784725, 5.077390852713529, 2.009892176727684, 5.3651164953893105, 4.11229330482758, 4.567628315530332, 0.9526679754211589, 0.595679067893057, 4.5307511797499735, 3.8538351574027754, 3.4446645347627873, 1.4120653931557476, 1.522571527125216, 4.200483782819279, 2.835745518898205, 3.0628703433484326, 1.2695942975320076, 5.750469714622641, 7.229636797514889, 3.278390188782525, 5.517977680397262, 4.71037493505623, 3.779863923413329, 3.993865961518024, 1.3394932120111722, 0.1015654936115391, 5.785447739193383, 0.007102979253824415, 8.338962785486206, 1.677090977523564, 3.7387752295206713, 0.5852480396718156, 4.003807455269672, 2.5906360586984865, 1.5150301867106055, 4.7634320560743815, 3.9327182810872925, 7.7832906033693945, 1.1489861099824425, 5.189260957999111, 4.468059616469937, 1.048137166048337, 4.878007551318255, 0.17161928579257602, 1.0294018234677065, 3.163747398792734, 3.0246630265351593, 2.048396429542434, 0.862727750179932, 5.253580901015614, 6.073826287860131, 1.9044131318149344, 5.087225540165024, 5.769174289176949, 7.858326808880625, 2.9741749011373932, 6.197468942128772, 1.3499341910253828, 1.02884984137747, 6.220089996916228, 3.3149417697663894]\n"
          ]
        }
      ]
    },
    {
      "cell_type": "code",
      "source": [
        "test = pd.read_csv('B-test.csv')"
      ],
      "metadata": {
        "id": "w_UCFHGZ2RRG"
      },
      "execution_count": null,
      "outputs": []
    },
    {
      "cell_type": "code",
      "source": [
        "test[['x1','x2']]"
      ],
      "metadata": {
        "colab": {
          "base_uri": "https://localhost:8080/",
          "height": 363
        },
        "id": "zYgHlLKM2wKO",
        "outputId": "aadc1099-b481-4170-e053-8f2fa73b2910"
      },
      "execution_count": null,
      "outputs": [
        {
          "output_type": "execute_result",
          "data": {
            "text/plain": [
              "       x1      x2\n",
              "0   50.69 -120.50\n",
              "1  102.08   74.69\n",
              "2     NaN   49.86\n",
              "3   49.39 -101.88\n",
              "4  140.49   59.99\n",
              "5   54.08     NaN\n",
              "6  106.48  -50.55\n",
              "7  -83.82 -104.84\n",
              "8  147.15    9.14\n",
              "9    8.68 -207.09"
            ],
            "text/html": [
              "\n",
              "  <div id=\"df-fbbf328a-8acf-4323-accd-19253006a105\">\n",
              "    <div class=\"colab-df-container\">\n",
              "      <div>\n",
              "<style scoped>\n",
              "    .dataframe tbody tr th:only-of-type {\n",
              "        vertical-align: middle;\n",
              "    }\n",
              "\n",
              "    .dataframe tbody tr th {\n",
              "        vertical-align: top;\n",
              "    }\n",
              "\n",
              "    .dataframe thead th {\n",
              "        text-align: right;\n",
              "    }\n",
              "</style>\n",
              "<table border=\"1\" class=\"dataframe\">\n",
              "  <thead>\n",
              "    <tr style=\"text-align: right;\">\n",
              "      <th></th>\n",
              "      <th>x1</th>\n",
              "      <th>x2</th>\n",
              "    </tr>\n",
              "  </thead>\n",
              "  <tbody>\n",
              "    <tr>\n",
              "      <th>0</th>\n",
              "      <td>50.69</td>\n",
              "      <td>-120.50</td>\n",
              "    </tr>\n",
              "    <tr>\n",
              "      <th>1</th>\n",
              "      <td>102.08</td>\n",
              "      <td>74.69</td>\n",
              "    </tr>\n",
              "    <tr>\n",
              "      <th>2</th>\n",
              "      <td>NaN</td>\n",
              "      <td>49.86</td>\n",
              "    </tr>\n",
              "    <tr>\n",
              "      <th>3</th>\n",
              "      <td>49.39</td>\n",
              "      <td>-101.88</td>\n",
              "    </tr>\n",
              "    <tr>\n",
              "      <th>4</th>\n",
              "      <td>140.49</td>\n",
              "      <td>59.99</td>\n",
              "    </tr>\n",
              "    <tr>\n",
              "      <th>5</th>\n",
              "      <td>54.08</td>\n",
              "      <td>NaN</td>\n",
              "    </tr>\n",
              "    <tr>\n",
              "      <th>6</th>\n",
              "      <td>106.48</td>\n",
              "      <td>-50.55</td>\n",
              "    </tr>\n",
              "    <tr>\n",
              "      <th>7</th>\n",
              "      <td>-83.82</td>\n",
              "      <td>-104.84</td>\n",
              "    </tr>\n",
              "    <tr>\n",
              "      <th>8</th>\n",
              "      <td>147.15</td>\n",
              "      <td>9.14</td>\n",
              "    </tr>\n",
              "    <tr>\n",
              "      <th>9</th>\n",
              "      <td>8.68</td>\n",
              "      <td>-207.09</td>\n",
              "    </tr>\n",
              "  </tbody>\n",
              "</table>\n",
              "</div>\n",
              "      <button class=\"colab-df-convert\" onclick=\"convertToInteractive('df-fbbf328a-8acf-4323-accd-19253006a105')\"\n",
              "              title=\"Convert this dataframe to an interactive table.\"\n",
              "              style=\"display:none;\">\n",
              "        \n",
              "  <svg xmlns=\"http://www.w3.org/2000/svg\" height=\"24px\"viewBox=\"0 0 24 24\"\n",
              "       width=\"24px\">\n",
              "    <path d=\"M0 0h24v24H0V0z\" fill=\"none\"/>\n",
              "    <path d=\"M18.56 5.44l.94 2.06.94-2.06 2.06-.94-2.06-.94-.94-2.06-.94 2.06-2.06.94zm-11 1L8.5 8.5l.94-2.06 2.06-.94-2.06-.94L8.5 2.5l-.94 2.06-2.06.94zm10 10l.94 2.06.94-2.06 2.06-.94-2.06-.94-.94-2.06-.94 2.06-2.06.94z\"/><path d=\"M17.41 7.96l-1.37-1.37c-.4-.4-.92-.59-1.43-.59-.52 0-1.04.2-1.43.59L10.3 9.45l-7.72 7.72c-.78.78-.78 2.05 0 2.83L4 21.41c.39.39.9.59 1.41.59.51 0 1.02-.2 1.41-.59l7.78-7.78 2.81-2.81c.8-.78.8-2.07 0-2.86zM5.41 20L4 18.59l7.72-7.72 1.47 1.35L5.41 20z\"/>\n",
              "  </svg>\n",
              "      </button>\n",
              "      \n",
              "  <style>\n",
              "    .colab-df-container {\n",
              "      display:flex;\n",
              "      flex-wrap:wrap;\n",
              "      gap: 12px;\n",
              "    }\n",
              "\n",
              "    .colab-df-convert {\n",
              "      background-color: #E8F0FE;\n",
              "      border: none;\n",
              "      border-radius: 50%;\n",
              "      cursor: pointer;\n",
              "      display: none;\n",
              "      fill: #1967D2;\n",
              "      height: 32px;\n",
              "      padding: 0 0 0 0;\n",
              "      width: 32px;\n",
              "    }\n",
              "\n",
              "    .colab-df-convert:hover {\n",
              "      background-color: #E2EBFA;\n",
              "      box-shadow: 0px 1px 2px rgba(60, 64, 67, 0.3), 0px 1px 3px 1px rgba(60, 64, 67, 0.15);\n",
              "      fill: #174EA6;\n",
              "    }\n",
              "\n",
              "    [theme=dark] .colab-df-convert {\n",
              "      background-color: #3B4455;\n",
              "      fill: #D2E3FC;\n",
              "    }\n",
              "\n",
              "    [theme=dark] .colab-df-convert:hover {\n",
              "      background-color: #434B5C;\n",
              "      box-shadow: 0px 1px 3px 1px rgba(0, 0, 0, 0.15);\n",
              "      filter: drop-shadow(0px 1px 2px rgba(0, 0, 0, 0.3));\n",
              "      fill: #FFFFFF;\n",
              "    }\n",
              "  </style>\n",
              "\n",
              "      <script>\n",
              "        const buttonEl =\n",
              "          document.querySelector('#df-fbbf328a-8acf-4323-accd-19253006a105 button.colab-df-convert');\n",
              "        buttonEl.style.display =\n",
              "          google.colab.kernel.accessAllowed ? 'block' : 'none';\n",
              "\n",
              "        async function convertToInteractive(key) {\n",
              "          const element = document.querySelector('#df-fbbf328a-8acf-4323-accd-19253006a105');\n",
              "          const dataTable =\n",
              "            await google.colab.kernel.invokeFunction('convertToInteractive',\n",
              "                                                     [key], {});\n",
              "          if (!dataTable) return;\n",
              "\n",
              "          const docLinkHtml = 'Like what you see? Visit the ' +\n",
              "            '<a target=\"_blank\" href=https://colab.research.google.com/notebooks/data_table.ipynb>data table notebook</a>'\n",
              "            + ' to learn more about interactive tables.';\n",
              "          element.innerHTML = '';\n",
              "          dataTable['output_type'] = 'display_data';\n",
              "          await google.colab.output.renderOutput(dataTable, element);\n",
              "          const docLink = document.createElement('div');\n",
              "          docLink.innerHTML = docLinkHtml;\n",
              "          element.appendChild(docLink);\n",
              "        }\n",
              "      </script>\n",
              "    </div>\n",
              "  </div>\n",
              "  "
            ]
          },
          "metadata": {},
          "execution_count": 193
        }
      ]
    },
    {
      "cell_type": "code",
      "source": [
        "test[['x1','x2']].mean()"
      ],
      "metadata": {
        "colab": {
          "base_uri": "https://localhost:8080/"
        },
        "id": "Kb6NJdKn2jSV",
        "outputId": "70f07bff-8f1a-49d8-fbd3-2059e2a1a472"
      },
      "execution_count": null,
      "outputs": [
        {
          "output_type": "execute_result",
          "data": {
            "text/plain": [
              "x1    63.913333\n",
              "x2   -43.464444\n",
              "dtype: float64"
            ]
          },
          "metadata": {},
          "execution_count": 194
        }
      ]
    },
    {
      "cell_type": "code",
      "source": [
        "test['x1'] = test['x1'].fillna(test['x1'].mean())\n",
        "test['x2'] = test['x2'].fillna(test['x2'].mean())"
      ],
      "metadata": {
        "id": "ciCk3kSe2XGe"
      },
      "execution_count": null,
      "outputs": []
    },
    {
      "cell_type": "code",
      "source": [
        "test[['x1','x2']]"
      ],
      "metadata": {
        "colab": {
          "base_uri": "https://localhost:8080/",
          "height": 363
        },
        "id": "E3pgI15Q2662",
        "outputId": "d63d3a5f-f6ac-4b5c-f021-7d0dff7d64d8"
      },
      "execution_count": null,
      "outputs": [
        {
          "output_type": "execute_result",
          "data": {
            "text/plain": [
              "           x1          x2\n",
              "0   50.690000 -120.500000\n",
              "1  102.080000   74.690000\n",
              "2   63.913333   49.860000\n",
              "3   49.390000 -101.880000\n",
              "4  140.490000   59.990000\n",
              "5   54.080000  -43.464444\n",
              "6  106.480000  -50.550000\n",
              "7  -83.820000 -104.840000\n",
              "8  147.150000    9.140000\n",
              "9    8.680000 -207.090000"
            ],
            "text/html": [
              "\n",
              "  <div id=\"df-641cfab6-e73f-4137-b3d8-4ff1b8200311\">\n",
              "    <div class=\"colab-df-container\">\n",
              "      <div>\n",
              "<style scoped>\n",
              "    .dataframe tbody tr th:only-of-type {\n",
              "        vertical-align: middle;\n",
              "    }\n",
              "\n",
              "    .dataframe tbody tr th {\n",
              "        vertical-align: top;\n",
              "    }\n",
              "\n",
              "    .dataframe thead th {\n",
              "        text-align: right;\n",
              "    }\n",
              "</style>\n",
              "<table border=\"1\" class=\"dataframe\">\n",
              "  <thead>\n",
              "    <tr style=\"text-align: right;\">\n",
              "      <th></th>\n",
              "      <th>x1</th>\n",
              "      <th>x2</th>\n",
              "    </tr>\n",
              "  </thead>\n",
              "  <tbody>\n",
              "    <tr>\n",
              "      <th>0</th>\n",
              "      <td>50.690000</td>\n",
              "      <td>-120.500000</td>\n",
              "    </tr>\n",
              "    <tr>\n",
              "      <th>1</th>\n",
              "      <td>102.080000</td>\n",
              "      <td>74.690000</td>\n",
              "    </tr>\n",
              "    <tr>\n",
              "      <th>2</th>\n",
              "      <td>63.913333</td>\n",
              "      <td>49.860000</td>\n",
              "    </tr>\n",
              "    <tr>\n",
              "      <th>3</th>\n",
              "      <td>49.390000</td>\n",
              "      <td>-101.880000</td>\n",
              "    </tr>\n",
              "    <tr>\n",
              "      <th>4</th>\n",
              "      <td>140.490000</td>\n",
              "      <td>59.990000</td>\n",
              "    </tr>\n",
              "    <tr>\n",
              "      <th>5</th>\n",
              "      <td>54.080000</td>\n",
              "      <td>-43.464444</td>\n",
              "    </tr>\n",
              "    <tr>\n",
              "      <th>6</th>\n",
              "      <td>106.480000</td>\n",
              "      <td>-50.550000</td>\n",
              "    </tr>\n",
              "    <tr>\n",
              "      <th>7</th>\n",
              "      <td>-83.820000</td>\n",
              "      <td>-104.840000</td>\n",
              "    </tr>\n",
              "    <tr>\n",
              "      <th>8</th>\n",
              "      <td>147.150000</td>\n",
              "      <td>9.140000</td>\n",
              "    </tr>\n",
              "    <tr>\n",
              "      <th>9</th>\n",
              "      <td>8.680000</td>\n",
              "      <td>-207.090000</td>\n",
              "    </tr>\n",
              "  </tbody>\n",
              "</table>\n",
              "</div>\n",
              "      <button class=\"colab-df-convert\" onclick=\"convertToInteractive('df-641cfab6-e73f-4137-b3d8-4ff1b8200311')\"\n",
              "              title=\"Convert this dataframe to an interactive table.\"\n",
              "              style=\"display:none;\">\n",
              "        \n",
              "  <svg xmlns=\"http://www.w3.org/2000/svg\" height=\"24px\"viewBox=\"0 0 24 24\"\n",
              "       width=\"24px\">\n",
              "    <path d=\"M0 0h24v24H0V0z\" fill=\"none\"/>\n",
              "    <path d=\"M18.56 5.44l.94 2.06.94-2.06 2.06-.94-2.06-.94-.94-2.06-.94 2.06-2.06.94zm-11 1L8.5 8.5l.94-2.06 2.06-.94-2.06-.94L8.5 2.5l-.94 2.06-2.06.94zm10 10l.94 2.06.94-2.06 2.06-.94-2.06-.94-.94-2.06-.94 2.06-2.06.94z\"/><path d=\"M17.41 7.96l-1.37-1.37c-.4-.4-.92-.59-1.43-.59-.52 0-1.04.2-1.43.59L10.3 9.45l-7.72 7.72c-.78.78-.78 2.05 0 2.83L4 21.41c.39.39.9.59 1.41.59.51 0 1.02-.2 1.41-.59l7.78-7.78 2.81-2.81c.8-.78.8-2.07 0-2.86zM5.41 20L4 18.59l7.72-7.72 1.47 1.35L5.41 20z\"/>\n",
              "  </svg>\n",
              "      </button>\n",
              "      \n",
              "  <style>\n",
              "    .colab-df-container {\n",
              "      display:flex;\n",
              "      flex-wrap:wrap;\n",
              "      gap: 12px;\n",
              "    }\n",
              "\n",
              "    .colab-df-convert {\n",
              "      background-color: #E8F0FE;\n",
              "      border: none;\n",
              "      border-radius: 50%;\n",
              "      cursor: pointer;\n",
              "      display: none;\n",
              "      fill: #1967D2;\n",
              "      height: 32px;\n",
              "      padding: 0 0 0 0;\n",
              "      width: 32px;\n",
              "    }\n",
              "\n",
              "    .colab-df-convert:hover {\n",
              "      background-color: #E2EBFA;\n",
              "      box-shadow: 0px 1px 2px rgba(60, 64, 67, 0.3), 0px 1px 3px 1px rgba(60, 64, 67, 0.15);\n",
              "      fill: #174EA6;\n",
              "    }\n",
              "\n",
              "    [theme=dark] .colab-df-convert {\n",
              "      background-color: #3B4455;\n",
              "      fill: #D2E3FC;\n",
              "    }\n",
              "\n",
              "    [theme=dark] .colab-df-convert:hover {\n",
              "      background-color: #434B5C;\n",
              "      box-shadow: 0px 1px 3px 1px rgba(0, 0, 0, 0.15);\n",
              "      filter: drop-shadow(0px 1px 2px rgba(0, 0, 0, 0.3));\n",
              "      fill: #FFFFFF;\n",
              "    }\n",
              "  </style>\n",
              "\n",
              "      <script>\n",
              "        const buttonEl =\n",
              "          document.querySelector('#df-641cfab6-e73f-4137-b3d8-4ff1b8200311 button.colab-df-convert');\n",
              "        buttonEl.style.display =\n",
              "          google.colab.kernel.accessAllowed ? 'block' : 'none';\n",
              "\n",
              "        async function convertToInteractive(key) {\n",
              "          const element = document.querySelector('#df-641cfab6-e73f-4137-b3d8-4ff1b8200311');\n",
              "          const dataTable =\n",
              "            await google.colab.kernel.invokeFunction('convertToInteractive',\n",
              "                                                     [key], {});\n",
              "          if (!dataTable) return;\n",
              "\n",
              "          const docLinkHtml = 'Like what you see? Visit the ' +\n",
              "            '<a target=\"_blank\" href=https://colab.research.google.com/notebooks/data_table.ipynb>data table notebook</a>'\n",
              "            + ' to learn more about interactive tables.';\n",
              "          element.innerHTML = '';\n",
              "          dataTable['output_type'] = 'display_data';\n",
              "          await google.colab.output.renderOutput(dataTable, element);\n",
              "          const docLink = document.createElement('div');\n",
              "          docLink.innerHTML = docLinkHtml;\n",
              "          element.appendChild(docLink);\n",
              "        }\n",
              "      </script>\n",
              "    </div>\n",
              "  </div>\n",
              "  "
            ]
          },
          "metadata": {},
          "execution_count": 196
        }
      ]
    },
    {
      "cell_type": "code",
      "source": [
        "Xfinal = test[['x1','x2']]\n",
        "b=test[['x1','x2','x3','x4','x5','x6','x7','x8']]"
      ],
      "metadata": {
        "id": "o6XaCYE64CiN"
      },
      "execution_count": null,
      "outputs": []
    },
    {
      "cell_type": "code",
      "source": [
        "df.info()"
      ],
      "metadata": {
        "colab": {
          "base_uri": "https://localhost:8080/"
        },
        "id": "6bbF-WGTLbXO",
        "outputId": "ba7dcfa4-5bc2-4c0d-d52f-dee65300ff1a"
      },
      "execution_count": null,
      "outputs": [
        {
          "output_type": "stream",
          "name": "stdout",
          "text": [
            "<class 'pandas.core.frame.DataFrame'>\n",
            "Int64Index: 95 entries, 1 to 184\n",
            "Data columns (total 9 columns):\n",
            " #   Column  Non-Null Count  Dtype  \n",
            "---  ------  --------------  -----  \n",
            " 0   x1      95 non-null     float64\n",
            " 1   x2      95 non-null     float64\n",
            " 2   x3      95 non-null     float64\n",
            " 3   x4      95 non-null     float64\n",
            " 4   x5      95 non-null     float64\n",
            " 5   x6      95 non-null     float64\n",
            " 6   x7      95 non-null     float64\n",
            " 7   x8      95 non-null     float64\n",
            " 8   y       95 non-null     float64\n",
            "dtypes: float64(9)\n",
            "memory usage: 9.5 KB\n"
          ]
        }
      ]
    },
    {
      "cell_type": "code",
      "source": [
        "X=df[['x1','x2']]\n",
        "y=df['y']\n",
        "model = LinearRegression()\n",
        "model.fit(X,y)"
      ],
      "metadata": {
        "colab": {
          "base_uri": "https://localhost:8080/"
        },
        "id": "BNH4JLuM4KsV",
        "outputId": "b1da44f8-bcc8-4173-a07f-3232e56140d3"
      },
      "execution_count": null,
      "outputs": [
        {
          "output_type": "execute_result",
          "data": {
            "text/plain": [
              "LinearRegression()"
            ]
          },
          "metadata": {},
          "execution_count": 199
        }
      ]
    },
    {
      "cell_type": "code",
      "source": [
        "X"
      ],
      "metadata": {
        "colab": {
          "base_uri": "https://localhost:8080/",
          "height": 424
        },
        "id": "NHWHIQeRYWss",
        "outputId": "08e59dd8-d944-4734-bbe4-3a12ce2cd573"
      },
      "execution_count": null,
      "outputs": [
        {
          "output_type": "execute_result",
          "data": {
            "text/plain": [
              "         x1      x2\n",
              "1    120.85  163.83\n",
              "3    -65.72  -36.37\n",
              "4     11.00  -64.78\n",
              "8    -21.32    2.66\n",
              "11    55.95 -150.63\n",
              "..      ...     ...\n",
              "179   35.20 -103.27\n",
              "180   32.74  -93.59\n",
              "182 -194.49   12.72\n",
              "183   66.13  -89.43\n",
              "184  -92.82 -255.01\n",
              "\n",
              "[95 rows x 2 columns]"
            ],
            "text/html": [
              "\n",
              "  <div id=\"df-f166a815-41cc-4767-b3b6-ec52c3041759\">\n",
              "    <div class=\"colab-df-container\">\n",
              "      <div>\n",
              "<style scoped>\n",
              "    .dataframe tbody tr th:only-of-type {\n",
              "        vertical-align: middle;\n",
              "    }\n",
              "\n",
              "    .dataframe tbody tr th {\n",
              "        vertical-align: top;\n",
              "    }\n",
              "\n",
              "    .dataframe thead th {\n",
              "        text-align: right;\n",
              "    }\n",
              "</style>\n",
              "<table border=\"1\" class=\"dataframe\">\n",
              "  <thead>\n",
              "    <tr style=\"text-align: right;\">\n",
              "      <th></th>\n",
              "      <th>x1</th>\n",
              "      <th>x2</th>\n",
              "    </tr>\n",
              "  </thead>\n",
              "  <tbody>\n",
              "    <tr>\n",
              "      <th>1</th>\n",
              "      <td>120.85</td>\n",
              "      <td>163.83</td>\n",
              "    </tr>\n",
              "    <tr>\n",
              "      <th>3</th>\n",
              "      <td>-65.72</td>\n",
              "      <td>-36.37</td>\n",
              "    </tr>\n",
              "    <tr>\n",
              "      <th>4</th>\n",
              "      <td>11.00</td>\n",
              "      <td>-64.78</td>\n",
              "    </tr>\n",
              "    <tr>\n",
              "      <th>8</th>\n",
              "      <td>-21.32</td>\n",
              "      <td>2.66</td>\n",
              "    </tr>\n",
              "    <tr>\n",
              "      <th>11</th>\n",
              "      <td>55.95</td>\n",
              "      <td>-150.63</td>\n",
              "    </tr>\n",
              "    <tr>\n",
              "      <th>...</th>\n",
              "      <td>...</td>\n",
              "      <td>...</td>\n",
              "    </tr>\n",
              "    <tr>\n",
              "      <th>179</th>\n",
              "      <td>35.20</td>\n",
              "      <td>-103.27</td>\n",
              "    </tr>\n",
              "    <tr>\n",
              "      <th>180</th>\n",
              "      <td>32.74</td>\n",
              "      <td>-93.59</td>\n",
              "    </tr>\n",
              "    <tr>\n",
              "      <th>182</th>\n",
              "      <td>-194.49</td>\n",
              "      <td>12.72</td>\n",
              "    </tr>\n",
              "    <tr>\n",
              "      <th>183</th>\n",
              "      <td>66.13</td>\n",
              "      <td>-89.43</td>\n",
              "    </tr>\n",
              "    <tr>\n",
              "      <th>184</th>\n",
              "      <td>-92.82</td>\n",
              "      <td>-255.01</td>\n",
              "    </tr>\n",
              "  </tbody>\n",
              "</table>\n",
              "<p>95 rows × 2 columns</p>\n",
              "</div>\n",
              "      <button class=\"colab-df-convert\" onclick=\"convertToInteractive('df-f166a815-41cc-4767-b3b6-ec52c3041759')\"\n",
              "              title=\"Convert this dataframe to an interactive table.\"\n",
              "              style=\"display:none;\">\n",
              "        \n",
              "  <svg xmlns=\"http://www.w3.org/2000/svg\" height=\"24px\"viewBox=\"0 0 24 24\"\n",
              "       width=\"24px\">\n",
              "    <path d=\"M0 0h24v24H0V0z\" fill=\"none\"/>\n",
              "    <path d=\"M18.56 5.44l.94 2.06.94-2.06 2.06-.94-2.06-.94-.94-2.06-.94 2.06-2.06.94zm-11 1L8.5 8.5l.94-2.06 2.06-.94-2.06-.94L8.5 2.5l-.94 2.06-2.06.94zm10 10l.94 2.06.94-2.06 2.06-.94-2.06-.94-.94-2.06-.94 2.06-2.06.94z\"/><path d=\"M17.41 7.96l-1.37-1.37c-.4-.4-.92-.59-1.43-.59-.52 0-1.04.2-1.43.59L10.3 9.45l-7.72 7.72c-.78.78-.78 2.05 0 2.83L4 21.41c.39.39.9.59 1.41.59.51 0 1.02-.2 1.41-.59l7.78-7.78 2.81-2.81c.8-.78.8-2.07 0-2.86zM5.41 20L4 18.59l7.72-7.72 1.47 1.35L5.41 20z\"/>\n",
              "  </svg>\n",
              "      </button>\n",
              "      \n",
              "  <style>\n",
              "    .colab-df-container {\n",
              "      display:flex;\n",
              "      flex-wrap:wrap;\n",
              "      gap: 12px;\n",
              "    }\n",
              "\n",
              "    .colab-df-convert {\n",
              "      background-color: #E8F0FE;\n",
              "      border: none;\n",
              "      border-radius: 50%;\n",
              "      cursor: pointer;\n",
              "      display: none;\n",
              "      fill: #1967D2;\n",
              "      height: 32px;\n",
              "      padding: 0 0 0 0;\n",
              "      width: 32px;\n",
              "    }\n",
              "\n",
              "    .colab-df-convert:hover {\n",
              "      background-color: #E2EBFA;\n",
              "      box-shadow: 0px 1px 2px rgba(60, 64, 67, 0.3), 0px 1px 3px 1px rgba(60, 64, 67, 0.15);\n",
              "      fill: #174EA6;\n",
              "    }\n",
              "\n",
              "    [theme=dark] .colab-df-convert {\n",
              "      background-color: #3B4455;\n",
              "      fill: #D2E3FC;\n",
              "    }\n",
              "\n",
              "    [theme=dark] .colab-df-convert:hover {\n",
              "      background-color: #434B5C;\n",
              "      box-shadow: 0px 1px 3px 1px rgba(0, 0, 0, 0.15);\n",
              "      filter: drop-shadow(0px 1px 2px rgba(0, 0, 0, 0.3));\n",
              "      fill: #FFFFFF;\n",
              "    }\n",
              "  </style>\n",
              "\n",
              "      <script>\n",
              "        const buttonEl =\n",
              "          document.querySelector('#df-f166a815-41cc-4767-b3b6-ec52c3041759 button.colab-df-convert');\n",
              "        buttonEl.style.display =\n",
              "          google.colab.kernel.accessAllowed ? 'block' : 'none';\n",
              "\n",
              "        async function convertToInteractive(key) {\n",
              "          const element = document.querySelector('#df-f166a815-41cc-4767-b3b6-ec52c3041759');\n",
              "          const dataTable =\n",
              "            await google.colab.kernel.invokeFunction('convertToInteractive',\n",
              "                                                     [key], {});\n",
              "          if (!dataTable) return;\n",
              "\n",
              "          const docLinkHtml = 'Like what you see? Visit the ' +\n",
              "            '<a target=\"_blank\" href=https://colab.research.google.com/notebooks/data_table.ipynb>data table notebook</a>'\n",
              "            + ' to learn more about interactive tables.';\n",
              "          element.innerHTML = '';\n",
              "          dataTable['output_type'] = 'display_data';\n",
              "          await google.colab.output.renderOutput(dataTable, element);\n",
              "          const docLink = document.createElement('div');\n",
              "          docLink.innerHTML = docLinkHtml;\n",
              "          element.appendChild(docLink);\n",
              "        }\n",
              "      </script>\n",
              "    </div>\n",
              "  </div>\n",
              "  "
            ]
          },
          "metadata": {},
          "execution_count": 200
        }
      ]
    },
    {
      "cell_type": "code",
      "source": [
        "yfinal = model.predict(Xfinal)"
      ],
      "metadata": {
        "id": "1tEcYqVI4ji1"
      },
      "execution_count": null,
      "outputs": []
    },
    {
      "cell_type": "code",
      "source": [
        "yfinal"
      ],
      "metadata": {
        "colab": {
          "base_uri": "https://localhost:8080/"
        },
        "id": "cXXqYcbO4qGc",
        "outputId": "e251f754-da65-47d4-91a7-c96b14ebe3e4"
      },
      "execution_count": null,
      "outputs": [
        {
          "output_type": "execute_result",
          "data": {
            "text/plain": [
              "array([-4.96712474,  2.57990348,  3.19888511, -3.93754367, -0.09923065,\n",
              "       -1.14523889, -4.12830052,  2.55934954, -3.06619901, -7.35598795])"
            ]
          },
          "metadata": {},
          "execution_count": 202
        }
      ]
    }
  ]
}