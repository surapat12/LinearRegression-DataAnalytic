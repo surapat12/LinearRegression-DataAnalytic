{
  "nbformat": 4,
  "nbformat_minor": 0,
  "metadata": {
    "colab": {
      "provenance": []
    },
    "kernelspec": {
      "name": "python3",
      "display_name": "Python 3"
    },
    "language_info": {
      "name": "python"
    }
  },
  "cells": [
    {
      "cell_type": "code",
      "execution_count": null,
      "metadata": {
        "id": "cgXV-dFNHLam"
      },
      "outputs": [],
      "source": [
        "import numpy as np\n",
        "import pandas as pd\n",
        "import matplotlib.pyplot as plt\n",
        "import seaborn as sns\n",
        "%matplotlib inline\n",
        "\n",
        "from sklearn.model_selection import train_test_split\n",
        "from sklearn.linear_model import LinearRegression\n",
        "from sklearn import metrics"
      ]
    },
    {
      "cell_type": "code",
      "source": [
        "df = pd.read_csv('A-train.csv')"
      ],
      "metadata": {
        "id": "wjGo4GhaIXnI"
      },
      "execution_count": null,
      "outputs": []
    },
    {
      "cell_type": "code",
      "source": [
        "df"
      ],
      "metadata": {
        "colab": {
          "base_uri": "https://localhost:8080/",
          "height": 424
        },
        "id": "uJHzyzDEJIcf",
        "outputId": "b701d216-ef22-43dd-a9b2-67514445a00f"
      },
      "execution_count": null,
      "outputs": [
        {
          "output_type": "execute_result",
          "data": {
            "text/plain": [
              "         x1      x2      x3          x4      x5    x6     x7     x8      y\n",
              "0     26.52   89.93  -60.46     1137.04   -3.49   NaN  -5.88 -17.13   7.44\n",
              "1    -68.18 -127.21   23.30     1471.49   16.95  2.30 -11.51  -7.70   7.31\n",
              "2    -95.05   36.10  -75.27     1158.04    6.97  3.21  -5.86   8.65  -5.77\n",
              "3    124.40   -8.19     NaN     5527.92    7.36  7.23  10.77   1.92  -0.42\n",
              "4   -103.25     NaN   -2.89     4865.06   -5.21 -1.54    NaN   4.69   4.31\n",
              "..      ...     ...     ...         ...     ...   ...    ...    ...    ...\n",
              "185   34.29  -38.65  -44.41     9775.28   -3.43  4.95   4.60 -11.73  11.78\n",
              "186    1.62  145.02   53.26     4546.80   11.81 -4.31   4.86  -0.42   3.79\n",
              "187   29.46   33.91  -20.96  6083819.57    5.10  2.93   1.23   3.23  -3.17\n",
              "188  -64.93   25.39 -118.74     1746.40  226.26 -1.91 -16.11 -10.44   0.97\n",
              "189 -101.85     NaN   -9.53     3523.61   14.56  0.04 -20.61  -1.31   1.44\n",
              "\n",
              "[190 rows x 9 columns]"
            ],
            "text/html": [
              "\n",
              "  <div id=\"df-efb0b156-6921-4f6e-a117-f385503fbc13\">\n",
              "    <div class=\"colab-df-container\">\n",
              "      <div>\n",
              "<style scoped>\n",
              "    .dataframe tbody tr th:only-of-type {\n",
              "        vertical-align: middle;\n",
              "    }\n",
              "\n",
              "    .dataframe tbody tr th {\n",
              "        vertical-align: top;\n",
              "    }\n",
              "\n",
              "    .dataframe thead th {\n",
              "        text-align: right;\n",
              "    }\n",
              "</style>\n",
              "<table border=\"1\" class=\"dataframe\">\n",
              "  <thead>\n",
              "    <tr style=\"text-align: right;\">\n",
              "      <th></th>\n",
              "      <th>x1</th>\n",
              "      <th>x2</th>\n",
              "      <th>x3</th>\n",
              "      <th>x4</th>\n",
              "      <th>x5</th>\n",
              "      <th>x6</th>\n",
              "      <th>x7</th>\n",
              "      <th>x8</th>\n",
              "      <th>y</th>\n",
              "    </tr>\n",
              "  </thead>\n",
              "  <tbody>\n",
              "    <tr>\n",
              "      <th>0</th>\n",
              "      <td>26.52</td>\n",
              "      <td>89.93</td>\n",
              "      <td>-60.46</td>\n",
              "      <td>1137.04</td>\n",
              "      <td>-3.49</td>\n",
              "      <td>NaN</td>\n",
              "      <td>-5.88</td>\n",
              "      <td>-17.13</td>\n",
              "      <td>7.44</td>\n",
              "    </tr>\n",
              "    <tr>\n",
              "      <th>1</th>\n",
              "      <td>-68.18</td>\n",
              "      <td>-127.21</td>\n",
              "      <td>23.30</td>\n",
              "      <td>1471.49</td>\n",
              "      <td>16.95</td>\n",
              "      <td>2.30</td>\n",
              "      <td>-11.51</td>\n",
              "      <td>-7.70</td>\n",
              "      <td>7.31</td>\n",
              "    </tr>\n",
              "    <tr>\n",
              "      <th>2</th>\n",
              "      <td>-95.05</td>\n",
              "      <td>36.10</td>\n",
              "      <td>-75.27</td>\n",
              "      <td>1158.04</td>\n",
              "      <td>6.97</td>\n",
              "      <td>3.21</td>\n",
              "      <td>-5.86</td>\n",
              "      <td>8.65</td>\n",
              "      <td>-5.77</td>\n",
              "    </tr>\n",
              "    <tr>\n",
              "      <th>3</th>\n",
              "      <td>124.40</td>\n",
              "      <td>-8.19</td>\n",
              "      <td>NaN</td>\n",
              "      <td>5527.92</td>\n",
              "      <td>7.36</td>\n",
              "      <td>7.23</td>\n",
              "      <td>10.77</td>\n",
              "      <td>1.92</td>\n",
              "      <td>-0.42</td>\n",
              "    </tr>\n",
              "    <tr>\n",
              "      <th>4</th>\n",
              "      <td>-103.25</td>\n",
              "      <td>NaN</td>\n",
              "      <td>-2.89</td>\n",
              "      <td>4865.06</td>\n",
              "      <td>-5.21</td>\n",
              "      <td>-1.54</td>\n",
              "      <td>NaN</td>\n",
              "      <td>4.69</td>\n",
              "      <td>4.31</td>\n",
              "    </tr>\n",
              "    <tr>\n",
              "      <th>...</th>\n",
              "      <td>...</td>\n",
              "      <td>...</td>\n",
              "      <td>...</td>\n",
              "      <td>...</td>\n",
              "      <td>...</td>\n",
              "      <td>...</td>\n",
              "      <td>...</td>\n",
              "      <td>...</td>\n",
              "      <td>...</td>\n",
              "    </tr>\n",
              "    <tr>\n",
              "      <th>185</th>\n",
              "      <td>34.29</td>\n",
              "      <td>-38.65</td>\n",
              "      <td>-44.41</td>\n",
              "      <td>9775.28</td>\n",
              "      <td>-3.43</td>\n",
              "      <td>4.95</td>\n",
              "      <td>4.60</td>\n",
              "      <td>-11.73</td>\n",
              "      <td>11.78</td>\n",
              "    </tr>\n",
              "    <tr>\n",
              "      <th>186</th>\n",
              "      <td>1.62</td>\n",
              "      <td>145.02</td>\n",
              "      <td>53.26</td>\n",
              "      <td>4546.80</td>\n",
              "      <td>11.81</td>\n",
              "      <td>-4.31</td>\n",
              "      <td>4.86</td>\n",
              "      <td>-0.42</td>\n",
              "      <td>3.79</td>\n",
              "    </tr>\n",
              "    <tr>\n",
              "      <th>187</th>\n",
              "      <td>29.46</td>\n",
              "      <td>33.91</td>\n",
              "      <td>-20.96</td>\n",
              "      <td>6083819.57</td>\n",
              "      <td>5.10</td>\n",
              "      <td>2.93</td>\n",
              "      <td>1.23</td>\n",
              "      <td>3.23</td>\n",
              "      <td>-3.17</td>\n",
              "    </tr>\n",
              "    <tr>\n",
              "      <th>188</th>\n",
              "      <td>-64.93</td>\n",
              "      <td>25.39</td>\n",
              "      <td>-118.74</td>\n",
              "      <td>1746.40</td>\n",
              "      <td>226.26</td>\n",
              "      <td>-1.91</td>\n",
              "      <td>-16.11</td>\n",
              "      <td>-10.44</td>\n",
              "      <td>0.97</td>\n",
              "    </tr>\n",
              "    <tr>\n",
              "      <th>189</th>\n",
              "      <td>-101.85</td>\n",
              "      <td>NaN</td>\n",
              "      <td>-9.53</td>\n",
              "      <td>3523.61</td>\n",
              "      <td>14.56</td>\n",
              "      <td>0.04</td>\n",
              "      <td>-20.61</td>\n",
              "      <td>-1.31</td>\n",
              "      <td>1.44</td>\n",
              "    </tr>\n",
              "  </tbody>\n",
              "</table>\n",
              "<p>190 rows × 9 columns</p>\n",
              "</div>\n",
              "      <button class=\"colab-df-convert\" onclick=\"convertToInteractive('df-efb0b156-6921-4f6e-a117-f385503fbc13')\"\n",
              "              title=\"Convert this dataframe to an interactive table.\"\n",
              "              style=\"display:none;\">\n",
              "        \n",
              "  <svg xmlns=\"http://www.w3.org/2000/svg\" height=\"24px\"viewBox=\"0 0 24 24\"\n",
              "       width=\"24px\">\n",
              "    <path d=\"M0 0h24v24H0V0z\" fill=\"none\"/>\n",
              "    <path d=\"M18.56 5.44l.94 2.06.94-2.06 2.06-.94-2.06-.94-.94-2.06-.94 2.06-2.06.94zm-11 1L8.5 8.5l.94-2.06 2.06-.94-2.06-.94L8.5 2.5l-.94 2.06-2.06.94zm10 10l.94 2.06.94-2.06 2.06-.94-2.06-.94-.94-2.06-.94 2.06-2.06.94z\"/><path d=\"M17.41 7.96l-1.37-1.37c-.4-.4-.92-.59-1.43-.59-.52 0-1.04.2-1.43.59L10.3 9.45l-7.72 7.72c-.78.78-.78 2.05 0 2.83L4 21.41c.39.39.9.59 1.41.59.51 0 1.02-.2 1.41-.59l7.78-7.78 2.81-2.81c.8-.78.8-2.07 0-2.86zM5.41 20L4 18.59l7.72-7.72 1.47 1.35L5.41 20z\"/>\n",
              "  </svg>\n",
              "      </button>\n",
              "      \n",
              "  <style>\n",
              "    .colab-df-container {\n",
              "      display:flex;\n",
              "      flex-wrap:wrap;\n",
              "      gap: 12px;\n",
              "    }\n",
              "\n",
              "    .colab-df-convert {\n",
              "      background-color: #E8F0FE;\n",
              "      border: none;\n",
              "      border-radius: 50%;\n",
              "      cursor: pointer;\n",
              "      display: none;\n",
              "      fill: #1967D2;\n",
              "      height: 32px;\n",
              "      padding: 0 0 0 0;\n",
              "      width: 32px;\n",
              "    }\n",
              "\n",
              "    .colab-df-convert:hover {\n",
              "      background-color: #E2EBFA;\n",
              "      box-shadow: 0px 1px 2px rgba(60, 64, 67, 0.3), 0px 1px 3px 1px rgba(60, 64, 67, 0.15);\n",
              "      fill: #174EA6;\n",
              "    }\n",
              "\n",
              "    [theme=dark] .colab-df-convert {\n",
              "      background-color: #3B4455;\n",
              "      fill: #D2E3FC;\n",
              "    }\n",
              "\n",
              "    [theme=dark] .colab-df-convert:hover {\n",
              "      background-color: #434B5C;\n",
              "      box-shadow: 0px 1px 3px 1px rgba(0, 0, 0, 0.15);\n",
              "      filter: drop-shadow(0px 1px 2px rgba(0, 0, 0, 0.3));\n",
              "      fill: #FFFFFF;\n",
              "    }\n",
              "  </style>\n",
              "\n",
              "      <script>\n",
              "        const buttonEl =\n",
              "          document.querySelector('#df-efb0b156-6921-4f6e-a117-f385503fbc13 button.colab-df-convert');\n",
              "        buttonEl.style.display =\n",
              "          google.colab.kernel.accessAllowed ? 'block' : 'none';\n",
              "\n",
              "        async function convertToInteractive(key) {\n",
              "          const element = document.querySelector('#df-efb0b156-6921-4f6e-a117-f385503fbc13');\n",
              "          const dataTable =\n",
              "            await google.colab.kernel.invokeFunction('convertToInteractive',\n",
              "                                                     [key], {});\n",
              "          if (!dataTable) return;\n",
              "\n",
              "          const docLinkHtml = 'Like what you see? Visit the ' +\n",
              "            '<a target=\"_blank\" href=https://colab.research.google.com/notebooks/data_table.ipynb>data table notebook</a>'\n",
              "            + ' to learn more about interactive tables.';\n",
              "          element.innerHTML = '';\n",
              "          dataTable['output_type'] = 'display_data';\n",
              "          await google.colab.output.renderOutput(dataTable, element);\n",
              "          const docLink = document.createElement('div');\n",
              "          docLink.innerHTML = docLinkHtml;\n",
              "          element.appendChild(docLink);\n",
              "        }\n",
              "      </script>\n",
              "    </div>\n",
              "  </div>\n",
              "  "
            ]
          },
          "metadata": {},
          "execution_count": 45
        }
      ]
    },
    {
      "cell_type": "code",
      "source": [
        "df.info()"
      ],
      "metadata": {
        "colab": {
          "base_uri": "https://localhost:8080/"
        },
        "id": "QATdCEnRJV2f",
        "outputId": "c42a9de8-0049-454e-f7b6-0ea56fb4ac27"
      },
      "execution_count": null,
      "outputs": [
        {
          "output_type": "stream",
          "name": "stdout",
          "text": [
            "<class 'pandas.core.frame.DataFrame'>\n",
            "RangeIndex: 190 entries, 0 to 189\n",
            "Data columns (total 9 columns):\n",
            " #   Column  Non-Null Count  Dtype  \n",
            "---  ------  --------------  -----  \n",
            " 0   x1      181 non-null    float64\n",
            " 1   x2      180 non-null    float64\n",
            " 2   x3      180 non-null    float64\n",
            " 3   x4      181 non-null    float64\n",
            " 4   x5      180 non-null    float64\n",
            " 5   x6      180 non-null    float64\n",
            " 6   x7      180 non-null    float64\n",
            " 7   x8      181 non-null    float64\n",
            " 8   y       188 non-null    float64\n",
            "dtypes: float64(9)\n",
            "memory usage: 13.5 KB\n"
          ]
        }
      ]
    },
    {
      "cell_type": "code",
      "source": [
        "df = df.dropna(subset=['y'])"
      ],
      "metadata": {
        "id": "tTVqUHnKZD6N"
      },
      "execution_count": null,
      "outputs": []
    },
    {
      "cell_type": "code",
      "source": [
        "# df=df.dropna()"
      ],
      "metadata": {
        "id": "HXHpVGtm4wsm"
      },
      "execution_count": null,
      "outputs": []
    },
    {
      "cell_type": "code",
      "source": [
        "df.info()"
      ],
      "metadata": {
        "colab": {
          "base_uri": "https://localhost:8080/"
        },
        "id": "T_lZJ1DiZNJN",
        "outputId": "19795284-8120-4fda-fbc9-3432647aac0a"
      },
      "execution_count": null,
      "outputs": [
        {
          "output_type": "stream",
          "name": "stdout",
          "text": [
            "<class 'pandas.core.frame.DataFrame'>\n",
            "Int64Index: 188 entries, 0 to 189\n",
            "Data columns (total 9 columns):\n",
            " #   Column  Non-Null Count  Dtype  \n",
            "---  ------  --------------  -----  \n",
            " 0   x1      180 non-null    float64\n",
            " 1   x2      178 non-null    float64\n",
            " 2   x3      178 non-null    float64\n",
            " 3   x4      179 non-null    float64\n",
            " 4   x5      178 non-null    float64\n",
            " 5   x6      178 non-null    float64\n",
            " 6   x7      178 non-null    float64\n",
            " 7   x8      179 non-null    float64\n",
            " 8   y       188 non-null    float64\n",
            "dtypes: float64(9)\n",
            "memory usage: 14.7 KB\n"
          ]
        }
      ]
    },
    {
      "cell_type": "code",
      "source": [
        "a=0.25\n",
        "b=0.75"
      ],
      "metadata": {
        "id": "ZyJ9KykFJvpd"
      },
      "execution_count": null,
      "outputs": []
    },
    {
      "cell_type": "code",
      "source": [
        "low,high = df['x1'].quantile([a,b])\n",
        "iqr = high-low\n",
        "print(low,high)\n",
        "df = df.drop(df.index[df['x1']<low-(1.5*iqr)])\n",
        "df = df.drop(df.index[df['x1']>high+(1.5*iqr)])\n",
        "df.boxplot(column='x1')"
      ],
      "metadata": {
        "colab": {
          "base_uri": "https://localhost:8080/",
          "height": 302
        },
        "id": "_IBMNPFWKDDZ",
        "outputId": "f0b71301-21e4-450c-fb27-130dd4204384"
      },
      "execution_count": null,
      "outputs": [
        {
          "output_type": "stream",
          "name": "stdout",
          "text": [
            "-63.23 75.1625\n"
          ]
        },
        {
          "output_type": "execute_result",
          "data": {
            "text/plain": [
              "<matplotlib.axes._subplots.AxesSubplot at 0x7f021ad21490>"
            ]
          },
          "metadata": {},
          "execution_count": 51
        },
        {
          "output_type": "display_data",
          "data": {
            "text/plain": [
              "<Figure size 432x288 with 1 Axes>"
            ],
            "image/png": "[encoded data removed]"
          },
          "metadata": {
            "needs_background": "light"
          }
        }
      ]
    },
    {
      "cell_type": "code",
      "source": [
        "df.info()"
      ],
      "metadata": {
        "colab": {
          "base_uri": "https://localhost:8080/"
        },
        "id": "gVFtKsrvrKqo",
        "outputId": "9f5e3580-ab1a-4d9c-b2f0-3b4462e028c7"
      },
      "execution_count": null,
      "outputs": [
        {
          "output_type": "stream",
          "name": "stdout",
          "text": [
            "<class 'pandas.core.frame.DataFrame'>\n",
            "Int64Index: 183 entries, 0 to 189\n",
            "Data columns (total 9 columns):\n",
            " #   Column  Non-Null Count  Dtype  \n",
            "---  ------  --------------  -----  \n",
            " 0   x1      175 non-null    float64\n",
            " 1   x2      173 non-null    float64\n",
            " 2   x3      173 non-null    float64\n",
            " 3   x4      175 non-null    float64\n",
            " 4   x5      173 non-null    float64\n",
            " 5   x6      174 non-null    float64\n",
            " 6   x7      173 non-null    float64\n",
            " 7   x8      174 non-null    float64\n",
            " 8   y       183 non-null    float64\n",
            "dtypes: float64(9)\n",
            "memory usage: 14.3 KB\n"
          ]
        }
      ]
    },
    {
      "cell_type": "code",
      "source": [
        "df"
      ],
      "metadata": {
        "colab": {
          "base_uri": "https://localhost:8080/",
          "height": 424
        },
        "id": "ZNRVISQaKpvK",
        "outputId": "81e7002c-c7d9-4640-c253-c31d502c3129"
      },
      "execution_count": null,
      "outputs": [
        {
          "output_type": "execute_result",
          "data": {
            "text/plain": [
              "         x1      x2      x3          x4      x5    x6     x7     x8      y\n",
              "0     26.52   89.93  -60.46     1137.04   -3.49   NaN  -5.88 -17.13   7.44\n",
              "1    -68.18 -127.21   23.30     1471.49   16.95  2.30 -11.51  -7.70   7.31\n",
              "2    -95.05   36.10  -75.27     1158.04    6.97  3.21  -5.86   8.65  -5.77\n",
              "3    124.40   -8.19     NaN     5527.92    7.36  7.23  10.77   1.92  -0.42\n",
              "4   -103.25     NaN   -2.89     4865.06   -5.21 -1.54    NaN   4.69   4.31\n",
              "..      ...     ...     ...         ...     ...   ...    ...    ...    ...\n",
              "185   34.29  -38.65  -44.41     9775.28   -3.43  4.95   4.60 -11.73  11.78\n",
              "186    1.62  145.02   53.26     4546.80   11.81 -4.31   4.86  -0.42   3.79\n",
              "187   29.46   33.91  -20.96  6083819.57    5.10  2.93   1.23   3.23  -3.17\n",
              "188  -64.93   25.39 -118.74     1746.40  226.26 -1.91 -16.11 -10.44   0.97\n",
              "189 -101.85     NaN   -9.53     3523.61   14.56  0.04 -20.61  -1.31   1.44\n",
              "\n",
              "[183 rows x 9 columns]"
            ],
            "text/html": [
              "\n",
              "  <div id=\"df-53c655e6-73aa-4e8e-8a4f-5470d8563d13\">\n",
              "    <div class=\"colab-df-container\">\n",
              "      <div>\n",
              "<style scoped>\n",
              "    .dataframe tbody tr th:only-of-type {\n",
              "        vertical-align: middle;\n",
              "    }\n",
              "\n",
              "    .dataframe tbody tr th {\n",
              "        vertical-align: top;\n",
              "    }\n",
              "\n",
              "    .dataframe thead th {\n",
              "        text-align: right;\n",
              "    }\n",
              "</style>\n",
              "<table border=\"1\" class=\"dataframe\">\n",
              "  <thead>\n",
              "    <tr style=\"text-align: right;\">\n",
              "      <th></th>\n",
              "      <th>x1</th>\n",
              "      <th>x2</th>\n",
              "      <th>x3</th>\n",
              "      <th>x4</th>\n",
              "      <th>x5</th>\n",
              "      <th>x6</th>\n",
              "      <th>x7</th>\n",
              "      <th>x8</th>\n",
              "      <th>y</th>\n",
              "    </tr>\n",
              "  </thead>\n",
              "  <tbody>\n",
              "    <tr>\n",
              "      <th>0</th>\n",
              "      <td>26.52</td>\n",
              "      <td>89.93</td>\n",
              "      <td>-60.46</td>\n",
              "      <td>1137.04</td>\n",
              "      <td>-3.49</td>\n",
              "      <td>NaN</td>\n",
              "      <td>-5.88</td>\n",
              "      <td>-17.13</td>\n",
              "      <td>7.44</td>\n",
              "    </tr>\n",
              "    <tr>\n",
              "      <th>1</th>\n",
              "      <td>-68.18</td>\n",
              "      <td>-127.21</td>\n",
              "      <td>23.30</td>\n",
              "      <td>1471.49</td>\n",
              "      <td>16.95</td>\n",
              "      <td>2.30</td>\n",
              "      <td>-11.51</td>\n",
              "      <td>-7.70</td>\n",
              "      <td>7.31</td>\n",
              "    </tr>\n",
              "    <tr>\n",
              "      <th>2</th>\n",
              "      <td>-95.05</td>\n",
              "      <td>36.10</td>\n",
              "      <td>-75.27</td>\n",
              "      <td>1158.04</td>\n",
              "      <td>6.97</td>\n",
              "      <td>3.21</td>\n",
              "      <td>-5.86</td>\n",
              "      <td>8.65</td>\n",
              "      <td>-5.77</td>\n",
              "    </tr>\n",
              "    <tr>\n",
              "      <th>3</th>\n",
              "      <td>124.40</td>\n",
              "      <td>-8.19</td>\n",
              "      <td>NaN</td>\n",
              "      <td>5527.92</td>\n",
              "      <td>7.36</td>\n",
              "      <td>7.23</td>\n",
              "      <td>10.77</td>\n",
              "      <td>1.92</td>\n",
              "      <td>-0.42</td>\n",
              "    </tr>\n",
              "    <tr>\n",
              "      <th>4</th>\n",
              "      <td>-103.25</td>\n",
              "      <td>NaN</td>\n",
              "      <td>-2.89</td>\n",
              "      <td>4865.06</td>\n",
              "      <td>-5.21</td>\n",
              "      <td>-1.54</td>\n",
              "      <td>NaN</td>\n",
              "      <td>4.69</td>\n",
              "      <td>4.31</td>\n",
              "    </tr>\n",
              "    <tr>\n",
              "      <th>...</th>\n",
              "      <td>...</td>\n",
              "      <td>...</td>\n",
              "      <td>...</td>\n",
              "      <td>...</td>\n",
              "      <td>...</td>\n",
              "      <td>...</td>\n",
              "      <td>...</td>\n",
              "      <td>...</td>\n",
              "      <td>...</td>\n",
              "    </tr>\n",
              "    <tr>\n",
              "      <th>185</th>\n",
              "      <td>34.29</td>\n",
              "      <td>-38.65</td>\n",
              "      <td>-44.41</td>\n",
              "      <td>9775.28</td>\n",
              "      <td>-3.43</td>\n",
              "      <td>4.95</td>\n",
              "      <td>4.60</td>\n",
              "      <td>-11.73</td>\n",
              "      <td>11.78</td>\n",
              "    </tr>\n",
              "    <tr>\n",
              "      <th>186</th>\n",
              "      <td>1.62</td>\n",
              "      <td>145.02</td>\n",
              "      <td>53.26</td>\n",
              "      <td>4546.80</td>\n",
              "      <td>11.81</td>\n",
              "      <td>-4.31</td>\n",
              "      <td>4.86</td>\n",
              "      <td>-0.42</td>\n",
              "      <td>3.79</td>\n",
              "    </tr>\n",
              "    <tr>\n",
              "      <th>187</th>\n",
              "      <td>29.46</td>\n",
              "      <td>33.91</td>\n",
              "      <td>-20.96</td>\n",
              "      <td>6083819.57</td>\n",
              "      <td>5.10</td>\n",
              "      <td>2.93</td>\n",
              "      <td>1.23</td>\n",
              "      <td>3.23</td>\n",
              "      <td>-3.17</td>\n",
              "    </tr>\n",
              "    <tr>\n",
              "      <th>188</th>\n",
              "      <td>-64.93</td>\n",
              "      <td>25.39</td>\n",
              "      <td>-118.74</td>\n",
              "      <td>1746.40</td>\n",
              "      <td>226.26</td>\n",
              "      <td>-1.91</td>\n",
              "      <td>-16.11</td>\n",
              "      <td>-10.44</td>\n",
              "      <td>0.97</td>\n",
              "    </tr>\n",
              "    <tr>\n",
              "      <th>189</th>\n",
              "      <td>-101.85</td>\n",
              "      <td>NaN</td>\n",
              "      <td>-9.53</td>\n",
              "      <td>3523.61</td>\n",
              "      <td>14.56</td>\n",
              "      <td>0.04</td>\n",
              "      <td>-20.61</td>\n",
              "      <td>-1.31</td>\n",
              "      <td>1.44</td>\n",
              "    </tr>\n",
              "  </tbody>\n",
              "</table>\n",
              "<p>183 rows × 9 columns</p>\n",
              "</div>\n",
              "      <button class=\"colab-df-convert\" onclick=\"convertToInteractive('df-53c655e6-73aa-4e8e-8a4f-5470d8563d13')\"\n",
              "              title=\"Convert this dataframe to an interactive table.\"\n",
              "              style=\"display:none;\">\n",
              "        \n",
              "  <svg xmlns=\"http://www.w3.org/2000/svg\" height=\"24px\"viewBox=\"0 0 24 24\"\n",
              "       width=\"24px\">\n",
              "    <path d=\"M0 0h24v24H0V0z\" fill=\"none\"/>\n",
              "    <path d=\"M18.56 5.44l.94 2.06.94-2.06 2.06-.94-2.06-.94-.94-2.06-.94 2.06-2.06.94zm-11 1L8.5 8.5l.94-2.06 2.06-.94-2.06-.94L8.5 2.5l-.94 2.06-2.06.94zm10 10l.94 2.06.94-2.06 2.06-.94-2.06-.94-.94-2.06-.94 2.06-2.06.94z\"/><path d=\"M17.41 7.96l-1.37-1.37c-.4-.4-.92-.59-1.43-.59-.52 0-1.04.2-1.43.59L10.3 9.45l-7.72 7.72c-.78.78-.78 2.05 0 2.83L4 21.41c.39.39.9.59 1.41.59.51 0 1.02-.2 1.41-.59l7.78-7.78 2.81-2.81c.8-.78.8-2.07 0-2.86zM5.41 20L4 18.59l7.72-7.72 1.47 1.35L5.41 20z\"/>\n",
              "  </svg>\n",
              "      </button>\n",
              "      \n",
              "  <style>\n",
              "    .colab-df-container {\n",
              "      display:flex;\n",
              "      flex-wrap:wrap;\n",
              "      gap: 12px;\n",
              "    }\n",
              "\n",
              "    .colab-df-convert {\n",
              "      background-color: #E8F0FE;\n",
              "      border: none;\n",
              "      border-radius: 50%;\n",
              "      cursor: pointer;\n",
              "      display: none;\n",
              "      fill: #1967D2;\n",
              "      height: 32px;\n",
              "      padding: 0 0 0 0;\n",
              "      width: 32px;\n",
              "    }\n",
              "\n",
              "    .colab-df-convert:hover {\n",
              "      background-color: #E2EBFA;\n",
              "      box-shadow: 0px 1px 2px rgba(60, 64, 67, 0.3), 0px 1px 3px 1px rgba(60, 64, 67, 0.15);\n",
              "      fill: #174EA6;\n",
              "    }\n",
              "\n",
              "    [theme=dark] .colab-df-convert {\n",
              "      background-color: #3B4455;\n",
              "      fill: #D2E3FC;\n",
              "    }\n",
              "\n",
              "    [theme=dark] .colab-df-convert:hover {\n",
              "      background-color: #434B5C;\n",
              "      box-shadow: 0px 1px 3px 1px rgba(0, 0, 0, 0.15);\n",
              "      filter: drop-shadow(0px 1px 2px rgba(0, 0, 0, 0.3));\n",
              "      fill: #FFFFFF;\n",
              "    }\n",
              "  </style>\n",
              "\n",
              "      <script>\n",
              "        const buttonEl =\n",
              "          document.querySelector('#df-53c655e6-73aa-4e8e-8a4f-5470d8563d13 button.colab-df-convert');\n",
              "        buttonEl.style.display =\n",
              "          google.colab.kernel.accessAllowed ? 'block' : 'none';\n",
              "\n",
              "        async function convertToInteractive(key) {\n",
              "          const element = document.querySelector('#df-53c655e6-73aa-4e8e-8a4f-5470d8563d13');\n",
              "          const dataTable =\n",
              "            await google.colab.kernel.invokeFunction('convertToInteractive',\n",
              "                                                     [key], {});\n",
              "          if (!dataTable) return;\n",
              "\n",
              "          const docLinkHtml = 'Like what you see? Visit the ' +\n",
              "            '<a target=\"_blank\" href=https://colab.research.google.com/notebooks/data_table.ipynb>data table notebook</a>'\n",
              "            + ' to learn more about interactive tables.';\n",
              "          element.innerHTML = '';\n",
              "          dataTable['output_type'] = 'display_data';\n",
              "          await google.colab.output.renderOutput(dataTable, element);\n",
              "          const docLink = document.createElement('div');\n",
              "          docLink.innerHTML = docLinkHtml;\n",
              "          element.appendChild(docLink);\n",
              "        }\n",
              "      </script>\n",
              "    </div>\n",
              "  </div>\n",
              "  "
            ]
          },
          "metadata": {},
          "execution_count": 53
        }
      ]
    },
    {
      "cell_type": "code",
      "source": [
        "df['x1'].hist()"
      ],
      "metadata": {
        "colab": {
          "base_uri": "https://localhost:8080/",
          "height": 282
        },
        "id": "_u77e-NVKrAC",
        "outputId": "2a44c67f-0e62-4a25-e70d-858e8dbc3956"
      },
      "execution_count": null,
      "outputs": [
        {
          "output_type": "execute_result",
          "data": {
            "text/plain": [
              "<matplotlib.axes._subplots.AxesSubplot at 0x7f0219bb1d50>"
            ]
          },
          "metadata": {},
          "execution_count": 54
        },
        {
          "output_type": "display_data",
          "data": {
            "text/plain": [
              "<Figure size 432x288 with 1 Axes>"
            ],
            "image/png": "[encoded data removed]"
          },
          "metadata": {
            "needs_background": "light"
          }
        }
      ]
    },
    {
      "cell_type": "code",
      "source": [
        "df.boxplot(column='x1')"
      ],
      "metadata": {
        "colab": {
          "base_uri": "https://localhost:8080/",
          "height": 284
        },
        "id": "4Y_Wk0JeNKQG",
        "outputId": "1e4bfa24-c8d6-491d-d719-fe9a326067dc"
      },
      "execution_count": null,
      "outputs": [
        {
          "output_type": "execute_result",
          "data": {
            "text/plain": [
              "<matplotlib.axes._subplots.AxesSubplot at 0x7f021c124e50>"
            ]
          },
          "metadata": {},
          "execution_count": 55
        },
        {
          "output_type": "display_data",
          "data": {
            "text/plain": [
              "<Figure size 432x288 with 1 Axes>"
            ],
            "image/png": "[encoded data removed]"
          },
          "metadata": {
            "needs_background": "light"
          }
        }
      ]
    },
    {
      "cell_type": "code",
      "source": [
        "df['x1'].hist()"
      ],
      "metadata": {
        "colab": {
          "base_uri": "https://localhost:8080/",
          "height": 282
        },
        "id": "rt1kXjvfVY83",
        "outputId": "9de28c1c-aa59-42ab-e018-b934651be085"
      },
      "execution_count": null,
      "outputs": [
        {
          "output_type": "execute_result",
          "data": {
            "text/plain": [
              "<matplotlib.axes._subplots.AxesSubplot at 0x7f0219a9e550>"
            ]
          },
          "metadata": {},
          "execution_count": 56
        },
        {
          "output_type": "display_data",
          "data": {
            "text/plain": [
              "<Figure size 432x288 with 1 Axes>"
            ],
            "image/png": "[encoded data removed]"
          },
          "metadata": {
            "needs_background": "light"
          }
        }
      ]
    },
    {
      "cell_type": "code",
      "source": [
        "low,high = df['x2'].quantile([a,b])\n",
        "iqr = high-low\n",
        "print(low,high)\n",
        "df = df.drop(df.index[df['x2']<low-(1.5*iqr)])\n",
        "df = df.drop(df.index[df['x2']>high+(1.5*iqr)])\n",
        "df.boxplot(column='x2')"
      ],
      "metadata": {
        "colab": {
          "base_uri": "https://localhost:8080/",
          "height": 300
        },
        "id": "INxVSJALN5n_",
        "outputId": "5f35e0d2-4526-4ab7-beb6-15ebb71d16b7"
      },
      "execution_count": null,
      "outputs": [
        {
          "output_type": "stream",
          "name": "stdout",
          "text": [
            "-60.46 84.71\n"
          ]
        },
        {
          "output_type": "execute_result",
          "data": {
            "text/plain": [
              "<matplotlib.axes._subplots.AxesSubplot at 0x7f0219a1be10>"
            ]
          },
          "metadata": {},
          "execution_count": 57
        },
        {
          "output_type": "display_data",
          "data": {
            "text/plain": [
              "<Figure size 432x288 with 1 Axes>"
            ],
            "image/png": "[encoded data removed]"
          },
          "metadata": {
            "needs_background": "light"
          }
        }
      ]
    },
    {
      "cell_type": "code",
      "source": [
        "df['x2'].hist()"
      ],
      "metadata": {
        "colab": {
          "base_uri": "https://localhost:8080/",
          "height": 282
        },
        "id": "0Ygv2twOVetf",
        "outputId": "4d4451a0-ac57-4b8b-cc7e-83652f603619"
      },
      "execution_count": null,
      "outputs": [
        {
          "output_type": "execute_result",
          "data": {
            "text/plain": [
              "<matplotlib.axes._subplots.AxesSubplot at 0x7f0219a04850>"
            ]
          },
          "metadata": {},
          "execution_count": 58
        },
        {
          "output_type": "display_data",
          "data": {
            "text/plain": [
              "<Figure size 432x288 with 1 Axes>"
            ],
            "image/png": "[encoded data removed]"
          },
          "metadata": {
            "needs_background": "light"
          }
        }
      ]
    },
    {
      "cell_type": "code",
      "source": [
        "low,high = df['x3'].quantile([a,b])\n",
        "iqr = high-low\n",
        "print(low,high)\n",
        "df = df.drop(df.index[df['x3']<low-(1.5*iqr)])\n",
        "df = df.drop(df.index[df['x3']>high+(1.5*iqr)])\n",
        "df.boxplot(column='x3')"
      ],
      "metadata": {
        "colab": {
          "base_uri": "https://localhost:8080/",
          "height": 300
        },
        "id": "r4TshQnLOxGv",
        "outputId": "9fcaeecb-b50f-49d9-d27f-f6b0a3368aae"
      },
      "execution_count": null,
      "outputs": [
        {
          "output_type": "stream",
          "name": "stdout",
          "text": [
            "-63.45 52.555\n"
          ]
        },
        {
          "output_type": "execute_result",
          "data": {
            "text/plain": [
              "<matplotlib.axes._subplots.AxesSubplot at 0x7f0219ee7f10>"
            ]
          },
          "metadata": {},
          "execution_count": 59
        },
        {
          "output_type": "display_data",
          "data": {
            "text/plain": [
              "<Figure size 432x288 with 1 Axes>"
            ],
            "image/png": "[encoded data removed]"
          },
          "metadata": {
            "needs_background": "light"
          }
        }
      ]
    },
    {
      "cell_type": "code",
      "source": [
        "df['x3'].hist()"
      ],
      "metadata": {
        "colab": {
          "base_uri": "https://localhost:8080/",
          "height": 282
        },
        "id": "IT-6FP8RViwP",
        "outputId": "ae51df1c-903f-4aca-fa48-f27776edd01f"
      },
      "execution_count": null,
      "outputs": [
        {
          "output_type": "execute_result",
          "data": {
            "text/plain": [
              "<matplotlib.axes._subplots.AxesSubplot at 0x7f0219bbd2d0>"
            ]
          },
          "metadata": {},
          "execution_count": 60
        },
        {
          "output_type": "display_data",
          "data": {
            "text/plain": [
              "<Figure size 432x288 with 1 Axes>"
            ],
            "image/png": "[encoded data removed]"
          },
          "metadata": {
            "needs_background": "light"
          }
        }
      ]
    },
    {
      "cell_type": "code",
      "source": [
        "df['x4'].sort_values(ascending=False)"
      ],
      "metadata": {
        "colab": {
          "base_uri": "https://localhost:8080/"
        },
        "id": "ctcTac80Qptt",
        "outputId": "3a962592-0ff6-4287-f367-bd4b1d196acb"
      },
      "execution_count": null,
      "outputs": [
        {
          "output_type": "execute_result",
          "data": {
            "text/plain": [
              "187    6083819.57\n",
              "181    6083819.57\n",
              "58     5590387.36\n",
              "163    5590387.36\n",
              "23       75108.88\n",
              "          ...    \n",
              "44            NaN\n",
              "48            NaN\n",
              "66            NaN\n",
              "162           NaN\n",
              "180           NaN\n",
              "Name: x4, Length: 168, dtype: float64"
            ]
          },
          "metadata": {},
          "execution_count": 61
        }
      ]
    },
    {
      "cell_type": "code",
      "source": [
        "low,high = df['x4'].quantile([a,b])\n",
        "iqr = high-low\n",
        "print(low,high)\n",
        "df = df.drop(df.index[df['x4']<low-(1.5*iqr)])\n",
        "df = df.drop(df.index[df['x4']>high+(1.5*iqr)])\n",
        "df.boxplot(column='x4')"
      ],
      "metadata": {
        "colab": {
          "base_uri": "https://localhost:8080/",
          "height": 300
        },
        "id": "NXUINf10O0Mm",
        "outputId": "d69531e2-b38f-4b56-e4a5-08a94819d466"
      },
      "execution_count": null,
      "outputs": [
        {
          "output_type": "stream",
          "name": "stdout",
          "text": [
            "1265.22 12891.33\n"
          ]
        },
        {
          "output_type": "execute_result",
          "data": {
            "text/plain": [
              "<matplotlib.axes._subplots.AxesSubplot at 0x7f0219879150>"
            ]
          },
          "metadata": {},
          "execution_count": 62
        },
        {
          "output_type": "display_data",
          "data": {
            "text/plain": [
              "<Figure size 432x288 with 1 Axes>"
            ],
            "image/png": "[encoded data removed]"
          },
          "metadata": {
            "needs_background": "light"
          }
        }
      ]
    },
    {
      "cell_type": "code",
      "source": [
        "df['x4'].hist()"
      ],
      "metadata": {
        "colab": {
          "base_uri": "https://localhost:8080/",
          "height": 282
        },
        "id": "mlc2fBaAVk4x",
        "outputId": "09e78e67-ee4e-4d4d-ca35-aea0b4090876"
      },
      "execution_count": null,
      "outputs": [
        {
          "output_type": "execute_result",
          "data": {
            "text/plain": [
              "<matplotlib.axes._subplots.AxesSubplot at 0x7f02197fa850>"
            ]
          },
          "metadata": {},
          "execution_count": 63
        },
        {
          "output_type": "display_data",
          "data": {
            "text/plain": [
              "<Figure size 432x288 with 1 Axes>"
            ],
            "image/png": "[encoded data removed]"
          },
          "metadata": {
            "needs_background": "light"
          }
        }
      ]
    },
    {
      "cell_type": "code",
      "source": [
        "df.boxplot(column='x4')"
      ],
      "metadata": {
        "colab": {
          "base_uri": "https://localhost:8080/",
          "height": 282
        },
        "id": "aN1-GJ4ylX9z",
        "outputId": "abb02852-2c49-4742-be77-0844f7c644c5"
      },
      "execution_count": null,
      "outputs": [
        {
          "output_type": "execute_result",
          "data": {
            "text/plain": [
              "<matplotlib.axes._subplots.AxesSubplot at 0x7f0219710950>"
            ]
          },
          "metadata": {},
          "execution_count": 64
        },
        {
          "output_type": "display_data",
          "data": {
            "text/plain": [
              "<Figure size 432x288 with 1 Axes>"
            ],
            "image/png": "[encoded data removed]"
          },
          "metadata": {
            "needs_background": "light"
          }
        }
      ]
    },
    {
      "cell_type": "code",
      "source": [
        "low,high = df['x5'].quantile([a,b])\n",
        "iqr = high-low\n",
        "print(low,high)\n",
        "df = df.drop(df.index[df['x5']<low-(1.5*iqr)])\n",
        "df = df.drop(df.index[df['x5']>high+(1.5*iqr)])\n",
        "df.boxplot(column='x5')"
      ],
      "metadata": {
        "colab": {
          "base_uri": "https://localhost:8080/",
          "height": 300
        },
        "id": "dAtGffJOO0UW",
        "outputId": "3d0e9a22-7b00-452d-dd02-b6c93fb2387c"
      },
      "execution_count": null,
      "outputs": [
        {
          "output_type": "stream",
          "name": "stdout",
          "text": [
            "-5.525 7.1325\n"
          ]
        },
        {
          "output_type": "execute_result",
          "data": {
            "text/plain": [
              "<matplotlib.axes._subplots.AxesSubplot at 0x7f021970da50>"
            ]
          },
          "metadata": {},
          "execution_count": 65
        },
        {
          "output_type": "display_data",
          "data": {
            "text/plain": [
              "<Figure size 432x288 with 1 Axes>"
            ],
            "image/png": "[encoded data removed]"
          },
          "metadata": {
            "needs_background": "light"
          }
        }
      ]
    },
    {
      "cell_type": "code",
      "source": [
        "df['x5'].hist()"
      ],
      "metadata": {
        "colab": {
          "base_uri": "https://localhost:8080/",
          "height": 282
        },
        "id": "ZRyMgUIVVmhJ",
        "outputId": "7e10b7fd-ccea-404c-e942-a6b56f934be7"
      },
      "execution_count": null,
      "outputs": [
        {
          "output_type": "execute_result",
          "data": {
            "text/plain": [
              "<matplotlib.axes._subplots.AxesSubplot at 0x7f021967a710>"
            ]
          },
          "metadata": {},
          "execution_count": 66
        },
        {
          "output_type": "display_data",
          "data": {
            "text/plain": [
              "<Figure size 432x288 with 1 Axes>"
            ],
            "image/png": "[encoded data removed]"
          },
          "metadata": {
            "needs_background": "light"
          }
        }
      ]
    },
    {
      "cell_type": "code",
      "source": [
        "low,high = df['x6'].quantile([a,b])\n",
        "iqr = high-low\n",
        "print(low,high)\n",
        "df = df.drop(df.index[df['x6']<low-(1.5*iqr)])\n",
        "df = df.drop(df.index[df['x6']>high+(1.5*iqr)])\n",
        "df.boxplot(column='x6')"
      ],
      "metadata": {
        "colab": {
          "base_uri": "https://localhost:8080/",
          "height": 300
        },
        "id": "xElk1RnsO0bG",
        "outputId": "0be3a93d-bdaa-4229-a59f-6de77c1f9fc0"
      },
      "execution_count": null,
      "outputs": [
        {
          "output_type": "stream",
          "name": "stdout",
          "text": [
            "-5.055 7.7175\n"
          ]
        },
        {
          "output_type": "execute_result",
          "data": {
            "text/plain": [
              "<matplotlib.axes._subplots.AxesSubplot at 0x7f021960be50>"
            ]
          },
          "metadata": {},
          "execution_count": 67
        },
        {
          "output_type": "display_data",
          "data": {
            "text/plain": [
              "<Figure size 432x288 with 1 Axes>"
            ],
            "image/png": "[encoded data removed]"
          },
          "metadata": {
            "needs_background": "light"
          }
        }
      ]
    },
    {
      "cell_type": "code",
      "source": [
        "df['x6'].hist()"
      ],
      "metadata": {
        "colab": {
          "base_uri": "https://localhost:8080/",
          "height": 282
        },
        "id": "ce10lw0nVoyo",
        "outputId": "50b8d05e-2952-47bf-f7ca-ad3ec983b381"
      },
      "execution_count": null,
      "outputs": [
        {
          "output_type": "execute_result",
          "data": {
            "text/plain": [
              "<matplotlib.axes._subplots.AxesSubplot at 0x7f021956dcd0>"
            ]
          },
          "metadata": {},
          "execution_count": 68
        },
        {
          "output_type": "display_data",
          "data": {
            "text/plain": [
              "<Figure size 432x288 with 1 Axes>"
            ],
            "image/png": "[encoded data removed]"
          },
          "metadata": {
            "needs_background": "light"
          }
        }
      ]
    },
    {
      "cell_type": "code",
      "source": [
        "low,high = df['x7'].quantile([a,b])\n",
        "iqr = high-low\n",
        "print(low,high)\n",
        "df = df.drop(df.index[df['x7']<low-(1.5*iqr)])\n",
        "df = df.drop(df.index[df['x7']>high+(1.5*iqr)])\n",
        "df.boxplot(column='x7')"
      ],
      "metadata": {
        "colab": {
          "base_uri": "https://localhost:8080/",
          "height": 300
        },
        "id": "bZEsoqRlO0iN",
        "outputId": "fe10901b-0729-4119-a9b9-e702bf3bd180"
      },
      "execution_count": null,
      "outputs": [
        {
          "output_type": "stream",
          "name": "stdout",
          "text": [
            "-5.735 5.96\n"
          ]
        },
        {
          "output_type": "execute_result",
          "data": {
            "text/plain": [
              "<matplotlib.axes._subplots.AxesSubplot at 0x7f02194d0e10>"
            ]
          },
          "metadata": {},
          "execution_count": 69
        },
        {
          "output_type": "display_data",
          "data": {
            "text/plain": [
              "<Figure size 432x288 with 1 Axes>"
            ],
            "image/png": "[encoded data removed]"
          },
          "metadata": {
            "needs_background": "light"
          }
        }
      ]
    },
    {
      "cell_type": "code",
      "source": [
        "df['x7'].hist()"
      ],
      "metadata": {
        "colab": {
          "base_uri": "https://localhost:8080/",
          "height": 282
        },
        "id": "2pHJxJ_hVriQ",
        "outputId": "612df4da-da13-4e76-a496-263e1e8e52fc"
      },
      "execution_count": null,
      "outputs": [
        {
          "output_type": "execute_result",
          "data": {
            "text/plain": [
              "<matplotlib.axes._subplots.AxesSubplot at 0x7f021946f410>"
            ]
          },
          "metadata": {},
          "execution_count": 70
        },
        {
          "output_type": "display_data",
          "data": {
            "text/plain": [
              "<Figure size 432x288 with 1 Axes>"
            ],
            "image/png": "[encoded data removed]"
          },
          "metadata": {
            "needs_background": "light"
          }
        }
      ]
    },
    {
      "cell_type": "code",
      "source": [
        "low,high = df['x8'].quantile([a,b])\n",
        "iqr = high-low\n",
        "print(low,high)\n",
        "df = df.drop(df.index[df['x8']<low-(1.5*iqr)])\n",
        "df = df.drop(df.index[df['x8']>high+(1.5*iqr)])\n",
        "df.boxplot(column='x8')"
      ],
      "metadata": {
        "colab": {
          "base_uri": "https://localhost:8080/",
          "height": 300
        },
        "id": "UCi9ejVrO0rF",
        "outputId": "9676eb74-7a5f-4ba1-c2ff-c0136f0b188f"
      },
      "execution_count": null,
      "outputs": [
        {
          "output_type": "stream",
          "name": "stdout",
          "text": [
            "-7.505 5.705\n"
          ]
        },
        {
          "output_type": "execute_result",
          "data": {
            "text/plain": [
              "<matplotlib.axes._subplots.AxesSubplot at 0x7f02193d5450>"
            ]
          },
          "metadata": {},
          "execution_count": 71
        },
        {
          "output_type": "display_data",
          "data": {
            "text/plain": [
              "<Figure size 432x288 with 1 Axes>"
            ],
            "image/png": "[encoded data removed]"
          },
          "metadata": {
            "needs_background": "light"
          }
        }
      ]
    },
    {
      "cell_type": "code",
      "source": [
        "df['x8'].hist()"
      ],
      "metadata": {
        "colab": {
          "base_uri": "https://localhost:8080/",
          "height": 285
        },
        "id": "JRzGgyvnVtSB",
        "outputId": "c14eee7f-659b-42a1-854d-5afe75b733de"
      },
      "execution_count": null,
      "outputs": [
        {
          "output_type": "execute_result",
          "data": {
            "text/plain": [
              "<matplotlib.axes._subplots.AxesSubplot at 0x7f021935c950>"
            ]
          },
          "metadata": {},
          "execution_count": 72
        },
        {
          "output_type": "display_data",
          "data": {
            "text/plain": [
              "<Figure size 432x288 with 1 Axes>"
            ],
            "image/png": "[encoded data removed]"
          },
          "metadata": {
            "needs_background": "light"
          }
        }
      ]
    },
    {
      "cell_type": "code",
      "source": [
        "df.info()"
      ],
      "metadata": {
        "colab": {
          "base_uri": "https://localhost:8080/"
        },
        "id": "YB_eJpvwSmmc",
        "outputId": "929e058a-9d1b-4397-94a4-3bce5ed0298b"
      },
      "execution_count": null,
      "outputs": [
        {
          "output_type": "stream",
          "name": "stdout",
          "text": [
            "<class 'pandas.core.frame.DataFrame'>\n",
            "Int64Index: 133 entries, 0 to 189\n",
            "Data columns (total 9 columns):\n",
            " #   Column  Non-Null Count  Dtype  \n",
            "---  ------  --------------  -----  \n",
            " 0   x1      127 non-null    float64\n",
            " 1   x2      125 non-null    float64\n",
            " 2   x3      123 non-null    float64\n",
            " 3   x4      127 non-null    float64\n",
            " 4   x5      127 non-null    float64\n",
            " 5   x6      125 non-null    float64\n",
            " 6   x7      124 non-null    float64\n",
            " 7   x8      127 non-null    float64\n",
            " 8   y       133 non-null    float64\n",
            "dtypes: float64(9)\n",
            "memory usage: 10.4 KB\n"
          ]
        }
      ]
    },
    {
      "cell_type": "code",
      "source": [
        "df['x1'] =df['x1'].fillna(df['x1'].mean())\n",
        "df['x2'] =df['x2'].fillna(df['x2'].mean())\n",
        "df['x3'] =df['x3'].fillna(df['x3'].mean())\n",
        "df['x4'] =df['x4'].fillna(df['x4'].mean())\n",
        "df['x5'] =df['x5'].fillna(df['x5'].mean())\n",
        "df['x6'] =df['x6'].fillna(df['x6'].mean())\n",
        "df['x7'] =df['x7'].fillna(df['x7'].mean())\n",
        "df['x8'] =df['x8'].fillna(df['x8'].mean())\n",
        "\n",
        "# df['x1'] =df['x1'].fillna(0)\n",
        "# df['x2'] =df['x2'].fillna(0)\n",
        "# df['x3'] =df['x3'].fillna(0)\n",
        "# df['x4'] =df['x4'].fillna(0)\n",
        "# df['x5'] =df['x5'].fillna(0)\n",
        "# df['x6'] =df['x6'].fillna(0)\n",
        "# df['x7'] =df['x7'].fillna(0)\n",
        "# df['x8'] =df['x8'].fillna(0)"
      ],
      "metadata": {
        "id": "DGqZ-1V4RSjI"
      },
      "execution_count": null,
      "outputs": []
    },
    {
      "cell_type": "code",
      "source": [
        "df.info()"
      ],
      "metadata": {
        "colab": {
          "base_uri": "https://localhost:8080/"
        },
        "id": "R80qzFTw79-F",
        "outputId": "5431e8a2-ae65-4361-9326-be84f53f7a1e"
      },
      "execution_count": null,
      "outputs": [
        {
          "output_type": "stream",
          "name": "stdout",
          "text": [
            "<class 'pandas.core.frame.DataFrame'>\n",
            "Int64Index: 133 entries, 0 to 189\n",
            "Data columns (total 9 columns):\n",
            " #   Column  Non-Null Count  Dtype  \n",
            "---  ------  --------------  -----  \n",
            " 0   x1      133 non-null    float64\n",
            " 1   x2      133 non-null    float64\n",
            " 2   x3      133 non-null    float64\n",
            " 3   x4      133 non-null    float64\n",
            " 4   x5      133 non-null    float64\n",
            " 5   x6      133 non-null    float64\n",
            " 6   x7      133 non-null    float64\n",
            " 7   x8      133 non-null    float64\n",
            " 8   y       133 non-null    float64\n",
            "dtypes: float64(9)\n",
            "memory usage: 10.4 KB\n"
          ]
        }
      ]
    },
    {
      "cell_type": "code",
      "source": [
        "# X=df[['x3','x8']]\n",
        "# # cut 1,2,4,5,7\n",
        "# y=df['y']\n",
        "# X_train ,X_test, y_train, y_test = train_test_split(X,y,test_size=0.25)\n",
        "# from sklearn.preprocessing import MinMaxScaler\n",
        "# scaler = MinMaxScaler(feature_range=(0, 1))\n",
        "\n",
        "# x_train_scaled = scaler.fit_transform(X_train)\n",
        "# X_train = pd.DataFrame(x_train_scaled)\n",
        "\n",
        "# x_test_scaled = scaler.fit_transform(X_test)\n",
        "# X_test = pd.DataFrame(x_test_scaled)\n",
        "# from sklearn import neighbors\n",
        "# from math import sqrt\n",
        "# rmse_val = []\n",
        "# mape_val=[]\n",
        "# mae_val=[]\n",
        "\n",
        "# from sklearn.model_selection import KFold\n",
        "# kf = KFold(n_splits=5)\n",
        "# for train_index,test_index in kf.split(X):\n",
        "#   X_train = X.iloc[train_index]\n",
        "#   X_test = X.iloc[test_index]\n",
        "#   y_train = y.iloc[train_index]\n",
        "#   y_test = y.iloc[test_index]\n",
        "\n",
        "#   model = neighbors.KNeighborsRegressor(n_neighbors = 3)\n",
        "#   model.fit(X_train, y_train)  #fit the model\n",
        "#   y_pred=model.predict(X_test) #make prediction on test set\n",
        "#   rmse_val.append(metrics.mean_squared_error(y_test,y_pred,squared=False))\n",
        "#   mape_val.append(np.mean(np.abs((y_test-y_pred)/y))*100)\n",
        "#   mae_val.append(np.mean(np.abs(y_test-y_pred)))\n",
        "# print(np.mean(rmse_val))\n",
        "# print(np.mean(mape_val))\n",
        "# print(np.mean(mae_val))\n",
        "# print(rmse_val)\n",
        "# print(mape_val)\n",
        "# print(mae_val)"
      ],
      "metadata": {
        "id": "xy-HCUgS7kg8"
      },
      "execution_count": null,
      "outputs": []
    },
    {
      "cell_type": "code",
      "source": [
        "# from sklearn.model_selection import GridSearchCV\n",
        "# params = {'n_neighbors':[2,3,4,5,6,7,8,9]}\n",
        "\n",
        "# knn = neighbors.KNeighborsRegressor()\n",
        "\n",
        "# model = GridSearchCV(knn, params, cv=5)\n",
        "# model.fit(X_train,y_train)\n",
        "# model.best_params_"
      ],
      "metadata": {
        "id": "R2n6pKo7_bxL"
      },
      "execution_count": null,
      "outputs": []
    },
    {
      "cell_type": "code",
      "source": [
        "df.corr().sort_values('y')[['y']]"
      ],
      "metadata": {
        "colab": {
          "base_uri": "https://localhost:8080/",
          "height": 331
        },
        "id": "nzPO7tqVRomc",
        "outputId": "cfb2cb5b-2217-4343-f582-92ba67910da8"
      },
      "execution_count": null,
      "outputs": [
        {
          "output_type": "execute_result",
          "data": {
            "text/plain": [
              "           y\n",
              "x8 -0.579959\n",
              "x5 -0.064143\n",
              "x1 -0.026436\n",
              "x2 -0.008513\n",
              "x6  0.077116\n",
              "x7  0.083717\n",
              "x4  0.085883\n",
              "x3  0.491941\n",
              "y   1.000000"
            ],
            "text/html": [
              "\n",
              "  <div id=\"df-964f205a-2643-47da-a87b-d5781c885529\">\n",
              "    <div class=\"colab-df-container\">\n",
              "      <div>\n",
              "<style scoped>\n",
              "    .dataframe tbody tr th:only-of-type {\n",
              "        vertical-align: middle;\n",
              "    }\n",
              "\n",
              "    .dataframe tbody tr th {\n",
              "        vertical-align: top;\n",
              "    }\n",
              "\n",
              "    .dataframe thead th {\n",
              "        text-align: right;\n",
              "    }\n",
              "</style>\n",
              "<table border=\"1\" class=\"dataframe\">\n",
              "  <thead>\n",
              "    <tr style=\"text-align: right;\">\n",
              "      <th></th>\n",
              "      <th>y</th>\n",
              "    </tr>\n",
              "  </thead>\n",
              "  <tbody>\n",
              "    <tr>\n",
              "      <th>x8</th>\n",
              "      <td>-0.579959</td>\n",
              "    </tr>\n",
              "    <tr>\n",
              "      <th>x5</th>\n",
              "      <td>-0.064143</td>\n",
              "    </tr>\n",
              "    <tr>\n",
              "      <th>x1</th>\n",
              "      <td>-0.026436</td>\n",
              "    </tr>\n",
              "    <tr>\n",
              "      <th>x2</th>\n",
              "      <td>-0.008513</td>\n",
              "    </tr>\n",
              "    <tr>\n",
              "      <th>x6</th>\n",
              "      <td>0.077116</td>\n",
              "    </tr>\n",
              "    <tr>\n",
              "      <th>x7</th>\n",
              "      <td>0.083717</td>\n",
              "    </tr>\n",
              "    <tr>\n",
              "      <th>x4</th>\n",
              "      <td>0.085883</td>\n",
              "    </tr>\n",
              "    <tr>\n",
              "      <th>x3</th>\n",
              "      <td>0.491941</td>\n",
              "    </tr>\n",
              "    <tr>\n",
              "      <th>y</th>\n",
              "      <td>1.000000</td>\n",
              "    </tr>\n",
              "  </tbody>\n",
              "</table>\n",
              "</div>\n",
              "      <button class=\"colab-df-convert\" onclick=\"convertToInteractive('df-964f205a-2643-47da-a87b-d5781c885529')\"\n",
              "              title=\"Convert this dataframe to an interactive table.\"\n",
              "              style=\"display:none;\">\n",
              "        \n",
              "  <svg xmlns=\"http://www.w3.org/2000/svg\" height=\"24px\"viewBox=\"0 0 24 24\"\n",
              "       width=\"24px\">\n",
              "    <path d=\"M0 0h24v24H0V0z\" fill=\"none\"/>\n",
              "    <path d=\"M18.56 5.44l.94 2.06.94-2.06 2.06-.94-2.06-.94-.94-2.06-.94 2.06-2.06.94zm-11 1L8.5 8.5l.94-2.06 2.06-.94-2.06-.94L8.5 2.5l-.94 2.06-2.06.94zm10 10l.94 2.06.94-2.06 2.06-.94-2.06-.94-.94-2.06-.94 2.06-2.06.94z\"/><path d=\"M17.41 7.96l-1.37-1.37c-.4-.4-.92-.59-1.43-.59-.52 0-1.04.2-1.43.59L10.3 9.45l-7.72 7.72c-.78.78-.78 2.05 0 2.83L4 21.41c.39.39.9.59 1.41.59.51 0 1.02-.2 1.41-.59l7.78-7.78 2.81-2.81c.8-.78.8-2.07 0-2.86zM5.41 20L4 18.59l7.72-7.72 1.47 1.35L5.41 20z\"/>\n",
              "  </svg>\n",
              "      </button>\n",
              "      \n",
              "  <style>\n",
              "    .colab-df-container {\n",
              "      display:flex;\n",
              "      flex-wrap:wrap;\n",
              "      gap: 12px;\n",
              "    }\n",
              "\n",
              "    .colab-df-convert {\n",
              "      background-color: #E8F0FE;\n",
              "      border: none;\n",
              "      border-radius: 50%;\n",
              "      cursor: pointer;\n",
              "      display: none;\n",
              "      fill: #1967D2;\n",
              "      height: 32px;\n",
              "      padding: 0 0 0 0;\n",
              "      width: 32px;\n",
              "    }\n",
              "\n",
              "    .colab-df-convert:hover {\n",
              "      background-color: #E2EBFA;\n",
              "      box-shadow: 0px 1px 2px rgba(60, 64, 67, 0.3), 0px 1px 3px 1px rgba(60, 64, 67, 0.15);\n",
              "      fill: #174EA6;\n",
              "    }\n",
              "\n",
              "    [theme=dark] .colab-df-convert {\n",
              "      background-color: #3B4455;\n",
              "      fill: #D2E3FC;\n",
              "    }\n",
              "\n",
              "    [theme=dark] .colab-df-convert:hover {\n",
              "      background-color: #434B5C;\n",
              "      box-shadow: 0px 1px 3px 1px rgba(0, 0, 0, 0.15);\n",
              "      filter: drop-shadow(0px 1px 2px rgba(0, 0, 0, 0.3));\n",
              "      fill: #FFFFFF;\n",
              "    }\n",
              "  </style>\n",
              "\n",
              "      <script>\n",
              "        const buttonEl =\n",
              "          document.querySelector('#df-964f205a-2643-47da-a87b-d5781c885529 button.colab-df-convert');\n",
              "        buttonEl.style.display =\n",
              "          google.colab.kernel.accessAllowed ? 'block' : 'none';\n",
              "\n",
              "        async function convertToInteractive(key) {\n",
              "          const element = document.querySelector('#df-964f205a-2643-47da-a87b-d5781c885529');\n",
              "          const dataTable =\n",
              "            await google.colab.kernel.invokeFunction('convertToInteractive',\n",
              "                                                     [key], {});\n",
              "          if (!dataTable) return;\n",
              "\n",
              "          const docLinkHtml = 'Like what you see? Visit the ' +\n",
              "            '<a target=\"_blank\" href=https://colab.research.google.com/notebooks/data_table.ipynb>data table notebook</a>'\n",
              "            + ' to learn more about interactive tables.';\n",
              "          element.innerHTML = '';\n",
              "          dataTable['output_type'] = 'display_data';\n",
              "          await google.colab.output.renderOutput(dataTable, element);\n",
              "          const docLink = document.createElement('div');\n",
              "          docLink.innerHTML = docLinkHtml;\n",
              "          element.appendChild(docLink);\n",
              "        }\n",
              "      </script>\n",
              "    </div>\n",
              "  </div>\n",
              "  "
            ]
          },
          "metadata": {},
          "execution_count": 78
        }
      ]
    },
    {
      "cell_type": "code",
      "source": [
        "X=df[['x3','x5','x8']]\n",
        "y=df['y']\n",
        "from sklearn import preprocessing\n",
        "scaler = preprocessing.StandardScaler().fit(X)\n",
        "X_scaled = scaler.transform(X)\n",
        "lm = LinearRegression()\n",
        "lm.fit(X_scaled,y)\n",
        "y_pred = lm.predict(X_scaled)\n",
        "rmse = metrics.mean_squared_error(y,y_pred,squared=False)\n",
        "print(rmse)\n",
        "mape = np.mean(np.abs((y-y_pred)/y))*100\n",
        "mape"
      ],
      "metadata": {
        "id": "PS6Qyc6-R8L1",
        "colab": {
          "base_uri": "https://localhost:8080/"
        },
        "outputId": "dd73aa34-a247-4eb9-f3ea-2fb0a3c7b4fe"
      },
      "execution_count": null,
      "outputs": [
        {
          "output_type": "stream",
          "name": "stdout",
          "text": [
            "4.038489855702641\n"
          ]
        },
        {
          "output_type": "execute_result",
          "data": {
            "text/plain": [
              "135.69245204462953"
            ]
          },
          "metadata": {},
          "execution_count": 79
        }
      ]
    },
    {
      "cell_type": "code",
      "source": [
        "rmse=[]\n",
        "mape=[]\n",
        "mae=[]\n",
        "X=df[['x3','x8']]\n",
        "\n",
        "# cut7,6,1,2,4,5\n",
        "# best!!!\n",
        "from sklearn.model_selection import KFold\n",
        "kf = KFold(n_splits=80)\n",
        "for train_index,test_index in kf.split(X):\n",
        "  X_train = X.iloc[train_index]\n",
        "  X_test = X.iloc[test_index]\n",
        "  y_train = y.iloc[train_index]\n",
        "  y_test = y.iloc[test_index]\n",
        "\n",
        "  lm = LinearRegression()\n",
        "  lm.fit(X_train,y_train)\n",
        "  y_pred = lm.predict(X_test)\n",
        "  rmse.append(metrics.mean_squared_error(y_test,y_pred,squared=False))\n",
        "  mape.append(np.mean(np.abs((y_test-y_pred)/y))*100)\n",
        "  mae.append(np.mean(np.abs(y_test-y_pred)))\n",
        "print(np.mean(rmse))\n",
        "print(np.mean(mape))\n",
        "print(np.mean(mae))\n",
        "print(rmse)\n",
        "print(mape)\n",
        "print(mae)\n",
        "lm.coef_\n",
        "lm.intercept_"
      ],
      "metadata": {
        "id": "z8jWR101Uy6I",
        "colab": {
          "base_uri": "https://localhost:8080/"
        },
        "outputId": "1c4a0763-76e6-442c-818d-3cfdab96d81c"
      },
      "execution_count": null,
      "outputs": [
        {
          "output_type": "stream",
          "name": "stdout",
          "text": [
            "3.5287846766865725\n",
            "127.47288859843927\n",
            "3.3433887740591084\n",
            "[1.9724276561929843, 2.4701533988182565, 2.759930592841558, 3.1461028916758442, 2.4163014157688547, 3.8484950450696034, 0.475649961828837, 4.4593764483695635, 0.2737646475154171, 4.236435675971716, 1.137804235954371, 3.3976794046167487, 0.515848573247354, 2.5355285033369794, 3.5601678851472287, 4.594803035388989, 2.0268332867383725, 2.3286338997819267, 1.79772045107478, 4.2467694178050515, 5.33554365414661, 8.038220954018515, 6.219651296534485, 3.387181592062117, 2.368647679589504, 7.356705028765947, 0.41034521234979526, 1.8518483331046813, 6.148363997191016, 5.41796301591337, 0.8663814728451115, 1.2161360229385556, 4.914929213315493, 2.3787729430187796, 3.0471730664988548, 2.892084682797135, 3.036313903725397, 4.5667054071643065, 1.911800419623511, 1.9108095222773662, 7.148742445213958, 1.6684757929122231, 5.485340498541775, 2.672772577241117, 6.477504100330169, 5.880414797099275, 2.747539588134631, 6.029777230915019, 5.165639161167812, 4.0717010222853505, 1.2388670807330644, 0.7222268397318794, 5.881420977467824, 6.5196994709666996, 5.873447742417728, 0.094087371023452, 4.119297340233584, 13.615930431540933, 3.486652907116562, 3.9439731706003807, 0.09786833443939891, 2.944887684164261, 0.9634615193965974, 3.7013180112398683, 5.896968622223785, 1.3392751280334263, 3.933580090475847, 4.128621483126211, 1.8782147119665709, 6.9449536137683605, 7.967845512041556, 4.031526079892561, 0.3656463252343889, 0.7323075262421277, 0.36419641725159524, 6.139630181098228, 2.520417061221117, 4.3262739577297475, 3.1257944576419865, 2.580473027039765]\n",
            "[26.63162484768427, 401.47071592800137, 43.31168866709413, 46.88957452261606, 238.67722154028436, 128.6714840411496, 21.299226187961857, 2394.711831614184, 12.800671004212965, 34.7012687767462, 21.016281449871784, 98.97517902360498, 10.932414634116643, 22.39639731187105, 41.63839189993341, 73.42845255062313, 25.423153504635245, 25.01126986329435, 70.28857153496048, 99.70151900598823, 136.06919137762446, 151.7737137238631, 296.18992368176794, 157.38970790741942, 20.435975727312137, 100.61236409942822, 18.85077514679564, 14.568406761506324, 123.8388791624578, 271.73155615069027, 29.12156122211581, 25.35615943488271, 115.8272073648558, 513.2444460438253, 33.09477026363986, 30.92820126288252, 50.136157229746225, 37.171015419899625, 21.229907971776047, 62.450557926869145, 1241.3324104327594, 32.32548268929732, 55.7500466176627, 44.28222607045008, 558.9276817778659, 89.10612721572211, 46.08066641567805, 54.1152994825983, 69.43118310097836, 32.29828646714186, 26.930436586698892, 21.847978104641577, 72.82074870447869, 71.88202283314993, 52.81877466202993, 2.591938595687383, 179.88197992286393, 71.3623188235898, 106.95254316308474, 43.67633633001529, 0.6392445097282751, 22.497232117374033, 125.12487264890875, 27.725228548613245, 41.97130691974223, 11.883541508726054, 90.63548595566468, 49.503854713743536, 12.597013494074922, 34.75952759643824, 138.57122629637487, 149.87085798857106, 19.658404582494025, 5.408475083029009, 9.173713280896605, 224.07409420066523, 12.925215698569831, 36.72558537970924, 82.47478780058012, 179.19951576665036]\n",
            "[1.9653963200907585, 2.2357089526418363, 2.736771763860381, 3.1281070430792077, 2.4106399375568723, 3.847963836158783, 0.4013410701088097, 3.6430252143632744, 0.2653104042377902, 3.7300451344126193, 1.0250801192284478, 3.193317677583285, 0.5153375033438341, 1.8507724136002135, 3.40696007536171, 3.7684296114153955, 1.684924013059853, 2.327993162603833, 1.4600211522828659, 4.239339833789296, 5.335455672637401, 8.02141966210598, 4.679814035172417, 3.3117168052448416, 2.02870288417912, 6.4177792882532465, 0.3549140349549713, 1.5315569119129981, 5.751440462074913, 4.671566503633473, 0.8645172000815543, 1.21138630002321, 4.640870436039735, 2.377773632053657, 2.3856362887892377, 2.2490625078763413, 3.0074692126276954, 4.466486670367327, 1.9052206030840817, 1.6857767565359496, 7.1248507708596005, 1.5978352597457979, 4.671919226573468, 2.4118089714348905, 6.153045194996059, 5.773743142618775, 2.7380364835331346, 5.923952524202946, 4.302033094403351, 2.9281860001280213, 1.1555967598592998, 0.7155053162082874, 5.603189895611044, 6.5196994709666996, 5.873447742417728, 0.094087371023452, 4.119297340233584, 13.615930431540933, 3.486652907116562, 3.9439731706003807, 0.09786833443939891, 2.944887684164261, 0.9634615193965974, 3.7013180112398683, 5.896968622223785, 1.3392751280334263, 3.933580090475847, 4.128621483126211, 1.8782147119665709, 6.9449536137683605, 7.967845512041556, 4.031526079892561, 0.3656463252343889, 0.7323075262421277, 0.36419641725159524, 6.139630181098228, 2.520417061221117, 4.3262739577297475, 3.1257944576419865, 2.580473027039765]\n"
          ]
        },
        {
          "output_type": "execute_result",
          "data": {
            "text/plain": [
              "3.8495978021028874"
            ]
          },
          "metadata": {},
          "execution_count": 80
        }
      ]
    },
    {
      "cell_type": "code",
      "source": [
        "test = pd.read_csv('A-test.csv')"
      ],
      "metadata": {
        "id": "5mEb-lEytqpP"
      },
      "execution_count": null,
      "outputs": []
    },
    {
      "cell_type": "code",
      "source": [
        "test[['x3','x8']]"
      ],
      "metadata": {
        "colab": {
          "base_uri": "https://localhost:8080/",
          "height": 363
        },
        "id": "SzPMhXF53FgW",
        "outputId": "fabaa81e-2bf4-4810-91cd-72b9f7e00e02"
      },
      "execution_count": null,
      "outputs": [
        {
          "output_type": "execute_result",
          "data": {
            "text/plain": [
              "       x3     x8\n",
              "0 -105.75  -7.43\n",
              "1   91.05  10.59\n",
              "2  -82.59  -4.73\n",
              "3     NaN   7.48\n",
              "4   51.85  -0.78\n",
              "5 -182.85  -8.59\n",
              "6   97.28  -8.06\n",
              "7 -220.91   9.71\n",
              "8  -16.47    NaN\n",
              "9   69.88  -0.83"
            ],
            "text/html": [
              "\n",
              "  <div id=\"df-4ce2d038-4553-4ead-8533-3d1ad6544278\">\n",
              "    <div class=\"colab-df-container\">\n",
              "      <div>\n",
              "<style scoped>\n",
              "    .dataframe tbody tr th:only-of-type {\n",
              "        vertical-align: middle;\n",
              "    }\n",
              "\n",
              "    .dataframe tbody tr th {\n",
              "        vertical-align: top;\n",
              "    }\n",
              "\n",
              "    .dataframe thead th {\n",
              "        text-align: right;\n",
              "    }\n",
              "</style>\n",
              "<table border=\"1\" class=\"dataframe\">\n",
              "  <thead>\n",
              "    <tr style=\"text-align: right;\">\n",
              "      <th></th>\n",
              "      <th>x3</th>\n",
              "      <th>x8</th>\n",
              "    </tr>\n",
              "  </thead>\n",
              "  <tbody>\n",
              "    <tr>\n",
              "      <th>0</th>\n",
              "      <td>-105.75</td>\n",
              "      <td>-7.43</td>\n",
              "    </tr>\n",
              "    <tr>\n",
              "      <th>1</th>\n",
              "      <td>91.05</td>\n",
              "      <td>10.59</td>\n",
              "    </tr>\n",
              "    <tr>\n",
              "      <th>2</th>\n",
              "      <td>-82.59</td>\n",
              "      <td>-4.73</td>\n",
              "    </tr>\n",
              "    <tr>\n",
              "      <th>3</th>\n",
              "      <td>NaN</td>\n",
              "      <td>7.48</td>\n",
              "    </tr>\n",
              "    <tr>\n",
              "      <th>4</th>\n",
              "      <td>51.85</td>\n",
              "      <td>-0.78</td>\n",
              "    </tr>\n",
              "    <tr>\n",
              "      <th>5</th>\n",
              "      <td>-182.85</td>\n",
              "      <td>-8.59</td>\n",
              "    </tr>\n",
              "    <tr>\n",
              "      <th>6</th>\n",
              "      <td>97.28</td>\n",
              "      <td>-8.06</td>\n",
              "    </tr>\n",
              "    <tr>\n",
              "      <th>7</th>\n",
              "      <td>-220.91</td>\n",
              "      <td>9.71</td>\n",
              "    </tr>\n",
              "    <tr>\n",
              "      <th>8</th>\n",
              "      <td>-16.47</td>\n",
              "      <td>NaN</td>\n",
              "    </tr>\n",
              "    <tr>\n",
              "      <th>9</th>\n",
              "      <td>69.88</td>\n",
              "      <td>-0.83</td>\n",
              "    </tr>\n",
              "  </tbody>\n",
              "</table>\n",
              "</div>\n",
              "      <button class=\"colab-df-convert\" onclick=\"convertToInteractive('df-4ce2d038-4553-4ead-8533-3d1ad6544278')\"\n",
              "              title=\"Convert this dataframe to an interactive table.\"\n",
              "              style=\"display:none;\">\n",
              "        \n",
              "  <svg xmlns=\"http://www.w3.org/2000/svg\" height=\"24px\"viewBox=\"0 0 24 24\"\n",
              "       width=\"24px\">\n",
              "    <path d=\"M0 0h24v24H0V0z\" fill=\"none\"/>\n",
              "    <path d=\"M18.56 5.44l.94 2.06.94-2.06 2.06-.94-2.06-.94-.94-2.06-.94 2.06-2.06.94zm-11 1L8.5 8.5l.94-2.06 2.06-.94-2.06-.94L8.5 2.5l-.94 2.06-2.06.94zm10 10l.94 2.06.94-2.06 2.06-.94-2.06-.94-.94-2.06-.94 2.06-2.06.94z\"/><path d=\"M17.41 7.96l-1.37-1.37c-.4-.4-.92-.59-1.43-.59-.52 0-1.04.2-1.43.59L10.3 9.45l-7.72 7.72c-.78.78-.78 2.05 0 2.83L4 21.41c.39.39.9.59 1.41.59.51 0 1.02-.2 1.41-.59l7.78-7.78 2.81-2.81c.8-.78.8-2.07 0-2.86zM5.41 20L4 18.59l7.72-7.72 1.47 1.35L5.41 20z\"/>\n",
              "  </svg>\n",
              "      </button>\n",
              "      \n",
              "  <style>\n",
              "    .colab-df-container {\n",
              "      display:flex;\n",
              "      flex-wrap:wrap;\n",
              "      gap: 12px;\n",
              "    }\n",
              "\n",
              "    .colab-df-convert {\n",
              "      background-color: #E8F0FE;\n",
              "      border: none;\n",
              "      border-radius: 50%;\n",
              "      cursor: pointer;\n",
              "      display: none;\n",
              "      fill: #1967D2;\n",
              "      height: 32px;\n",
              "      padding: 0 0 0 0;\n",
              "      width: 32px;\n",
              "    }\n",
              "\n",
              "    .colab-df-convert:hover {\n",
              "      background-color: #E2EBFA;\n",
              "      box-shadow: 0px 1px 2px rgba(60, 64, 67, 0.3), 0px 1px 3px 1px rgba(60, 64, 67, 0.15);\n",
              "      fill: #174EA6;\n",
              "    }\n",
              "\n",
              "    [theme=dark] .colab-df-convert {\n",
              "      background-color: #3B4455;\n",
              "      fill: #D2E3FC;\n",
              "    }\n",
              "\n",
              "    [theme=dark] .colab-df-convert:hover {\n",
              "      background-color: #434B5C;\n",
              "      box-shadow: 0px 1px 3px 1px rgba(0, 0, 0, 0.15);\n",
              "      filter: drop-shadow(0px 1px 2px rgba(0, 0, 0, 0.3));\n",
              "      fill: #FFFFFF;\n",
              "    }\n",
              "  </style>\n",
              "\n",
              "      <script>\n",
              "        const buttonEl =\n",
              "          document.querySelector('#df-4ce2d038-4553-4ead-8533-3d1ad6544278 button.colab-df-convert');\n",
              "        buttonEl.style.display =\n",
              "          google.colab.kernel.accessAllowed ? 'block' : 'none';\n",
              "\n",
              "        async function convertToInteractive(key) {\n",
              "          const element = document.querySelector('#df-4ce2d038-4553-4ead-8533-3d1ad6544278');\n",
              "          const dataTable =\n",
              "            await google.colab.kernel.invokeFunction('convertToInteractive',\n",
              "                                                     [key], {});\n",
              "          if (!dataTable) return;\n",
              "\n",
              "          const docLinkHtml = 'Like what you see? Visit the ' +\n",
              "            '<a target=\"_blank\" href=https://colab.research.google.com/notebooks/data_table.ipynb>data table notebook</a>'\n",
              "            + ' to learn more about interactive tables.';\n",
              "          element.innerHTML = '';\n",
              "          dataTable['output_type'] = 'display_data';\n",
              "          await google.colab.output.renderOutput(dataTable, element);\n",
              "          const docLink = document.createElement('div');\n",
              "          docLink.innerHTML = docLinkHtml;\n",
              "          element.appendChild(docLink);\n",
              "        }\n",
              "      </script>\n",
              "    </div>\n",
              "  </div>\n",
              "  "
            ]
          },
          "metadata": {},
          "execution_count": 82
        }
      ]
    },
    {
      "cell_type": "code",
      "source": [
        "test[['x3','x8']].mean()"
      ],
      "metadata": {
        "colab": {
          "base_uri": "https://localhost:8080/"
        },
        "id": "SrlX0As63NiW",
        "outputId": "c55b75f0-924a-4e71-c1b0-609bcfaf4884"
      },
      "execution_count": null,
      "outputs": [
        {
          "output_type": "execute_result",
          "data": {
            "text/plain": [
              "x3   -33.167778\n",
              "x8    -0.293333\n",
              "dtype: float64"
            ]
          },
          "metadata": {},
          "execution_count": 83
        }
      ]
    },
    {
      "cell_type": "code",
      "source": [
        "test['x3'] =test['x3'].fillna(test['x3'].mean())\n",
        "test['x8'] =test['x8'].fillna(test['x8'].mean())"
      ],
      "metadata": {
        "id": "MOUInxeZvPO1"
      },
      "execution_count": null,
      "outputs": []
    },
    {
      "cell_type": "code",
      "source": [
        "test[['x3','x8']]"
      ],
      "metadata": {
        "colab": {
          "base_uri": "https://localhost:8080/",
          "height": 363
        },
        "id": "-vXIXomQ3Rfe",
        "outputId": "7b7fb3f1-ed3b-4bc6-d396-c2e582b04725"
      },
      "execution_count": null,
      "outputs": [
        {
          "output_type": "execute_result",
          "data": {
            "text/plain": [
              "           x3         x8\n",
              "0 -105.750000  -7.430000\n",
              "1   91.050000  10.590000\n",
              "2  -82.590000  -4.730000\n",
              "3  -33.167778   7.480000\n",
              "4   51.850000  -0.780000\n",
              "5 -182.850000  -8.590000\n",
              "6   97.280000  -8.060000\n",
              "7 -220.910000   9.710000\n",
              "8  -16.470000  -0.293333\n",
              "9   69.880000  -0.830000"
            ],
            "text/html": [
              "\n",
              "  <div id=\"df-6f845355-4735-4ce9-9d2f-a8a92bb45553\">\n",
              "    <div class=\"colab-df-container\">\n",
              "      <div>\n",
              "<style scoped>\n",
              "    .dataframe tbody tr th:only-of-type {\n",
              "        vertical-align: middle;\n",
              "    }\n",
              "\n",
              "    .dataframe tbody tr th {\n",
              "        vertical-align: top;\n",
              "    }\n",
              "\n",
              "    .dataframe thead th {\n",
              "        text-align: right;\n",
              "    }\n",
              "</style>\n",
              "<table border=\"1\" class=\"dataframe\">\n",
              "  <thead>\n",
              "    <tr style=\"text-align: right;\">\n",
              "      <th></th>\n",
              "      <th>x3</th>\n",
              "      <th>x8</th>\n",
              "    </tr>\n",
              "  </thead>\n",
              "  <tbody>\n",
              "    <tr>\n",
              "      <th>0</th>\n",
              "      <td>-105.750000</td>\n",
              "      <td>-7.430000</td>\n",
              "    </tr>\n",
              "    <tr>\n",
              "      <th>1</th>\n",
              "      <td>91.050000</td>\n",
              "      <td>10.590000</td>\n",
              "    </tr>\n",
              "    <tr>\n",
              "      <th>2</th>\n",
              "      <td>-82.590000</td>\n",
              "      <td>-4.730000</td>\n",
              "    </tr>\n",
              "    <tr>\n",
              "      <th>3</th>\n",
              "      <td>-33.167778</td>\n",
              "      <td>7.480000</td>\n",
              "    </tr>\n",
              "    <tr>\n",
              "      <th>4</th>\n",
              "      <td>51.850000</td>\n",
              "      <td>-0.780000</td>\n",
              "    </tr>\n",
              "    <tr>\n",
              "      <th>5</th>\n",
              "      <td>-182.850000</td>\n",
              "      <td>-8.590000</td>\n",
              "    </tr>\n",
              "    <tr>\n",
              "      <th>6</th>\n",
              "      <td>97.280000</td>\n",
              "      <td>-8.060000</td>\n",
              "    </tr>\n",
              "    <tr>\n",
              "      <th>7</th>\n",
              "      <td>-220.910000</td>\n",
              "      <td>9.710000</td>\n",
              "    </tr>\n",
              "    <tr>\n",
              "      <th>8</th>\n",
              "      <td>-16.470000</td>\n",
              "      <td>-0.293333</td>\n",
              "    </tr>\n",
              "    <tr>\n",
              "      <th>9</th>\n",
              "      <td>69.880000</td>\n",
              "      <td>-0.830000</td>\n",
              "    </tr>\n",
              "  </tbody>\n",
              "</table>\n",
              "</div>\n",
              "      <button class=\"colab-df-convert\" onclick=\"convertToInteractive('df-6f845355-4735-4ce9-9d2f-a8a92bb45553')\"\n",
              "              title=\"Convert this dataframe to an interactive table.\"\n",
              "              style=\"display:none;\">\n",
              "        \n",
              "  <svg xmlns=\"http://www.w3.org/2000/svg\" height=\"24px\"viewBox=\"0 0 24 24\"\n",
              "       width=\"24px\">\n",
              "    <path d=\"M0 0h24v24H0V0z\" fill=\"none\"/>\n",
              "    <path d=\"M18.56 5.44l.94 2.06.94-2.06 2.06-.94-2.06-.94-.94-2.06-.94 2.06-2.06.94zm-11 1L8.5 8.5l.94-2.06 2.06-.94-2.06-.94L8.5 2.5l-.94 2.06-2.06.94zm10 10l.94 2.06.94-2.06 2.06-.94-2.06-.94-.94-2.06-.94 2.06-2.06.94z\"/><path d=\"M17.41 7.96l-1.37-1.37c-.4-.4-.92-.59-1.43-.59-.52 0-1.04.2-1.43.59L10.3 9.45l-7.72 7.72c-.78.78-.78 2.05 0 2.83L4 21.41c.39.39.9.59 1.41.59.51 0 1.02-.2 1.41-.59l7.78-7.78 2.81-2.81c.8-.78.8-2.07 0-2.86zM5.41 20L4 18.59l7.72-7.72 1.47 1.35L5.41 20z\"/>\n",
              "  </svg>\n",
              "      </button>\n",
              "      \n",
              "  <style>\n",
              "    .colab-df-container {\n",
              "      display:flex;\n",
              "      flex-wrap:wrap;\n",
              "      gap: 12px;\n",
              "    }\n",
              "\n",
              "    .colab-df-convert {\n",
              "      background-color: #E8F0FE;\n",
              "      border: none;\n",
              "      border-radius: 50%;\n",
              "      cursor: pointer;\n",
              "      display: none;\n",
              "      fill: #1967D2;\n",
              "      height: 32px;\n",
              "      padding: 0 0 0 0;\n",
              "      width: 32px;\n",
              "    }\n",
              "\n",
              "    .colab-df-convert:hover {\n",
              "      background-color: #E2EBFA;\n",
              "      box-shadow: 0px 1px 2px rgba(60, 64, 67, 0.3), 0px 1px 3px 1px rgba(60, 64, 67, 0.15);\n",
              "      fill: #174EA6;\n",
              "    }\n",
              "\n",
              "    [theme=dark] .colab-df-convert {\n",
              "      background-color: #3B4455;\n",
              "      fill: #D2E3FC;\n",
              "    }\n",
              "\n",
              "    [theme=dark] .colab-df-convert:hover {\n",
              "      background-color: #434B5C;\n",
              "      box-shadow: 0px 1px 3px 1px rgba(0, 0, 0, 0.15);\n",
              "      filter: drop-shadow(0px 1px 2px rgba(0, 0, 0, 0.3));\n",
              "      fill: #FFFFFF;\n",
              "    }\n",
              "  </style>\n",
              "\n",
              "      <script>\n",
              "        const buttonEl =\n",
              "          document.querySelector('#df-6f845355-4735-4ce9-9d2f-a8a92bb45553 button.colab-df-convert');\n",
              "        buttonEl.style.display =\n",
              "          google.colab.kernel.accessAllowed ? 'block' : 'none';\n",
              "\n",
              "        async function convertToInteractive(key) {\n",
              "          const element = document.querySelector('#df-6f845355-4735-4ce9-9d2f-a8a92bb45553');\n",
              "          const dataTable =\n",
              "            await google.colab.kernel.invokeFunction('convertToInteractive',\n",
              "                                                     [key], {});\n",
              "          if (!dataTable) return;\n",
              "\n",
              "          const docLinkHtml = 'Like what you see? Visit the ' +\n",
              "            '<a target=\"_blank\" href=https://colab.research.google.com/notebooks/data_table.ipynb>data table notebook</a>'\n",
              "            + ' to learn more about interactive tables.';\n",
              "          element.innerHTML = '';\n",
              "          dataTable['output_type'] = 'display_data';\n",
              "          await google.colab.output.renderOutput(dataTable, element);\n",
              "          const docLink = document.createElement('div');\n",
              "          docLink.innerHTML = docLinkHtml;\n",
              "          element.appendChild(docLink);\n",
              "        }\n",
              "      </script>\n",
              "    </div>\n",
              "  </div>\n",
              "  "
            ]
          },
          "metadata": {},
          "execution_count": 85
        }
      ]
    },
    {
      "cell_type": "code",
      "source": [
        "Xfinal = test[['x3','x8']]"
      ],
      "metadata": {
        "id": "h4jFpwxDvkok"
      },
      "execution_count": null,
      "outputs": []
    },
    {
      "cell_type": "code",
      "source": [
        "X=df[['x3','x8']]\n",
        "y=df['y']\n",
        "model=LinearRegression()\n",
        "model.fit(X,y)"
      ],
      "metadata": {
        "colab": {
          "base_uri": "https://localhost:8080/"
        },
        "id": "DoLQfWzKz1HJ",
        "outputId": "c616f874-8fb6-4e34-d2f5-6ceba326edf8"
      },
      "execution_count": null,
      "outputs": [
        {
          "output_type": "execute_result",
          "data": {
            "text/plain": [
              "LinearRegression()"
            ]
          },
          "metadata": {},
          "execution_count": 87
        }
      ]
    },
    {
      "cell_type": "code",
      "source": [
        "yfinal = model.predict(Xfinal)"
      ],
      "metadata": {
        "id": "9VqsoBfWvuit"
      },
      "execution_count": null,
      "outputs": []
    },
    {
      "cell_type": "code",
      "source": [
        "yfinal"
      ],
      "metadata": {
        "colab": {
          "base_uri": "https://localhost:8080/"
        },
        "id": "ivyCU1UHv5h0",
        "outputId": "656ffeb8-9662-40b2-c485-1662615310d7"
      },
      "execution_count": null,
      "outputs": [
        {
          "output_type": "execute_result",
          "data": {
            "text/plain": [
              "array([  2.04686337,   3.19668597,   1.88247332,  -1.80410816,\n",
              "         6.99265243,  -1.455547  ,  13.17598654, -12.94746274,\n",
              "         3.10559096,   7.97789349])"
            ]
          },
          "metadata": {},
          "execution_count": 89
        }
      ]
    },
    {
      "cell_type": "code",
      "source": [
        "y2 = lm.predict(Xfinal)"
      ],
      "metadata": {
        "id": "0wfoRbNU08Wj"
      },
      "execution_count": null,
      "outputs": []
    },
    {
      "cell_type": "code",
      "source": [
        "y2"
      ],
      "metadata": {
        "colab": {
          "base_uri": "https://localhost:8080/"
        },
        "id": "GMa0nqGn1Dp5",
        "outputId": "a40d86aa-a725-4da2-d3ff-b11e65c129d2"
      },
      "execution_count": null,
      "outputs": [
        {
          "output_type": "execute_result",
          "data": {
            "text/plain": [
              "array([  2.0693996 ,   3.21330146,   1.90430562,  -1.78385763,\n",
              "         7.01054334,  -1.43076408,  13.19265197, -12.92180383,\n",
              "         3.12545402,   7.99526298])"
            ]
          },
          "metadata": {},
          "execution_count": 91
        }
      ]
    }
  ]
}